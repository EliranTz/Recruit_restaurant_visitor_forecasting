{
 "cells": [
  {
   "cell_type": "code",
   "execution_count": 27,
   "metadata": {},
   "outputs": [],
   "source": [
    "# https://scikit-learn.org/stable/modules/linear_model.html#logistic-regression\n",
    "import pandas as pd\n",
    "import numpy as np\n",
    "import seaborn as sns\n",
    "import sklearn.metrics as metrics\n",
    "from sklearn.linear_model import LinearRegression\n",
    "from sklearn.tree import DecisionTreeRegressor\n",
    "from sklearn.ensemble import RandomForestRegressor, AdaBoostRegressor, GradientBoostingRegressor\n",
    "from sklearn.svm import SVR\n",
    "from sklearn.neighbors import KNeighborsRegressor\n",
    "from sklearn.model_selection import train_test_split\n",
    "from sklearn import linear_model\n",
    "from sklearn.linear_model import RidgeClassifier\n",
    "from sklearn.preprocessing import PolynomialFeatures\n",
    "%matplotlib inline\n",
    "from sklearn.metrics import mean_squared_error\n",
    "from sklearn.neural_network import MLPRegressor\n",
    "from sklearn.datasets import make_regression\n",
    "from xgboost.sklearn import XGBRegressor\n",
    "from numpy import asarray\n",
    "from numpy import mean\n",
    "from numpy import std\n",
    "from sklearn.datasets import make_classification\n",
    "from xgboost import XGBClassifier\n",
    "from sklearn.model_selection import cross_val_score\n",
    "from sklearn.model_selection import RepeatedStratifiedKFold\n",
    "from matplotlib import pyplot\n",
    "from sklearn.linear_model import SGDClassifier\n",
    "from sklearn.kernel_ridge import KernelRidge\n",
    "from sklearn.linear_model import ElasticNet"
   ]
  },
  {
   "cell_type": "code",
   "execution_count": 28,
   "metadata": {},
   "outputs": [],
   "source": [
    "def regressionMetrics(y, yhat):\n",
    "    res = {'MSE': metrics.mean_squared_error(y,yhat),\n",
    "           'RMSE': np.sqrt(metrics.mean_squared_error(y,yhat)),\n",
    "           'MAE': metrics.mean_absolute_error(y,yhat),\n",
    "           'MSLE': metrics.mean_squared_log_error(y,yhat),\n",
    "           'RMSLE': np.sqrt(metrics.mean_squared_log_error(y,yhat))\n",
    "          }\n",
    "    return res"
   ]
  },
  {
   "cell_type": "code",
   "execution_count": 29,
   "metadata": {},
   "outputs": [],
   "source": [
    "## example = test the model\n",
    "y = [2,4,6,8,10]\n",
    "y_hat = [2,3,4,5,30]"
   ]
  },
  {
   "cell_type": "code",
   "execution_count": 30,
   "metadata": {},
   "outputs": [
    {
     "data": {
      "text/plain": [
       "{'MSE': 82.8,\n",
       " 'RMSE': 9.09945053286186,\n",
       " 'MAE': 5.2,\n",
       " 'MSLE': 0.28017901106191967,\n",
       " 'RMSLE': 0.5293193847403661}"
      ]
     },
     "execution_count": 30,
     "metadata": {},
     "output_type": "execute_result"
    }
   ],
   "source": [
    "regressionMetrics(y, y_hat)"
   ]
  },
  {
   "cell_type": "code",
   "execution_count": 31,
   "metadata": {},
   "outputs": [
    {
     "data": {
      "text/html": [
       "<div>\n",
       "<style scoped>\n",
       "    .dataframe tbody tr th:only-of-type {\n",
       "        vertical-align: middle;\n",
       "    }\n",
       "\n",
       "    .dataframe tbody tr th {\n",
       "        vertical-align: top;\n",
       "    }\n",
       "\n",
       "    .dataframe thead th {\n",
       "        text-align: right;\n",
       "    }\n",
       "</style>\n",
       "<table border=\"1\" class=\"dataframe\">\n",
       "  <thead>\n",
       "    <tr style=\"text-align: right;\">\n",
       "      <th></th>\n",
       "      <th>max_visitors</th>\n",
       "      <th>avg_visitors</th>\n",
       "      <th>count_visitors</th>\n",
       "      <th>weekend_visitors</th>\n",
       "      <th>sum_visitors</th>\n",
       "    </tr>\n",
       "  </thead>\n",
       "  <tbody>\n",
       "    <tr>\n",
       "      <th>count</th>\n",
       "      <td>27059.000000</td>\n",
       "      <td>27059.000000</td>\n",
       "      <td>27059.000000</td>\n",
       "      <td>27059.000000</td>\n",
       "      <td>27059.000000</td>\n",
       "    </tr>\n",
       "    <tr>\n",
       "      <th>mean</th>\n",
       "      <td>35.033002</td>\n",
       "      <td>20.649248</td>\n",
       "      <td>6.507077</td>\n",
       "      <td>289.326509</td>\n",
       "      <td>144.707417</td>\n",
       "    </tr>\n",
       "    <tr>\n",
       "      <th>std</th>\n",
       "      <td>22.058590</td>\n",
       "      <td>12.636614</td>\n",
       "      <td>3.597102</td>\n",
       "      <td>355.811326</td>\n",
       "      <td>177.932968</td>\n",
       "    </tr>\n",
       "    <tr>\n",
       "      <th>min</th>\n",
       "      <td>1.000000</td>\n",
       "      <td>1.000000</td>\n",
       "      <td>1.000000</td>\n",
       "      <td>1.000000</td>\n",
       "      <td>1.000000</td>\n",
       "    </tr>\n",
       "    <tr>\n",
       "      <th>25%</th>\n",
       "      <td>19.000000</td>\n",
       "      <td>11.000000</td>\n",
       "      <td>6.000000</td>\n",
       "      <td>128.000000</td>\n",
       "      <td>65.000000</td>\n",
       "    </tr>\n",
       "    <tr>\n",
       "      <th>50%</th>\n",
       "      <td>31.000000</td>\n",
       "      <td>18.000000</td>\n",
       "      <td>6.000000</td>\n",
       "      <td>224.000000</td>\n",
       "      <td>112.000000</td>\n",
       "    </tr>\n",
       "    <tr>\n",
       "      <th>75%</th>\n",
       "      <td>47.000000</td>\n",
       "      <td>28.000000</td>\n",
       "      <td>7.000000</td>\n",
       "      <td>368.000000</td>\n",
       "      <td>184.000000</td>\n",
       "    </tr>\n",
       "    <tr>\n",
       "      <th>max</th>\n",
       "      <td>675.000000</td>\n",
       "      <td>174.000000</td>\n",
       "      <td>97.000000</td>\n",
       "      <td>23338.000000</td>\n",
       "      <td>11669.000000</td>\n",
       "    </tr>\n",
       "  </tbody>\n",
       "</table>\n",
       "</div>"
      ],
      "text/plain": [
       "       max_visitors  avg_visitors  count_visitors  weekend_visitors  \\\n",
       "count  27059.000000  27059.000000    27059.000000      27059.000000   \n",
       "mean      35.033002     20.649248        6.507077        289.326509   \n",
       "std       22.058590     12.636614        3.597102        355.811326   \n",
       "min        1.000000      1.000000        1.000000          1.000000   \n",
       "25%       19.000000     11.000000        6.000000        128.000000   \n",
       "50%       31.000000     18.000000        6.000000        224.000000   \n",
       "75%       47.000000     28.000000        7.000000        368.000000   \n",
       "max      675.000000    174.000000       97.000000      23338.000000   \n",
       "\n",
       "       sum_visitors  \n",
       "count  27059.000000  \n",
       "mean     144.707417  \n",
       "std      177.932968  \n",
       "min        1.000000  \n",
       "25%       65.000000  \n",
       "50%      112.000000  \n",
       "75%      184.000000  \n",
       "max    11669.000000  "
      ]
     },
     "execution_count": 31,
     "metadata": {},
     "output_type": "execute_result"
    }
   ],
   "source": [
    "df = pd.read_csv (r'C:\\Users\\elira\\DataScience\\projects\\project_DB_recruit_restaurant_visitor_forecasting\\Final\\test_dev_train\\train_data.csv')\n",
    "df.describe()"
   ]
  },
  {
   "cell_type": "code",
   "execution_count": 32,
   "metadata": {},
   "outputs": [],
   "source": [
    "X = df.drop(['sum_visitors'],axis=1).values # independant features\n",
    "y = df['sum_visitors']                     # dependant variable"
   ]
  },
  {
   "cell_type": "code",
   "execution_count": 33,
   "metadata": {},
   "outputs": [],
   "source": [
    "models_list = pd.DataFrame()"
   ]
  },
  {
   "cell_type": "markdown",
   "metadata": {},
   "source": [
    "### Linear Regression"
   ]
  },
  {
   "cell_type": "code",
   "execution_count": 34,
   "metadata": {},
   "outputs": [],
   "source": [
    "mod1 = LinearRegression()\n",
    "mod1.fit(X,y)\n",
    "\n",
    "pred1 = mod1.predict(X)"
   ]
  },
  {
   "cell_type": "code",
   "execution_count": 35,
   "metadata": {},
   "outputs": [
    {
     "data": {
      "text/plain": [
       "{'MSE': 7.464963316737358,\n",
       " 'RMSE': 2.7322085053555774,\n",
       " 'MAE': 0.16510348852820828,\n",
       " 'MSLE': 0.000796891627317003,\n",
       " 'RMSLE': 0.028229268983043166}"
      ]
     },
     "execution_count": 35,
     "metadata": {},
     "output_type": "execute_result"
    }
   ],
   "source": [
    "regressionMetrics(y, pred1)"
   ]
  },
  {
   "cell_type": "code",
   "execution_count": 36,
   "metadata": {},
   "outputs": [
    {
     "data": {
      "text/html": [
       "<div>\n",
       "<style scoped>\n",
       "    .dataframe tbody tr th:only-of-type {\n",
       "        vertical-align: middle;\n",
       "    }\n",
       "\n",
       "    .dataframe tbody tr th {\n",
       "        vertical-align: top;\n",
       "    }\n",
       "\n",
       "    .dataframe thead th {\n",
       "        text-align: right;\n",
       "    }\n",
       "</style>\n",
       "<table border=\"1\" class=\"dataframe\">\n",
       "  <thead>\n",
       "    <tr style=\"text-align: right;\">\n",
       "      <th></th>\n",
       "      <th>MAE</th>\n",
       "      <th>MSE</th>\n",
       "      <th>MSLE</th>\n",
       "      <th>RMSE</th>\n",
       "      <th>RMSLE</th>\n",
       "      <th>model</th>\n",
       "    </tr>\n",
       "  </thead>\n",
       "  <tbody>\n",
       "    <tr>\n",
       "      <th>0</th>\n",
       "      <td>0.165103</td>\n",
       "      <td>7.464963</td>\n",
       "      <td>0.000797</td>\n",
       "      <td>2.732209</td>\n",
       "      <td>0.028229</td>\n",
       "      <td>LinearRegression</td>\n",
       "    </tr>\n",
       "  </tbody>\n",
       "</table>\n",
       "</div>"
      ],
      "text/plain": [
       "        MAE       MSE      MSLE      RMSE     RMSLE             model\n",
       "0  0.165103  7.464963  0.000797  2.732209  0.028229  LinearRegression"
      ]
     },
     "execution_count": 36,
     "metadata": {},
     "output_type": "execute_result"
    }
   ],
   "source": [
    "model_dict = {'model': \"LinearRegression\"}\n",
    "models_list = models_list.append({**model_dict, **regressionMetrics(y, pred1)}, ignore_index=True)\n",
    "models_list"
   ]
  },
  {
   "cell_type": "code",
   "execution_count": 37,
   "metadata": {},
   "outputs": [
    {
     "name": "stderr",
     "output_type": "stream",
     "text": [
      "C:\\Users\\elira\\anaconda3\\lib\\site-packages\\seaborn\\_decorators.py:36: FutureWarning: Pass the following variables as keyword args: x, y. From version 0.12, the only valid positional argument will be `data`, and passing other arguments without an explicit keyword will result in an error or misinterpretation.\n",
      "  warnings.warn(\n"
     ]
    },
    {
     "data": {
      "text/plain": [
       "<AxesSubplot:xlabel='sum_visitors'>"
      ]
     },
     "execution_count": 37,
     "metadata": {},
     "output_type": "execute_result"
    },
    {
     "data": {
      "image/png": "[encoded data removed]",
      "text/plain": [
       "<Figure size 432x288 with 1 Axes>"
      ]
     },
     "metadata": {
      "needs_background": "light"
     },
     "output_type": "display_data"
    }
   ],
   "source": [
    "sns.scatterplot(y, pred1)"
   ]
  },
  {
   "cell_type": "markdown",
   "metadata": {},
   "source": [
    "### Decision Tree"
   ]
  },
  {
   "cell_type": "code",
   "execution_count": 38,
   "metadata": {},
   "outputs": [
    {
     "data": {
      "text/plain": [
       "DecisionTreeRegressor(random_state=1)"
      ]
     },
     "execution_count": 38,
     "metadata": {},
     "output_type": "execute_result"
    }
   ],
   "source": [
    "mod2 = DecisionTreeRegressor(random_state=1)\n",
    "mod2.fit(X,y)"
   ]
  },
  {
   "cell_type": "code",
   "execution_count": 39,
   "metadata": {},
   "outputs": [
    {
     "data": {
      "text/html": [
       "<div>\n",
       "<style scoped>\n",
       "    .dataframe tbody tr th:only-of-type {\n",
       "        vertical-align: middle;\n",
       "    }\n",
       "\n",
       "    .dataframe tbody tr th {\n",
       "        vertical-align: top;\n",
       "    }\n",
       "\n",
       "    .dataframe thead th {\n",
       "        text-align: right;\n",
       "    }\n",
       "</style>\n",
       "<table border=\"1\" class=\"dataframe\">\n",
       "  <thead>\n",
       "    <tr style=\"text-align: right;\">\n",
       "      <th></th>\n",
       "      <th>MAE</th>\n",
       "      <th>MSE</th>\n",
       "      <th>MSLE</th>\n",
       "      <th>RMSE</th>\n",
       "      <th>RMSLE</th>\n",
       "      <th>model</th>\n",
       "    </tr>\n",
       "  </thead>\n",
       "  <tbody>\n",
       "    <tr>\n",
       "      <th>0</th>\n",
       "      <td>0.165103</td>\n",
       "      <td>7.464963</td>\n",
       "      <td>0.000797</td>\n",
       "      <td>2.732209</td>\n",
       "      <td>0.028229</td>\n",
       "      <td>LinearRegression</td>\n",
       "    </tr>\n",
       "    <tr>\n",
       "      <th>1</th>\n",
       "      <td>0.000000</td>\n",
       "      <td>0.000000</td>\n",
       "      <td>0.000000</td>\n",
       "      <td>0.000000</td>\n",
       "      <td>0.000000</td>\n",
       "      <td>Decision Tree</td>\n",
       "    </tr>\n",
       "  </tbody>\n",
       "</table>\n",
       "</div>"
      ],
      "text/plain": [
       "        MAE       MSE      MSLE      RMSE     RMSLE             model\n",
       "0  0.165103  7.464963  0.000797  2.732209  0.028229  LinearRegression\n",
       "1  0.000000  0.000000  0.000000  0.000000  0.000000     Decision Tree"
      ]
     },
     "execution_count": 39,
     "metadata": {},
     "output_type": "execute_result"
    }
   ],
   "source": [
    "pred2 = mod2.predict(X)\n",
    "model_dict = {'model': \"Decision Tree\"}\n",
    "models_list = models_list.append({**model_dict, **regressionMetrics(y, pred2)}, ignore_index=True)\n",
    "models_list"
   ]
  },
  {
   "cell_type": "code",
   "execution_count": 40,
   "metadata": {},
   "outputs": [
    {
     "name": "stderr",
     "output_type": "stream",
     "text": [
      "C:\\Users\\elira\\anaconda3\\lib\\site-packages\\seaborn\\_decorators.py:36: FutureWarning: Pass the following variables as keyword args: x, y. From version 0.12, the only valid positional argument will be `data`, and passing other arguments without an explicit keyword will result in an error or misinterpretation.\n",
      "  warnings.warn(\n"
     ]
    },
    {
     "data": {
      "text/plain": [
       "<AxesSubplot:xlabel='sum_visitors'>"
      ]
     },
     "execution_count": 40,
     "metadata": {},
     "output_type": "execute_result"
    },
    {
     "data": {
      "image/png": "[encoded data removed]",
      "text/plain": [
       "<Figure size 432x288 with 1 Axes>"
      ]
     },
     "metadata": {
      "needs_background": "light"
     },
     "output_type": "display_data"
    }
   ],
   "source": [
    "sns.scatterplot(y, pred2)"
   ]
  },
  {
   "cell_type": "markdown",
   "metadata": {},
   "source": [
    "### Random Forest"
   ]
  },
  {
   "cell_type": "code",
   "execution_count": 41,
   "metadata": {},
   "outputs": [
    {
     "data": {
      "text/plain": [
       "RandomForestRegressor(random_state=1)"
      ]
     },
     "execution_count": 41,
     "metadata": {},
     "output_type": "execute_result"
    }
   ],
   "source": [
    "mod3 = RandomForestRegressor(random_state=1)\n",
    "mod3.fit(X,y)"
   ]
  },
  {
   "cell_type": "code",
   "execution_count": 42,
   "metadata": {},
   "outputs": [
    {
     "data": {
      "text/html": [
       "<div>\n",
       "<style scoped>\n",
       "    .dataframe tbody tr th:only-of-type {\n",
       "        vertical-align: middle;\n",
       "    }\n",
       "\n",
       "    .dataframe tbody tr th {\n",
       "        vertical-align: top;\n",
       "    }\n",
       "\n",
       "    .dataframe thead th {\n",
       "        text-align: right;\n",
       "    }\n",
       "</style>\n",
       "<table border=\"1\" class=\"dataframe\">\n",
       "  <thead>\n",
       "    <tr style=\"text-align: right;\">\n",
       "      <th></th>\n",
       "      <th>MAE</th>\n",
       "      <th>MSE</th>\n",
       "      <th>MSLE</th>\n",
       "      <th>RMSE</th>\n",
       "      <th>RMSLE</th>\n",
       "      <th>model</th>\n",
       "    </tr>\n",
       "  </thead>\n",
       "  <tbody>\n",
       "    <tr>\n",
       "      <th>0</th>\n",
       "      <td>0.165103</td>\n",
       "      <td>7.464963</td>\n",
       "      <td>0.000797</td>\n",
       "      <td>2.732209</td>\n",
       "      <td>0.028229</td>\n",
       "      <td>LinearRegression</td>\n",
       "    </tr>\n",
       "    <tr>\n",
       "      <th>1</th>\n",
       "      <td>0.000000</td>\n",
       "      <td>0.000000</td>\n",
       "      <td>0.000000</td>\n",
       "      <td>0.000000</td>\n",
       "      <td>0.000000</td>\n",
       "      <td>Decision Tree</td>\n",
       "    </tr>\n",
       "    <tr>\n",
       "      <th>2</th>\n",
       "      <td>0.219622</td>\n",
       "      <td>402.011087</td>\n",
       "      <td>0.000032</td>\n",
       "      <td>20.050214</td>\n",
       "      <td>0.005633</td>\n",
       "      <td>RandomForest</td>\n",
       "    </tr>\n",
       "  </tbody>\n",
       "</table>\n",
       "</div>"
      ],
      "text/plain": [
       "        MAE         MSE      MSLE       RMSE     RMSLE             model\n",
       "0  0.165103    7.464963  0.000797   2.732209  0.028229  LinearRegression\n",
       "1  0.000000    0.000000  0.000000   0.000000  0.000000     Decision Tree\n",
       "2  0.219622  402.011087  0.000032  20.050214  0.005633      RandomForest"
      ]
     },
     "execution_count": 42,
     "metadata": {},
     "output_type": "execute_result"
    }
   ],
   "source": [
    "pred3 = mod3.predict(X)\n",
    "model_dict = {'model': \"RandomForest\"}\n",
    "models_list = models_list.append({**model_dict, **regressionMetrics(y, pred3)}, ignore_index=True)\n",
    "models_list"
   ]
  },
  {
   "cell_type": "code",
   "execution_count": 43,
   "metadata": {},
   "outputs": [
    {
     "name": "stderr",
     "output_type": "stream",
     "text": [
      "C:\\Users\\elira\\anaconda3\\lib\\site-packages\\seaborn\\_decorators.py:36: FutureWarning: Pass the following variables as keyword args: x, y. From version 0.12, the only valid positional argument will be `data`, and passing other arguments without an explicit keyword will result in an error or misinterpretation.\n",
      "  warnings.warn(\n"
     ]
    },
    {
     "data": {
      "text/plain": [
       "<AxesSubplot:xlabel='sum_visitors'>"
      ]
     },
     "execution_count": 43,
     "metadata": {},
     "output_type": "execute_result"
    },
    {
     "data": {
      "image/png": "[encoded data removed]",
      "text/plain": [
       "<Figure size 432x288 with 1 Axes>"
      ]
     },
     "metadata": {
      "needs_background": "light"
     },
     "output_type": "display_data"
    }
   ],
   "source": [
    "sns.scatterplot(y, pred3)"
   ]
  },
  {
   "cell_type": "markdown",
   "metadata": {},
   "source": [
    "### Adaptive Boosting (ADABoost)"
   ]
  },
  {
   "cell_type": "code",
   "execution_count": 44,
   "metadata": {},
   "outputs": [
    {
     "data": {
      "text/plain": [
       "AdaBoostRegressor(random_state=1)"
      ]
     },
     "execution_count": 44,
     "metadata": {},
     "output_type": "execute_result"
    }
   ],
   "source": [
    "mod4 = AdaBoostRegressor(random_state=1)\n",
    "mod4.fit(X,y)"
   ]
  },
  {
   "cell_type": "code",
   "execution_count": 45,
   "metadata": {},
   "outputs": [
    {
     "data": {
      "text/html": [
       "<div>\n",
       "<style scoped>\n",
       "    .dataframe tbody tr th:only-of-type {\n",
       "        vertical-align: middle;\n",
       "    }\n",
       "\n",
       "    .dataframe tbody tr th {\n",
       "        vertical-align: top;\n",
       "    }\n",
       "\n",
       "    .dataframe thead th {\n",
       "        text-align: right;\n",
       "    }\n",
       "</style>\n",
       "<table border=\"1\" class=\"dataframe\">\n",
       "  <thead>\n",
       "    <tr style=\"text-align: right;\">\n",
       "      <th></th>\n",
       "      <th>MAE</th>\n",
       "      <th>MSE</th>\n",
       "      <th>MSLE</th>\n",
       "      <th>RMSE</th>\n",
       "      <th>RMSLE</th>\n",
       "      <th>model</th>\n",
       "    </tr>\n",
       "  </thead>\n",
       "  <tbody>\n",
       "    <tr>\n",
       "      <th>0</th>\n",
       "      <td>0.165103</td>\n",
       "      <td>7.464963</td>\n",
       "      <td>0.000797</td>\n",
       "      <td>2.732209</td>\n",
       "      <td>0.028229</td>\n",
       "      <td>LinearRegression</td>\n",
       "    </tr>\n",
       "    <tr>\n",
       "      <th>1</th>\n",
       "      <td>0.000000</td>\n",
       "      <td>0.000000</td>\n",
       "      <td>0.000000</td>\n",
       "      <td>0.000000</td>\n",
       "      <td>0.000000</td>\n",
       "      <td>Decision Tree</td>\n",
       "    </tr>\n",
       "    <tr>\n",
       "      <th>2</th>\n",
       "      <td>0.219622</td>\n",
       "      <td>402.011087</td>\n",
       "      <td>0.000032</td>\n",
       "      <td>20.050214</td>\n",
       "      <td>0.005633</td>\n",
       "      <td>RandomForest</td>\n",
       "    </tr>\n",
       "    <tr>\n",
       "      <th>3</th>\n",
       "      <td>49.908053</td>\n",
       "      <td>3618.193231</td>\n",
       "      <td>0.528704</td>\n",
       "      <td>60.151419</td>\n",
       "      <td>0.727120</td>\n",
       "      <td>ADABoost</td>\n",
       "    </tr>\n",
       "  </tbody>\n",
       "</table>\n",
       "</div>"
      ],
      "text/plain": [
       "         MAE          MSE      MSLE       RMSE     RMSLE             model\n",
       "0   0.165103     7.464963  0.000797   2.732209  0.028229  LinearRegression\n",
       "1   0.000000     0.000000  0.000000   0.000000  0.000000     Decision Tree\n",
       "2   0.219622   402.011087  0.000032  20.050214  0.005633      RandomForest\n",
       "3  49.908053  3618.193231  0.528704  60.151419  0.727120          ADABoost"
      ]
     },
     "execution_count": 45,
     "metadata": {},
     "output_type": "execute_result"
    }
   ],
   "source": [
    "pred4 = mod4.predict(X)\n",
    "model_dict = {'model': \"ADABoost\"}\n",
    "models_list = models_list.append({**model_dict, **regressionMetrics(y, pred4)}, ignore_index=True)\n",
    "models_list"
   ]
  },
  {
   "cell_type": "code",
   "execution_count": 46,
   "metadata": {},
   "outputs": [
    {
     "name": "stderr",
     "output_type": "stream",
     "text": [
      "C:\\Users\\elira\\anaconda3\\lib\\site-packages\\seaborn\\_decorators.py:36: FutureWarning: Pass the following variables as keyword args: x, y. From version 0.12, the only valid positional argument will be `data`, and passing other arguments without an explicit keyword will result in an error or misinterpretation.\n",
      "  warnings.warn(\n"
     ]
    },
    {
     "data": {
      "text/plain": [
       "<AxesSubplot:xlabel='sum_visitors'>"
      ]
     },
     "execution_count": 46,
     "metadata": {},
     "output_type": "execute_result"
    },
    {
     "data": {
      "image/png": "[encoded data removed]",
      "text/plain": [
       "<Figure size 432x288 with 1 Axes>"
      ]
     },
     "metadata": {
      "needs_background": "light"
     },
     "output_type": "display_data"
    }
   ],
   "source": [
    "sns.scatterplot(y, pred4)"
   ]
  },
  {
   "cell_type": "markdown",
   "metadata": {},
   "source": [
    "### Gradient Boosting Machine (GBM)"
   ]
  },
  {
   "cell_type": "code",
   "execution_count": 47,
   "metadata": {},
   "outputs": [
    {
     "data": {
      "text/plain": [
       "GradientBoostingRegressor(random_state=1)"
      ]
     },
     "execution_count": 47,
     "metadata": {},
     "output_type": "execute_result"
    }
   ],
   "source": [
    "mod5 = GradientBoostingRegressor(random_state=1)\n",
    "mod5.fit(X,y)"
   ]
  },
  {
   "cell_type": "code",
   "execution_count": 48,
   "metadata": {},
   "outputs": [
    {
     "data": {
      "text/html": [
       "<div>\n",
       "<style scoped>\n",
       "    .dataframe tbody tr th:only-of-type {\n",
       "        vertical-align: middle;\n",
       "    }\n",
       "\n",
       "    .dataframe tbody tr th {\n",
       "        vertical-align: top;\n",
       "    }\n",
       "\n",
       "    .dataframe thead th {\n",
       "        text-align: right;\n",
       "    }\n",
       "</style>\n",
       "<table border=\"1\" class=\"dataframe\">\n",
       "  <thead>\n",
       "    <tr style=\"text-align: right;\">\n",
       "      <th></th>\n",
       "      <th>MAE</th>\n",
       "      <th>MSE</th>\n",
       "      <th>MSLE</th>\n",
       "      <th>RMSE</th>\n",
       "      <th>RMSLE</th>\n",
       "      <th>model</th>\n",
       "    </tr>\n",
       "  </thead>\n",
       "  <tbody>\n",
       "    <tr>\n",
       "      <th>0</th>\n",
       "      <td>0.165103</td>\n",
       "      <td>7.464963</td>\n",
       "      <td>0.000797</td>\n",
       "      <td>2.732209</td>\n",
       "      <td>0.028229</td>\n",
       "      <td>LinearRegression</td>\n",
       "    </tr>\n",
       "    <tr>\n",
       "      <th>1</th>\n",
       "      <td>0.000000</td>\n",
       "      <td>0.000000</td>\n",
       "      <td>0.000000</td>\n",
       "      <td>0.000000</td>\n",
       "      <td>0.000000</td>\n",
       "      <td>Decision Tree</td>\n",
       "    </tr>\n",
       "    <tr>\n",
       "      <th>2</th>\n",
       "      <td>0.219622</td>\n",
       "      <td>402.011087</td>\n",
       "      <td>0.000032</td>\n",
       "      <td>20.050214</td>\n",
       "      <td>0.005633</td>\n",
       "      <td>RandomForest</td>\n",
       "    </tr>\n",
       "    <tr>\n",
       "      <th>3</th>\n",
       "      <td>49.908053</td>\n",
       "      <td>3618.193231</td>\n",
       "      <td>0.528704</td>\n",
       "      <td>60.151419</td>\n",
       "      <td>0.727120</td>\n",
       "      <td>ADABoost</td>\n",
       "    </tr>\n",
       "    <tr>\n",
       "      <th>4</th>\n",
       "      <td>1.309080</td>\n",
       "      <td>5.501018</td>\n",
       "      <td>0.001107</td>\n",
       "      <td>2.345425</td>\n",
       "      <td>0.033265</td>\n",
       "      <td>GBM</td>\n",
       "    </tr>\n",
       "  </tbody>\n",
       "</table>\n",
       "</div>"
      ],
      "text/plain": [
       "         MAE          MSE      MSLE       RMSE     RMSLE             model\n",
       "0   0.165103     7.464963  0.000797   2.732209  0.028229  LinearRegression\n",
       "1   0.000000     0.000000  0.000000   0.000000  0.000000     Decision Tree\n",
       "2   0.219622   402.011087  0.000032  20.050214  0.005633      RandomForest\n",
       "3  49.908053  3618.193231  0.528704  60.151419  0.727120          ADABoost\n",
       "4   1.309080     5.501018  0.001107   2.345425  0.033265               GBM"
      ]
     },
     "execution_count": 48,
     "metadata": {},
     "output_type": "execute_result"
    }
   ],
   "source": [
    "pred5 = mod5.predict(X)\n",
    "model_dict = {'model': \"GBM\"}\n",
    "models_list = models_list.append({**model_dict, **regressionMetrics(y, pred5)}, ignore_index=True)\n",
    "models_list"
   ]
  },
  {
   "cell_type": "code",
   "execution_count": 49,
   "metadata": {},
   "outputs": [
    {
     "name": "stderr",
     "output_type": "stream",
     "text": [
      "C:\\Users\\elira\\anaconda3\\lib\\site-packages\\seaborn\\_decorators.py:36: FutureWarning: Pass the following variables as keyword args: x, y. From version 0.12, the only valid positional argument will be `data`, and passing other arguments without an explicit keyword will result in an error or misinterpretation.\n",
      "  warnings.warn(\n"
     ]
    },
    {
     "data": {
      "text/plain": [
       "<AxesSubplot:xlabel='sum_visitors'>"
      ]
     },
     "execution_count": 49,
     "metadata": {},
     "output_type": "execute_result"
    },
    {
     "data": {
      "image/png": "[encoded data removed]",
      "text/plain": [
       "<Figure size 432x288 with 1 Axes>"
      ]
     },
     "metadata": {
      "needs_background": "light"
     },
     "output_type": "display_data"
    }
   ],
   "source": [
    "sns.scatterplot(y, pred5)"
   ]
  },
  {
   "cell_type": "markdown",
   "metadata": {},
   "source": [
    "### Support Vector Machine (SVM)"
   ]
  },
  {
   "cell_type": "code",
   "execution_count": 50,
   "metadata": {},
   "outputs": [
    {
     "data": {
      "text/plain": [
       "SVR()"
      ]
     },
     "execution_count": 50,
     "metadata": {},
     "output_type": "execute_result"
    }
   ],
   "source": [
    "mod6 = SVR()\n",
    "mod6.fit(X,y)"
   ]
  },
  {
   "cell_type": "code",
   "execution_count": 51,
   "metadata": {},
   "outputs": [
    {
     "data": {
      "text/html": [
       "<div>\n",
       "<style scoped>\n",
       "    .dataframe tbody tr th:only-of-type {\n",
       "        vertical-align: middle;\n",
       "    }\n",
       "\n",
       "    .dataframe tbody tr th {\n",
       "        vertical-align: top;\n",
       "    }\n",
       "\n",
       "    .dataframe thead th {\n",
       "        text-align: right;\n",
       "    }\n",
       "</style>\n",
       "<table border=\"1\" class=\"dataframe\">\n",
       "  <thead>\n",
       "    <tr style=\"text-align: right;\">\n",
       "      <th></th>\n",
       "      <th>MAE</th>\n",
       "      <th>MSE</th>\n",
       "      <th>MSLE</th>\n",
       "      <th>RMSE</th>\n",
       "      <th>RMSLE</th>\n",
       "      <th>model</th>\n",
       "    </tr>\n",
       "  </thead>\n",
       "  <tbody>\n",
       "    <tr>\n",
       "      <th>0</th>\n",
       "      <td>0.165103</td>\n",
       "      <td>7.464963</td>\n",
       "      <td>0.000797</td>\n",
       "      <td>2.732209</td>\n",
       "      <td>0.028229</td>\n",
       "      <td>LinearRegression</td>\n",
       "    </tr>\n",
       "    <tr>\n",
       "      <th>1</th>\n",
       "      <td>0.000000</td>\n",
       "      <td>0.000000</td>\n",
       "      <td>0.000000</td>\n",
       "      <td>0.000000</td>\n",
       "      <td>0.000000</td>\n",
       "      <td>Decision Tree</td>\n",
       "    </tr>\n",
       "    <tr>\n",
       "      <th>2</th>\n",
       "      <td>0.219622</td>\n",
       "      <td>402.011087</td>\n",
       "      <td>0.000032</td>\n",
       "      <td>20.050214</td>\n",
       "      <td>0.005633</td>\n",
       "      <td>RandomForest</td>\n",
       "    </tr>\n",
       "    <tr>\n",
       "      <th>3</th>\n",
       "      <td>49.908053</td>\n",
       "      <td>3618.193231</td>\n",
       "      <td>0.528704</td>\n",
       "      <td>60.151419</td>\n",
       "      <td>0.727120</td>\n",
       "      <td>ADABoost</td>\n",
       "    </tr>\n",
       "    <tr>\n",
       "      <th>4</th>\n",
       "      <td>1.309080</td>\n",
       "      <td>5.501018</td>\n",
       "      <td>0.001107</td>\n",
       "      <td>2.345425</td>\n",
       "      <td>0.033265</td>\n",
       "      <td>GBM</td>\n",
       "    </tr>\n",
       "    <tr>\n",
       "      <th>5</th>\n",
       "      <td>9.922080</td>\n",
       "      <td>16864.412746</td>\n",
       "      <td>0.021214</td>\n",
       "      <td>129.863054</td>\n",
       "      <td>0.145649</td>\n",
       "      <td>SVR</td>\n",
       "    </tr>\n",
       "  </tbody>\n",
       "</table>\n",
       "</div>"
      ],
      "text/plain": [
       "         MAE           MSE      MSLE        RMSE     RMSLE             model\n",
       "0   0.165103      7.464963  0.000797    2.732209  0.028229  LinearRegression\n",
       "1   0.000000      0.000000  0.000000    0.000000  0.000000     Decision Tree\n",
       "2   0.219622    402.011087  0.000032   20.050214  0.005633      RandomForest\n",
       "3  49.908053   3618.193231  0.528704   60.151419  0.727120          ADABoost\n",
       "4   1.309080      5.501018  0.001107    2.345425  0.033265               GBM\n",
       "5   9.922080  16864.412746  0.021214  129.863054  0.145649               SVR"
      ]
     },
     "execution_count": 51,
     "metadata": {},
     "output_type": "execute_result"
    }
   ],
   "source": [
    "pred6 = mod6.predict(X)\n",
    "model_dict = {'model': \"SVR\"}\n",
    "models_list = models_list.append({**model_dict, **regressionMetrics(y, pred6)}, ignore_index=True)\n",
    "models_list"
   ]
  },
  {
   "cell_type": "code",
   "execution_count": 52,
   "metadata": {},
   "outputs": [
    {
     "name": "stderr",
     "output_type": "stream",
     "text": [
      "C:\\Users\\elira\\anaconda3\\lib\\site-packages\\seaborn\\_decorators.py:36: FutureWarning: Pass the following variables as keyword args: x, y. From version 0.12, the only valid positional argument will be `data`, and passing other arguments without an explicit keyword will result in an error or misinterpretation.\n",
      "  warnings.warn(\n"
     ]
    },
    {
     "data": {
      "text/plain": [
       "<AxesSubplot:xlabel='sum_visitors'>"
      ]
     },
     "execution_count": 52,
     "metadata": {},
     "output_type": "execute_result"
    },
    {
     "data": {
      "image/png": "[encoded data removed]",
      "text/plain": [
       "<Figure size 432x288 with 1 Axes>"
      ]
     },
     "metadata": {
      "needs_background": "light"
     },
     "output_type": "display_data"
    }
   ],
   "source": [
    "sns.scatterplot(y, pred6)"
   ]
  },
  {
   "cell_type": "markdown",
   "metadata": {},
   "source": [
    "# Ridge"
   ]
  },
  {
   "cell_type": "code",
   "execution_count": 53,
   "metadata": {},
   "outputs": [
    {
     "data": {
      "text/plain": [
       "RidgeClassifier()"
      ]
     },
     "execution_count": 53,
     "metadata": {},
     "output_type": "execute_result"
    }
   ],
   "source": [
    "mod7 = RidgeClassifier()\n",
    "mod7.fit(X,y)"
   ]
  },
  {
   "cell_type": "code",
   "execution_count": 54,
   "metadata": {},
   "outputs": [
    {
     "data": {
      "text/html": [
       "<div>\n",
       "<style scoped>\n",
       "    .dataframe tbody tr th:only-of-type {\n",
       "        vertical-align: middle;\n",
       "    }\n",
       "\n",
       "    .dataframe tbody tr th {\n",
       "        vertical-align: top;\n",
       "    }\n",
       "\n",
       "    .dataframe thead th {\n",
       "        text-align: right;\n",
       "    }\n",
       "</style>\n",
       "<table border=\"1\" class=\"dataframe\">\n",
       "  <thead>\n",
       "    <tr style=\"text-align: right;\">\n",
       "      <th></th>\n",
       "      <th>MAE</th>\n",
       "      <th>MSE</th>\n",
       "      <th>MSLE</th>\n",
       "      <th>RMSE</th>\n",
       "      <th>RMSLE</th>\n",
       "      <th>model</th>\n",
       "    </tr>\n",
       "  </thead>\n",
       "  <tbody>\n",
       "    <tr>\n",
       "      <th>0</th>\n",
       "      <td>0.165103</td>\n",
       "      <td>7.464963</td>\n",
       "      <td>0.000797</td>\n",
       "      <td>2.732209</td>\n",
       "      <td>0.028229</td>\n",
       "      <td>LinearRegression</td>\n",
       "    </tr>\n",
       "    <tr>\n",
       "      <th>1</th>\n",
       "      <td>0.000000</td>\n",
       "      <td>0.000000</td>\n",
       "      <td>0.000000</td>\n",
       "      <td>0.000000</td>\n",
       "      <td>0.000000</td>\n",
       "      <td>Decision Tree</td>\n",
       "    </tr>\n",
       "    <tr>\n",
       "      <th>2</th>\n",
       "      <td>0.219622</td>\n",
       "      <td>402.011087</td>\n",
       "      <td>0.000032</td>\n",
       "      <td>20.050214</td>\n",
       "      <td>0.005633</td>\n",
       "      <td>RandomForest</td>\n",
       "    </tr>\n",
       "    <tr>\n",
       "      <th>3</th>\n",
       "      <td>49.908053</td>\n",
       "      <td>3618.193231</td>\n",
       "      <td>0.528704</td>\n",
       "      <td>60.151419</td>\n",
       "      <td>0.727120</td>\n",
       "      <td>ADABoost</td>\n",
       "    </tr>\n",
       "    <tr>\n",
       "      <th>4</th>\n",
       "      <td>1.309080</td>\n",
       "      <td>5.501018</td>\n",
       "      <td>0.001107</td>\n",
       "      <td>2.345425</td>\n",
       "      <td>0.033265</td>\n",
       "      <td>GBM</td>\n",
       "    </tr>\n",
       "    <tr>\n",
       "      <th>5</th>\n",
       "      <td>9.922080</td>\n",
       "      <td>16864.412746</td>\n",
       "      <td>0.021214</td>\n",
       "      <td>129.863054</td>\n",
       "      <td>0.145649</td>\n",
       "      <td>SVR</td>\n",
       "    </tr>\n",
       "    <tr>\n",
       "      <th>6</th>\n",
       "      <td>115.951772</td>\n",
       "      <td>671143.387597</td>\n",
       "      <td>0.320228</td>\n",
       "      <td>819.233415</td>\n",
       "      <td>0.565887</td>\n",
       "      <td>Ridge</td>\n",
       "    </tr>\n",
       "  </tbody>\n",
       "</table>\n",
       "</div>"
      ],
      "text/plain": [
       "          MAE            MSE      MSLE        RMSE     RMSLE             model\n",
       "0    0.165103       7.464963  0.000797    2.732209  0.028229  LinearRegression\n",
       "1    0.000000       0.000000  0.000000    0.000000  0.000000     Decision Tree\n",
       "2    0.219622     402.011087  0.000032   20.050214  0.005633      RandomForest\n",
       "3   49.908053    3618.193231  0.528704   60.151419  0.727120          ADABoost\n",
       "4    1.309080       5.501018  0.001107    2.345425  0.033265               GBM\n",
       "5    9.922080   16864.412746  0.021214  129.863054  0.145649               SVR\n",
       "6  115.951772  671143.387597  0.320228  819.233415  0.565887             Ridge"
      ]
     },
     "execution_count": 54,
     "metadata": {},
     "output_type": "execute_result"
    }
   ],
   "source": [
    "pred7 = mod7.predict(X)\n",
    "model_dict = {'model': \"Ridge\"}\n",
    "models_list = models_list.append({**model_dict, **regressionMetrics(y, pred7)}, ignore_index=True)\n",
    "models_list"
   ]
  },
  {
   "cell_type": "code",
   "execution_count": 55,
   "metadata": {},
   "outputs": [
    {
     "name": "stderr",
     "output_type": "stream",
     "text": [
      "C:\\Users\\elira\\anaconda3\\lib\\site-packages\\seaborn\\_decorators.py:36: FutureWarning: Pass the following variables as keyword args: x, y. From version 0.12, the only valid positional argument will be `data`, and passing other arguments without an explicit keyword will result in an error or misinterpretation.\n",
      "  warnings.warn(\n"
     ]
    },
    {
     "data": {
      "text/plain": [
       "<AxesSubplot:xlabel='sum_visitors'>"
      ]
     },
     "execution_count": 55,
     "metadata": {},
     "output_type": "execute_result"
    },
    {
     "data": {
      "image/png": "[encoded data removed]",
      "text/plain": [
       "<Figure size 432x288 with 1 Axes>"
      ]
     },
     "metadata": {
      "needs_background": "light"
     },
     "output_type": "display_data"
    }
   ],
   "source": [
    "sns.scatterplot(y, pred7)"
   ]
  },
  {
   "cell_type": "markdown",
   "metadata": {},
   "source": [
    "# Stochastic Gradient Descent Regression = SGD"
   ]
  },
  {
   "cell_type": "code",
   "execution_count": 56,
   "metadata": {
    "scrolled": true
   },
   "outputs": [
    {
     "data": {
      "text/plain": [
       "SGDClassifier()"
      ]
     },
     "execution_count": 56,
     "metadata": {},
     "output_type": "execute_result"
    }
   ],
   "source": [
    "mod8 = SGDClassifier()\n",
    "mod8.fit(X,y)"
   ]
  },
  {
   "cell_type": "code",
   "execution_count": 57,
   "metadata": {},
   "outputs": [
    {
     "data": {
      "text/html": [
       "<div>\n",
       "<style scoped>\n",
       "    .dataframe tbody tr th:only-of-type {\n",
       "        vertical-align: middle;\n",
       "    }\n",
       "\n",
       "    .dataframe tbody tr th {\n",
       "        vertical-align: top;\n",
       "    }\n",
       "\n",
       "    .dataframe thead th {\n",
       "        text-align: right;\n",
       "    }\n",
       "</style>\n",
       "<table border=\"1\" class=\"dataframe\">\n",
       "  <thead>\n",
       "    <tr style=\"text-align: right;\">\n",
       "      <th></th>\n",
       "      <th>MAE</th>\n",
       "      <th>MSE</th>\n",
       "      <th>MSLE</th>\n",
       "      <th>RMSE</th>\n",
       "      <th>RMSLE</th>\n",
       "      <th>model</th>\n",
       "    </tr>\n",
       "  </thead>\n",
       "  <tbody>\n",
       "    <tr>\n",
       "      <th>0</th>\n",
       "      <td>0.165103</td>\n",
       "      <td>7.464963</td>\n",
       "      <td>0.000797</td>\n",
       "      <td>2.732209</td>\n",
       "      <td>0.028229</td>\n",
       "      <td>LinearRegression</td>\n",
       "    </tr>\n",
       "    <tr>\n",
       "      <th>1</th>\n",
       "      <td>0.000000</td>\n",
       "      <td>0.000000</td>\n",
       "      <td>0.000000</td>\n",
       "      <td>0.000000</td>\n",
       "      <td>0.000000</td>\n",
       "      <td>Decision Tree</td>\n",
       "    </tr>\n",
       "    <tr>\n",
       "      <th>2</th>\n",
       "      <td>0.219622</td>\n",
       "      <td>402.011087</td>\n",
       "      <td>0.000032</td>\n",
       "      <td>20.050214</td>\n",
       "      <td>0.005633</td>\n",
       "      <td>RandomForest</td>\n",
       "    </tr>\n",
       "    <tr>\n",
       "      <th>3</th>\n",
       "      <td>49.908053</td>\n",
       "      <td>3618.193231</td>\n",
       "      <td>0.528704</td>\n",
       "      <td>60.151419</td>\n",
       "      <td>0.727120</td>\n",
       "      <td>ADABoost</td>\n",
       "    </tr>\n",
       "    <tr>\n",
       "      <th>4</th>\n",
       "      <td>1.309080</td>\n",
       "      <td>5.501018</td>\n",
       "      <td>0.001107</td>\n",
       "      <td>2.345425</td>\n",
       "      <td>0.033265</td>\n",
       "      <td>GBM</td>\n",
       "    </tr>\n",
       "    <tr>\n",
       "      <th>5</th>\n",
       "      <td>9.922080</td>\n",
       "      <td>16864.412746</td>\n",
       "      <td>0.021214</td>\n",
       "      <td>129.863054</td>\n",
       "      <td>0.145649</td>\n",
       "      <td>SVR</td>\n",
       "    </tr>\n",
       "    <tr>\n",
       "      <th>6</th>\n",
       "      <td>115.951772</td>\n",
       "      <td>671143.387597</td>\n",
       "      <td>0.320228</td>\n",
       "      <td>819.233415</td>\n",
       "      <td>0.565887</td>\n",
       "      <td>Ridge</td>\n",
       "    </tr>\n",
       "    <tr>\n",
       "      <th>7</th>\n",
       "      <td>87.246609</td>\n",
       "      <td>32527.493699</td>\n",
       "      <td>0.762386</td>\n",
       "      <td>180.353801</td>\n",
       "      <td>0.873147</td>\n",
       "      <td>SGD</td>\n",
       "    </tr>\n",
       "  </tbody>\n",
       "</table>\n",
       "</div>"
      ],
      "text/plain": [
       "          MAE            MSE      MSLE        RMSE     RMSLE             model\n",
       "0    0.165103       7.464963  0.000797    2.732209  0.028229  LinearRegression\n",
       "1    0.000000       0.000000  0.000000    0.000000  0.000000     Decision Tree\n",
       "2    0.219622     402.011087  0.000032   20.050214  0.005633      RandomForest\n",
       "3   49.908053    3618.193231  0.528704   60.151419  0.727120          ADABoost\n",
       "4    1.309080       5.501018  0.001107    2.345425  0.033265               GBM\n",
       "5    9.922080   16864.412746  0.021214  129.863054  0.145649               SVR\n",
       "6  115.951772  671143.387597  0.320228  819.233415  0.565887             Ridge\n",
       "7   87.246609   32527.493699  0.762386  180.353801  0.873147               SGD"
      ]
     },
     "execution_count": 57,
     "metadata": {},
     "output_type": "execute_result"
    }
   ],
   "source": [
    "pred8 = mod8.predict(X)\n",
    "model_dict = {'model': \"SGD\"}\n",
    "models_list = models_list.append({**model_dict, **regressionMetrics(y, pred8)}, ignore_index=True)\n",
    "models_list"
   ]
  },
  {
   "cell_type": "code",
   "execution_count": 58,
   "metadata": {
    "scrolled": true
   },
   "outputs": [
    {
     "name": "stderr",
     "output_type": "stream",
     "text": [
      "C:\\Users\\elira\\anaconda3\\lib\\site-packages\\seaborn\\_decorators.py:36: FutureWarning: Pass the following variables as keyword args: x, y. From version 0.12, the only valid positional argument will be `data`, and passing other arguments without an explicit keyword will result in an error or misinterpretation.\n",
      "  warnings.warn(\n"
     ]
    },
    {
     "data": {
      "text/plain": [
       "<AxesSubplot:xlabel='sum_visitors'>"
      ]
     },
     "execution_count": 58,
     "metadata": {},
     "output_type": "execute_result"
    },
    {
     "data": {
      "image/png": "[encoded data removed]",
      "text/plain": [
       "<Figure size 432x288 with 1 Axes>"
      ]
     },
     "metadata": {
      "needs_background": "light"
     },
     "output_type": "display_data"
    }
   ],
   "source": [
    "sns.scatterplot(y, pred8)"
   ]
  },
  {
   "cell_type": "markdown",
   "metadata": {},
   "source": [
    "# Elastic Net "
   ]
  },
  {
   "cell_type": "code",
   "execution_count": 69,
   "metadata": {},
   "outputs": [
    {
     "data": {
      "text/plain": [
       "ElasticNet()"
      ]
     },
     "execution_count": 69,
     "metadata": {},
     "output_type": "execute_result"
    }
   ],
   "source": [
    "mod9 = ElasticNet(alpha=1.0, l1_ratio=0.5)\n",
    "mod9.fit(X,y)"
   ]
  },
  {
   "cell_type": "code",
   "execution_count": 70,
   "metadata": {},
   "outputs": [
    {
     "data": {
      "text/html": [
       "<div>\n",
       "<style scoped>\n",
       "    .dataframe tbody tr th:only-of-type {\n",
       "        vertical-align: middle;\n",
       "    }\n",
       "\n",
       "    .dataframe tbody tr th {\n",
       "        vertical-align: top;\n",
       "    }\n",
       "\n",
       "    .dataframe thead th {\n",
       "        text-align: right;\n",
       "    }\n",
       "</style>\n",
       "<table border=\"1\" class=\"dataframe\">\n",
       "  <thead>\n",
       "    <tr style=\"text-align: right;\">\n",
       "      <th></th>\n",
       "      <th>MAE</th>\n",
       "      <th>MSE</th>\n",
       "      <th>MSLE</th>\n",
       "      <th>RMSE</th>\n",
       "      <th>RMSLE</th>\n",
       "      <th>model</th>\n",
       "    </tr>\n",
       "  </thead>\n",
       "  <tbody>\n",
       "    <tr>\n",
       "      <th>0</th>\n",
       "      <td>0.165103</td>\n",
       "      <td>7.464963</td>\n",
       "      <td>0.000797</td>\n",
       "      <td>2.732209</td>\n",
       "      <td>0.028229</td>\n",
       "      <td>LinearRegression</td>\n",
       "    </tr>\n",
       "    <tr>\n",
       "      <th>1</th>\n",
       "      <td>0.000000</td>\n",
       "      <td>0.000000</td>\n",
       "      <td>0.000000</td>\n",
       "      <td>0.000000</td>\n",
       "      <td>0.000000</td>\n",
       "      <td>Decision Tree</td>\n",
       "    </tr>\n",
       "    <tr>\n",
       "      <th>2</th>\n",
       "      <td>0.219622</td>\n",
       "      <td>402.011087</td>\n",
       "      <td>0.000032</td>\n",
       "      <td>20.050214</td>\n",
       "      <td>0.005633</td>\n",
       "      <td>RandomForest</td>\n",
       "    </tr>\n",
       "    <tr>\n",
       "      <th>3</th>\n",
       "      <td>49.908053</td>\n",
       "      <td>3618.193231</td>\n",
       "      <td>0.528704</td>\n",
       "      <td>60.151419</td>\n",
       "      <td>0.727120</td>\n",
       "      <td>ADABoost</td>\n",
       "    </tr>\n",
       "    <tr>\n",
       "      <th>4</th>\n",
       "      <td>1.309080</td>\n",
       "      <td>5.501018</td>\n",
       "      <td>0.001107</td>\n",
       "      <td>2.345425</td>\n",
       "      <td>0.033265</td>\n",
       "      <td>GBM</td>\n",
       "    </tr>\n",
       "    <tr>\n",
       "      <th>5</th>\n",
       "      <td>9.922080</td>\n",
       "      <td>16864.412746</td>\n",
       "      <td>0.021214</td>\n",
       "      <td>129.863054</td>\n",
       "      <td>0.145649</td>\n",
       "      <td>SVR</td>\n",
       "    </tr>\n",
       "    <tr>\n",
       "      <th>6</th>\n",
       "      <td>115.951772</td>\n",
       "      <td>671143.387597</td>\n",
       "      <td>0.320228</td>\n",
       "      <td>819.233415</td>\n",
       "      <td>0.565887</td>\n",
       "      <td>Ridge</td>\n",
       "    </tr>\n",
       "    <tr>\n",
       "      <th>7</th>\n",
       "      <td>87.246609</td>\n",
       "      <td>32527.493699</td>\n",
       "      <td>0.762386</td>\n",
       "      <td>180.353801</td>\n",
       "      <td>0.873147</td>\n",
       "      <td>SGD</td>\n",
       "    </tr>\n",
       "    <tr>\n",
       "      <th>8</th>\n",
       "      <td>0.110054</td>\n",
       "      <td>7.481537</td>\n",
       "      <td>0.000761</td>\n",
       "      <td>2.735240</td>\n",
       "      <td>0.027588</td>\n",
       "      <td>Elastic-Net</td>\n",
       "    </tr>\n",
       "    <tr>\n",
       "      <th>9</th>\n",
       "      <td>0.165081</td>\n",
       "      <td>7.464963</td>\n",
       "      <td>0.000797</td>\n",
       "      <td>2.732209</td>\n",
       "      <td>0.028228</td>\n",
       "      <td>BayesianRidge</td>\n",
       "    </tr>\n",
       "    <tr>\n",
       "      <th>10</th>\n",
       "      <td>0.110054</td>\n",
       "      <td>7.481537</td>\n",
       "      <td>0.000761</td>\n",
       "      <td>2.735240</td>\n",
       "      <td>0.027588</td>\n",
       "      <td>Elastic-Net</td>\n",
       "    </tr>\n",
       "  </tbody>\n",
       "</table>\n",
       "</div>"
      ],
      "text/plain": [
       "           MAE            MSE      MSLE        RMSE     RMSLE  \\\n",
       "0     0.165103       7.464963  0.000797    2.732209  0.028229   \n",
       "1     0.000000       0.000000  0.000000    0.000000  0.000000   \n",
       "2     0.219622     402.011087  0.000032   20.050214  0.005633   \n",
       "3    49.908053    3618.193231  0.528704   60.151419  0.727120   \n",
       "4     1.309080       5.501018  0.001107    2.345425  0.033265   \n",
       "5     9.922080   16864.412746  0.021214  129.863054  0.145649   \n",
       "6   115.951772  671143.387597  0.320228  819.233415  0.565887   \n",
       "7    87.246609   32527.493699  0.762386  180.353801  0.873147   \n",
       "8     0.110054       7.481537  0.000761    2.735240  0.027588   \n",
       "9     0.165081       7.464963  0.000797    2.732209  0.028228   \n",
       "10    0.110054       7.481537  0.000761    2.735240  0.027588   \n",
       "\n",
       "               model  \n",
       "0   LinearRegression  \n",
       "1      Decision Tree  \n",
       "2       RandomForest  \n",
       "3           ADABoost  \n",
       "4                GBM  \n",
       "5                SVR  \n",
       "6              Ridge  \n",
       "7                SGD  \n",
       "8        Elastic-Net  \n",
       "9      BayesianRidge  \n",
       "10       Elastic-Net  "
      ]
     },
     "execution_count": 70,
     "metadata": {},
     "output_type": "execute_result"
    }
   ],
   "source": [
    "pred9 = mod9.predict(X)\n",
    "model_dict = {'model': \"Elastic-Net\"}\n",
    "models_list = models_list.append({**model_dict, **regressionMetrics(y, pred9)}, ignore_index=True)\n",
    "models_list"
   ]
  },
  {
   "cell_type": "code",
   "execution_count": 71,
   "metadata": {},
   "outputs": [
    {
     "name": "stderr",
     "output_type": "stream",
     "text": [
      "C:\\Users\\elira\\anaconda3\\lib\\site-packages\\seaborn\\_decorators.py:36: FutureWarning: Pass the following variables as keyword args: x, y. From version 0.12, the only valid positional argument will be `data`, and passing other arguments without an explicit keyword will result in an error or misinterpretation.\n",
      "  warnings.warn(\n"
     ]
    },
    {
     "data": {
      "text/plain": [
       "<AxesSubplot:xlabel='sum_visitors'>"
      ]
     },
     "execution_count": 71,
     "metadata": {},
     "output_type": "execute_result"
    },
    {
     "data": {
      "image/png": "[encoded data removed]",
      "text/plain": [
       "<Figure size 432x288 with 1 Axes>"
      ]
     },
     "metadata": {
      "needs_background": "light"
     },
     "output_type": "display_data"
    }
   ],
   "source": [
    "sns.scatterplot(y, pred9)"
   ]
  },
  {
   "cell_type": "code",
   "execution_count": 72,
   "metadata": {},
   "outputs": [
    {
     "data": {
      "text/plain": [
       "BayesianRidge()"
      ]
     },
     "execution_count": 72,
     "metadata": {},
     "output_type": "execute_result"
    }
   ],
   "source": [
    "mod10 = linear_model.BayesianRidge()\n",
    "mod10.fit(X,y)"
   ]
  },
  {
   "cell_type": "code",
   "execution_count": 73,
   "metadata": {},
   "outputs": [
    {
     "data": {
      "text/html": [
       "<div>\n",
       "<style scoped>\n",
       "    .dataframe tbody tr th:only-of-type {\n",
       "        vertical-align: middle;\n",
       "    }\n",
       "\n",
       "    .dataframe tbody tr th {\n",
       "        vertical-align: top;\n",
       "    }\n",
       "\n",
       "    .dataframe thead th {\n",
       "        text-align: right;\n",
       "    }\n",
       "</style>\n",
       "<table border=\"1\" class=\"dataframe\">\n",
       "  <thead>\n",
       "    <tr style=\"text-align: right;\">\n",
       "      <th></th>\n",
       "      <th>MAE</th>\n",
       "      <th>MSE</th>\n",
       "      <th>MSLE</th>\n",
       "      <th>RMSE</th>\n",
       "      <th>RMSLE</th>\n",
       "      <th>model</th>\n",
       "    </tr>\n",
       "  </thead>\n",
       "  <tbody>\n",
       "    <tr>\n",
       "      <th>0</th>\n",
       "      <td>0.165103</td>\n",
       "      <td>7.464963</td>\n",
       "      <td>0.000797</td>\n",
       "      <td>2.732209</td>\n",
       "      <td>0.028229</td>\n",
       "      <td>LinearRegression</td>\n",
       "    </tr>\n",
       "    <tr>\n",
       "      <th>1</th>\n",
       "      <td>0.000000</td>\n",
       "      <td>0.000000</td>\n",
       "      <td>0.000000</td>\n",
       "      <td>0.000000</td>\n",
       "      <td>0.000000</td>\n",
       "      <td>Decision Tree</td>\n",
       "    </tr>\n",
       "    <tr>\n",
       "      <th>2</th>\n",
       "      <td>0.219622</td>\n",
       "      <td>402.011087</td>\n",
       "      <td>0.000032</td>\n",
       "      <td>20.050214</td>\n",
       "      <td>0.005633</td>\n",
       "      <td>RandomForest</td>\n",
       "    </tr>\n",
       "    <tr>\n",
       "      <th>3</th>\n",
       "      <td>49.908053</td>\n",
       "      <td>3618.193231</td>\n",
       "      <td>0.528704</td>\n",
       "      <td>60.151419</td>\n",
       "      <td>0.727120</td>\n",
       "      <td>ADABoost</td>\n",
       "    </tr>\n",
       "    <tr>\n",
       "      <th>4</th>\n",
       "      <td>1.309080</td>\n",
       "      <td>5.501018</td>\n",
       "      <td>0.001107</td>\n",
       "      <td>2.345425</td>\n",
       "      <td>0.033265</td>\n",
       "      <td>GBM</td>\n",
       "    </tr>\n",
       "    <tr>\n",
       "      <th>5</th>\n",
       "      <td>9.922080</td>\n",
       "      <td>16864.412746</td>\n",
       "      <td>0.021214</td>\n",
       "      <td>129.863054</td>\n",
       "      <td>0.145649</td>\n",
       "      <td>SVR</td>\n",
       "    </tr>\n",
       "    <tr>\n",
       "      <th>6</th>\n",
       "      <td>115.951772</td>\n",
       "      <td>671143.387597</td>\n",
       "      <td>0.320228</td>\n",
       "      <td>819.233415</td>\n",
       "      <td>0.565887</td>\n",
       "      <td>Ridge</td>\n",
       "    </tr>\n",
       "    <tr>\n",
       "      <th>7</th>\n",
       "      <td>87.246609</td>\n",
       "      <td>32527.493699</td>\n",
       "      <td>0.762386</td>\n",
       "      <td>180.353801</td>\n",
       "      <td>0.873147</td>\n",
       "      <td>SGD</td>\n",
       "    </tr>\n",
       "    <tr>\n",
       "      <th>8</th>\n",
       "      <td>0.110054</td>\n",
       "      <td>7.481537</td>\n",
       "      <td>0.000761</td>\n",
       "      <td>2.735240</td>\n",
       "      <td>0.027588</td>\n",
       "      <td>Elastic-Net</td>\n",
       "    </tr>\n",
       "    <tr>\n",
       "      <th>9</th>\n",
       "      <td>0.165081</td>\n",
       "      <td>7.464963</td>\n",
       "      <td>0.000797</td>\n",
       "      <td>2.732209</td>\n",
       "      <td>0.028228</td>\n",
       "      <td>BayesianRidge</td>\n",
       "    </tr>\n",
       "    <tr>\n",
       "      <th>10</th>\n",
       "      <td>0.110054</td>\n",
       "      <td>7.481537</td>\n",
       "      <td>0.000761</td>\n",
       "      <td>2.735240</td>\n",
       "      <td>0.027588</td>\n",
       "      <td>Elastic-Net</td>\n",
       "    </tr>\n",
       "    <tr>\n",
       "      <th>11</th>\n",
       "      <td>0.165081</td>\n",
       "      <td>7.464963</td>\n",
       "      <td>0.000797</td>\n",
       "      <td>2.732209</td>\n",
       "      <td>0.028228</td>\n",
       "      <td>BayesianRidge</td>\n",
       "    </tr>\n",
       "  </tbody>\n",
       "</table>\n",
       "</div>"
      ],
      "text/plain": [
       "           MAE            MSE      MSLE        RMSE     RMSLE  \\\n",
       "0     0.165103       7.464963  0.000797    2.732209  0.028229   \n",
       "1     0.000000       0.000000  0.000000    0.000000  0.000000   \n",
       "2     0.219622     402.011087  0.000032   20.050214  0.005633   \n",
       "3    49.908053    3618.193231  0.528704   60.151419  0.727120   \n",
       "4     1.309080       5.501018  0.001107    2.345425  0.033265   \n",
       "5     9.922080   16864.412746  0.021214  129.863054  0.145649   \n",
       "6   115.951772  671143.387597  0.320228  819.233415  0.565887   \n",
       "7    87.246609   32527.493699  0.762386  180.353801  0.873147   \n",
       "8     0.110054       7.481537  0.000761    2.735240  0.027588   \n",
       "9     0.165081       7.464963  0.000797    2.732209  0.028228   \n",
       "10    0.110054       7.481537  0.000761    2.735240  0.027588   \n",
       "11    0.165081       7.464963  0.000797    2.732209  0.028228   \n",
       "\n",
       "               model  \n",
       "0   LinearRegression  \n",
       "1      Decision Tree  \n",
       "2       RandomForest  \n",
       "3           ADABoost  \n",
       "4                GBM  \n",
       "5                SVR  \n",
       "6              Ridge  \n",
       "7                SGD  \n",
       "8        Elastic-Net  \n",
       "9      BayesianRidge  \n",
       "10       Elastic-Net  \n",
       "11     BayesianRidge  "
      ]
     },
     "execution_count": 73,
     "metadata": {},
     "output_type": "execute_result"
    }
   ],
   "source": [
    "pred10 = mod10.predict(X)\n",
    "model_dict = {'model': \"BayesianRidge\"}\n",
    "models_list = models_list.append({**model_dict, **regressionMetrics(y, pred10)}, ignore_index=True)\n",
    "models_list"
   ]
  },
  {
   "cell_type": "markdown",
   "metadata": {},
   "source": [
    "## Model Selection"
   ]
  },
  {
   "cell_type": "code",
   "execution_count": 64,
   "metadata": {},
   "outputs": [
    {
     "data": {
      "text/html": [
       "<div>\n",
       "<style scoped>\n",
       "    .dataframe tbody tr th:only-of-type {\n",
       "        vertical-align: middle;\n",
       "    }\n",
       "\n",
       "    .dataframe tbody tr th {\n",
       "        vertical-align: top;\n",
       "    }\n",
       "\n",
       "    .dataframe thead th {\n",
       "        text-align: right;\n",
       "    }\n",
       "</style>\n",
       "<table border=\"1\" class=\"dataframe\">\n",
       "  <thead>\n",
       "    <tr style=\"text-align: right;\">\n",
       "      <th></th>\n",
       "      <th>MAE</th>\n",
       "      <th>MSE</th>\n",
       "      <th>MSLE</th>\n",
       "      <th>RMSE</th>\n",
       "      <th>RMSLE</th>\n",
       "      <th>model</th>\n",
       "    </tr>\n",
       "  </thead>\n",
       "  <tbody>\n",
       "    <tr>\n",
       "      <th>1</th>\n",
       "      <td>0.000000</td>\n",
       "      <td>0.000000</td>\n",
       "      <td>0.000000</td>\n",
       "      <td>0.000000</td>\n",
       "      <td>0.000000</td>\n",
       "      <td>Decision Tree</td>\n",
       "    </tr>\n",
       "    <tr>\n",
       "      <th>8</th>\n",
       "      <td>0.110054</td>\n",
       "      <td>7.481537</td>\n",
       "      <td>0.000761</td>\n",
       "      <td>2.735240</td>\n",
       "      <td>0.027588</td>\n",
       "      <td>Elastic-Net</td>\n",
       "    </tr>\n",
       "    <tr>\n",
       "      <th>9</th>\n",
       "      <td>0.165081</td>\n",
       "      <td>7.464963</td>\n",
       "      <td>0.000797</td>\n",
       "      <td>2.732209</td>\n",
       "      <td>0.028228</td>\n",
       "      <td>BayesianRidge</td>\n",
       "    </tr>\n",
       "    <tr>\n",
       "      <th>0</th>\n",
       "      <td>0.165103</td>\n",
       "      <td>7.464963</td>\n",
       "      <td>0.000797</td>\n",
       "      <td>2.732209</td>\n",
       "      <td>0.028229</td>\n",
       "      <td>LinearRegression</td>\n",
       "    </tr>\n",
       "    <tr>\n",
       "      <th>2</th>\n",
       "      <td>0.219622</td>\n",
       "      <td>402.011087</td>\n",
       "      <td>0.000032</td>\n",
       "      <td>20.050214</td>\n",
       "      <td>0.005633</td>\n",
       "      <td>RandomForest</td>\n",
       "    </tr>\n",
       "    <tr>\n",
       "      <th>4</th>\n",
       "      <td>1.309080</td>\n",
       "      <td>5.501018</td>\n",
       "      <td>0.001107</td>\n",
       "      <td>2.345425</td>\n",
       "      <td>0.033265</td>\n",
       "      <td>GBM</td>\n",
       "    </tr>\n",
       "    <tr>\n",
       "      <th>5</th>\n",
       "      <td>9.922080</td>\n",
       "      <td>16864.412746</td>\n",
       "      <td>0.021214</td>\n",
       "      <td>129.863054</td>\n",
       "      <td>0.145649</td>\n",
       "      <td>SVR</td>\n",
       "    </tr>\n",
       "    <tr>\n",
       "      <th>3</th>\n",
       "      <td>49.908053</td>\n",
       "      <td>3618.193231</td>\n",
       "      <td>0.528704</td>\n",
       "      <td>60.151419</td>\n",
       "      <td>0.727120</td>\n",
       "      <td>ADABoost</td>\n",
       "    </tr>\n",
       "    <tr>\n",
       "      <th>7</th>\n",
       "      <td>87.246609</td>\n",
       "      <td>32527.493699</td>\n",
       "      <td>0.762386</td>\n",
       "      <td>180.353801</td>\n",
       "      <td>0.873147</td>\n",
       "      <td>SGD</td>\n",
       "    </tr>\n",
       "    <tr>\n",
       "      <th>6</th>\n",
       "      <td>115.951772</td>\n",
       "      <td>671143.387597</td>\n",
       "      <td>0.320228</td>\n",
       "      <td>819.233415</td>\n",
       "      <td>0.565887</td>\n",
       "      <td>Ridge</td>\n",
       "    </tr>\n",
       "  </tbody>\n",
       "</table>\n",
       "</div>"
      ],
      "text/plain": [
       "          MAE            MSE      MSLE        RMSE     RMSLE             model\n",
       "1    0.000000       0.000000  0.000000    0.000000  0.000000     Decision Tree\n",
       "8    0.110054       7.481537  0.000761    2.735240  0.027588       Elastic-Net\n",
       "9    0.165081       7.464963  0.000797    2.732209  0.028228     BayesianRidge\n",
       "0    0.165103       7.464963  0.000797    2.732209  0.028229  LinearRegression\n",
       "2    0.219622     402.011087  0.000032   20.050214  0.005633      RandomForest\n",
       "4    1.309080       5.501018  0.001107    2.345425  0.033265               GBM\n",
       "5    9.922080   16864.412746  0.021214  129.863054  0.145649               SVR\n",
       "3   49.908053    3618.193231  0.528704   60.151419  0.727120          ADABoost\n",
       "7   87.246609   32527.493699  0.762386  180.353801  0.873147               SGD\n",
       "6  115.951772  671143.387597  0.320228  819.233415  0.565887             Ridge"
      ]
     },
     "execution_count": 64,
     "metadata": {},
     "output_type": "execute_result"
    }
   ],
   "source": [
    "Mean Absolute Error - we will follow this metric\n",
    "models_list.sort_values('MAE')"
   ]
  },
  {
   "cell_type": "code",
   "execution_count": 65,
   "metadata": {
    "scrolled": false
   },
   "outputs": [
    {
     "data": {
      "text/html": [
       "<div>\n",
       "<style scoped>\n",
       "    .dataframe tbody tr th:only-of-type {\n",
       "        vertical-align: middle;\n",
       "    }\n",
       "\n",
       "    .dataframe tbody tr th {\n",
       "        vertical-align: top;\n",
       "    }\n",
       "\n",
       "    .dataframe thead th {\n",
       "        text-align: right;\n",
       "    }\n",
       "</style>\n",
       "<table border=\"1\" class=\"dataframe\">\n",
       "  <thead>\n",
       "    <tr style=\"text-align: right;\">\n",
       "      <th></th>\n",
       "      <th>MAE</th>\n",
       "      <th>MSE</th>\n",
       "      <th>MSLE</th>\n",
       "      <th>RMSE</th>\n",
       "      <th>RMSLE</th>\n",
       "      <th>model</th>\n",
       "    </tr>\n",
       "  </thead>\n",
       "  <tbody>\n",
       "    <tr>\n",
       "      <th>1</th>\n",
       "      <td>0.000000</td>\n",
       "      <td>0.000000</td>\n",
       "      <td>0.000000</td>\n",
       "      <td>0.000000</td>\n",
       "      <td>0.000000</td>\n",
       "      <td>Decision Tree</td>\n",
       "    </tr>\n",
       "    <tr>\n",
       "      <th>4</th>\n",
       "      <td>1.309080</td>\n",
       "      <td>5.501018</td>\n",
       "      <td>0.001107</td>\n",
       "      <td>2.345425</td>\n",
       "      <td>0.033265</td>\n",
       "      <td>GBM</td>\n",
       "    </tr>\n",
       "    <tr>\n",
       "      <th>0</th>\n",
       "      <td>0.165103</td>\n",
       "      <td>7.464963</td>\n",
       "      <td>0.000797</td>\n",
       "      <td>2.732209</td>\n",
       "      <td>0.028229</td>\n",
       "      <td>LinearRegression</td>\n",
       "    </tr>\n",
       "    <tr>\n",
       "      <th>9</th>\n",
       "      <td>0.165081</td>\n",
       "      <td>7.464963</td>\n",
       "      <td>0.000797</td>\n",
       "      <td>2.732209</td>\n",
       "      <td>0.028228</td>\n",
       "      <td>BayesianRidge</td>\n",
       "    </tr>\n",
       "    <tr>\n",
       "      <th>8</th>\n",
       "      <td>0.110054</td>\n",
       "      <td>7.481537</td>\n",
       "      <td>0.000761</td>\n",
       "      <td>2.735240</td>\n",
       "      <td>0.027588</td>\n",
       "      <td>Elastic-Net</td>\n",
       "    </tr>\n",
       "    <tr>\n",
       "      <th>2</th>\n",
       "      <td>0.219622</td>\n",
       "      <td>402.011087</td>\n",
       "      <td>0.000032</td>\n",
       "      <td>20.050214</td>\n",
       "      <td>0.005633</td>\n",
       "      <td>RandomForest</td>\n",
       "    </tr>\n",
       "    <tr>\n",
       "      <th>3</th>\n",
       "      <td>49.908053</td>\n",
       "      <td>3618.193231</td>\n",
       "      <td>0.528704</td>\n",
       "      <td>60.151419</td>\n",
       "      <td>0.727120</td>\n",
       "      <td>ADABoost</td>\n",
       "    </tr>\n",
       "    <tr>\n",
       "      <th>5</th>\n",
       "      <td>9.922080</td>\n",
       "      <td>16864.412746</td>\n",
       "      <td>0.021214</td>\n",
       "      <td>129.863054</td>\n",
       "      <td>0.145649</td>\n",
       "      <td>SVR</td>\n",
       "    </tr>\n",
       "    <tr>\n",
       "      <th>7</th>\n",
       "      <td>87.246609</td>\n",
       "      <td>32527.493699</td>\n",
       "      <td>0.762386</td>\n",
       "      <td>180.353801</td>\n",
       "      <td>0.873147</td>\n",
       "      <td>SGD</td>\n",
       "    </tr>\n",
       "    <tr>\n",
       "      <th>6</th>\n",
       "      <td>115.951772</td>\n",
       "      <td>671143.387597</td>\n",
       "      <td>0.320228</td>\n",
       "      <td>819.233415</td>\n",
       "      <td>0.565887</td>\n",
       "      <td>Ridge</td>\n",
       "    </tr>\n",
       "  </tbody>\n",
       "</table>\n",
       "</div>"
      ],
      "text/plain": [
       "          MAE            MSE      MSLE        RMSE     RMSLE             model\n",
       "1    0.000000       0.000000  0.000000    0.000000  0.000000     Decision Tree\n",
       "4    1.309080       5.501018  0.001107    2.345425  0.033265               GBM\n",
       "0    0.165103       7.464963  0.000797    2.732209  0.028229  LinearRegression\n",
       "9    0.165081       7.464963  0.000797    2.732209  0.028228     BayesianRidge\n",
       "8    0.110054       7.481537  0.000761    2.735240  0.027588       Elastic-Net\n",
       "2    0.219622     402.011087  0.000032   20.050214  0.005633      RandomForest\n",
       "3   49.908053    3618.193231  0.528704   60.151419  0.727120          ADABoost\n",
       "5    9.922080   16864.412746  0.021214  129.863054  0.145649               SVR\n",
       "7   87.246609   32527.493699  0.762386  180.353801  0.873147               SGD\n",
       "6  115.951772  671143.387597  0.320228  819.233415  0.565887             Ridge"
      ]
     },
     "execution_count": 65,
     "metadata": {},
     "output_type": "execute_result"
    }
   ],
   "source": [
    "Root Mean Squared Error \n",
    "models_list.sort_values('RMSE')"
   ]
  }
 ],
 "metadata": {
  "kernelspec": {
   "display_name": "Python 3",
   "language": "python",
   "name": "python3"
  },
  "language_info": {
   "codemirror_mode": {
    "name": "ipython",
    "version": 3
   },
   "file_extension": ".py",
   "mimetype": "text/x-python",
   "name": "python",
   "nbconvert_exporter": "python",
   "pygments_lexer": "ipython3",
   "version": "3.8.5"
  }
 },
 "nbformat": 4,
 "nbformat_minor": 4
}
