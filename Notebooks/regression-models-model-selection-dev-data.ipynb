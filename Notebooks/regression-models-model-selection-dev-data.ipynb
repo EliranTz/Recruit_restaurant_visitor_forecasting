{
 "cells": [
  {
   "cell_type": "code",
   "execution_count": 1,
   "id": "44e81692",
   "metadata": {
    "execution": {
     "iopub.execute_input": "2021-10-10T08:04:01.947109Z",
     "iopub.status.busy": "2021-10-10T08:04:01.946126Z",
     "iopub.status.idle": "2021-10-10T08:04:03.463459Z",
     "shell.execute_reply": "2021-10-10T08:04:03.464035Z",
     "shell.execute_reply.started": "2021-10-09T13:18:37.335406Z"
    },
    "papermill": {
     "duration": 1.565748,
     "end_time": "2021-10-10T08:04:03.464338",
     "exception": false,
     "start_time": "2021-10-10T08:04:01.898590",
     "status": "completed"
    },
    "tags": []
   },
   "outputs": [],
   "source": [
    "# https://scikit-learn.org/stable/modules/linear_model.html#logistic-regression\n",
    "import pandas as pd\n",
    "import numpy as np\n",
    "import seaborn as sns\n",
    "import sklearn.metrics as metrics\n",
    "from sklearn.linear_model import LinearRegression\n",
    "from sklearn.tree import DecisionTreeRegressor\n",
    "from sklearn.ensemble import RandomForestRegressor, AdaBoostRegressor, GradientBoostingRegressor\n",
    "from sklearn.svm import SVR\n",
    "from sklearn.neighbors import KNeighborsRegressor\n",
    "from sklearn.model_selection import train_test_split\n",
    "from sklearn import linear_model\n",
    "from sklearn.linear_model import RidgeClassifier\n",
    "from sklearn.preprocessing import PolynomialFeatures\n",
    "%matplotlib inline\n",
    "from sklearn.metrics import mean_squared_error\n",
    "from sklearn.neural_network import MLPRegressor\n",
    "from sklearn.datasets import make_regression\n",
    "from xgboost.sklearn import XGBRegressor\n",
    "from numpy import asarray\n",
    "from numpy import mean\n",
    "from numpy import std\n",
    "from sklearn.datasets import make_classification\n",
    "from xgboost import XGBClassifier\n",
    "from sklearn.model_selection import cross_val_score\n",
    "from sklearn.model_selection import RepeatedStratifiedKFold\n",
    "from matplotlib import pyplot\n",
    "from sklearn.linear_model import SGDClassifier\n",
    "from sklearn.kernel_ridge import KernelRidge\n",
    "from sklearn.linear_model import ElasticNet"
   ]
  },
  {
   "cell_type": "code",
   "execution_count": 2,
   "id": "7fc6f15e",
   "metadata": {
    "execution": {
     "iopub.execute_input": "2021-10-10T08:04:03.532779Z",
     "iopub.status.busy": "2021-10-10T08:04:03.529576Z",
     "iopub.status.idle": "2021-10-10T08:04:03.535731Z",
     "shell.execute_reply": "2021-10-10T08:04:03.535149Z",
     "shell.execute_reply.started": "2021-10-09T13:18:37.354273Z"
    },
    "papermill": {
     "duration": 0.039273,
     "end_time": "2021-10-10T08:04:03.535871",
     "exception": false,
     "start_time": "2021-10-10T08:04:03.496598",
     "status": "completed"
    },
    "tags": []
   },
   "outputs": [],
   "source": [
    "def regressionMetrics(y, yhat):\n",
    "    res = {'MSE': metrics.mean_squared_error(y,yhat),\n",
    "           'RMSE': np.sqrt(metrics.mean_squared_error(y,yhat)),\n",
    "           'MAE': metrics.mean_absolute_error(y,yhat),\n",
    "           'MSLE': metrics.mean_squared_log_error(y,yhat),\n",
    "           'RMSLE': np.sqrt(metrics.mean_squared_log_error(y,yhat))\n",
    "          }\n",
    "    return res"
   ]
  },
  {
   "cell_type": "code",
   "execution_count": 3,
   "id": "70606419",
   "metadata": {
    "execution": {
     "iopub.execute_input": "2021-10-10T08:04:03.603325Z",
     "iopub.status.busy": "2021-10-10T08:04:03.602236Z",
     "iopub.status.idle": "2021-10-10T08:04:03.604251Z",
     "shell.execute_reply": "2021-10-10T08:04:03.604718Z",
     "shell.execute_reply.started": "2021-10-09T13:18:37.369255Z"
    },
    "papermill": {
     "duration": 0.03829,
     "end_time": "2021-10-10T08:04:03.604902",
     "exception": false,
     "start_time": "2021-10-10T08:04:03.566612",
     "status": "completed"
    },
    "tags": []
   },
   "outputs": [],
   "source": [
    "## example = test the model\n",
    "y = [2,4,6,8,10]\n",
    "y_hat = [2,3,4,5,30]"
   ]
  },
  {
   "cell_type": "code",
   "execution_count": 4,
   "id": "f3c923c3",
   "metadata": {
    "execution": {
     "iopub.execute_input": "2021-10-10T08:04:03.690070Z",
     "iopub.status.busy": "2021-10-10T08:04:03.688994Z",
     "iopub.status.idle": "2021-10-10T08:04:03.697297Z",
     "shell.execute_reply": "2021-10-10T08:04:03.697816Z",
     "shell.execute_reply.started": "2021-10-09T13:18:37.381889Z"
    },
    "papermill": {
     "duration": 0.055829,
     "end_time": "2021-10-10T08:04:03.698002",
     "exception": false,
     "start_time": "2021-10-10T08:04:03.642173",
     "status": "completed"
    },
    "tags": []
   },
   "outputs": [
    {
     "data": {
      "text/plain": [
       "{'MSE': 82.8,\n",
       " 'RMSE': 9.09945053286186,\n",
       " 'MAE': 5.2,\n",
       " 'MSLE': 0.28017901106191967,\n",
       " 'RMSLE': 0.5293193847403661}"
      ]
     },
     "execution_count": 4,
     "metadata": {},
     "output_type": "execute_result"
    }
   ],
   "source": [
    "regressionMetrics(y, y_hat)"
   ]
  },
  {
   "cell_type": "code",
   "execution_count": 5,
   "id": "cc20c319",
   "metadata": {
    "execution": {
     "iopub.execute_input": "2021-10-10T08:04:03.764580Z",
     "iopub.status.busy": "2021-10-10T08:04:03.763916Z",
     "iopub.status.idle": "2021-10-10T08:04:03.838360Z",
     "shell.execute_reply": "2021-10-10T08:04:03.837844Z",
     "shell.execute_reply.started": "2021-10-09T13:18:37.402098Z"
    },
    "papermill": {
     "duration": 0.108209,
     "end_time": "2021-10-10T08:04:03.838534",
     "exception": false,
     "start_time": "2021-10-10T08:04:03.730325",
     "status": "completed"
    },
    "tags": []
   },
   "outputs": [
    {
     "data": {
      "text/html": [
       "<div>\n",
       "<style scoped>\n",
       "    .dataframe tbody tr th:only-of-type {\n",
       "        vertical-align: middle;\n",
       "    }\n",
       "\n",
       "    .dataframe tbody tr th {\n",
       "        vertical-align: top;\n",
       "    }\n",
       "\n",
       "    .dataframe thead th {\n",
       "        text-align: right;\n",
       "    }\n",
       "</style>\n",
       "<table border=\"1\" class=\"dataframe\">\n",
       "  <thead>\n",
       "    <tr style=\"text-align: right;\">\n",
       "      <th></th>\n",
       "      <th>visit_week</th>\n",
       "      <th>max_visitors</th>\n",
       "      <th>min_visitors</th>\n",
       "      <th>avg_visitors</th>\n",
       "      <th>count_visitors</th>\n",
       "      <th>weekend_visitors</th>\n",
       "      <th>sum_visitors</th>\n",
       "    </tr>\n",
       "  </thead>\n",
       "  <tbody>\n",
       "    <tr>\n",
       "      <th>count</th>\n",
       "      <td>6765.000000</td>\n",
       "      <td>6765.000000</td>\n",
       "      <td>6765.000000</td>\n",
       "      <td>6765.000000</td>\n",
       "      <td>6765.000000</td>\n",
       "      <td>6765.000000</td>\n",
       "      <td>6765.000000</td>\n",
       "    </tr>\n",
       "    <tr>\n",
       "      <th>mean</th>\n",
       "      <td>25.971323</td>\n",
       "      <td>34.927864</td>\n",
       "      <td>9.447154</td>\n",
       "      <td>20.622025</td>\n",
       "      <td>6.473171</td>\n",
       "      <td>285.881301</td>\n",
       "      <td>143.000296</td>\n",
       "    </tr>\n",
       "    <tr>\n",
       "      <th>std</th>\n",
       "      <td>16.228814</td>\n",
       "      <td>23.898578</td>\n",
       "      <td>10.017034</td>\n",
       "      <td>13.621198</td>\n",
       "      <td>3.374303</td>\n",
       "      <td>318.276669</td>\n",
       "      <td>159.146025</td>\n",
       "    </tr>\n",
       "    <tr>\n",
       "      <th>min</th>\n",
       "      <td>1.000000</td>\n",
       "      <td>1.000000</td>\n",
       "      <td>1.000000</td>\n",
       "      <td>1.000000</td>\n",
       "      <td>1.000000</td>\n",
       "      <td>2.000000</td>\n",
       "      <td>1.000000</td>\n",
       "    </tr>\n",
       "    <tr>\n",
       "      <th>25%</th>\n",
       "      <td>11.000000</td>\n",
       "      <td>19.000000</td>\n",
       "      <td>3.000000</td>\n",
       "      <td>11.000000</td>\n",
       "      <td>6.000000</td>\n",
       "      <td>128.000000</td>\n",
       "      <td>64.000000</td>\n",
       "    </tr>\n",
       "    <tr>\n",
       "      <th>50%</th>\n",
       "      <td>28.000000</td>\n",
       "      <td>31.000000</td>\n",
       "      <td>7.000000</td>\n",
       "      <td>18.000000</td>\n",
       "      <td>6.000000</td>\n",
       "      <td>224.000000</td>\n",
       "      <td>112.000000</td>\n",
       "    </tr>\n",
       "    <tr>\n",
       "      <th>75%</th>\n",
       "      <td>40.000000</td>\n",
       "      <td>47.000000</td>\n",
       "      <td>13.000000</td>\n",
       "      <td>28.000000</td>\n",
       "      <td>7.000000</td>\n",
       "      <td>366.000000</td>\n",
       "      <td>183.000000</td>\n",
       "    </tr>\n",
       "    <tr>\n",
       "      <th>max</th>\n",
       "      <td>53.000000</td>\n",
       "      <td>877.000000</td>\n",
       "      <td>372.000000</td>\n",
       "      <td>372.000000</td>\n",
       "      <td>77.000000</td>\n",
       "      <td>8258.000000</td>\n",
       "      <td>4129.000000</td>\n",
       "    </tr>\n",
       "  </tbody>\n",
       "</table>\n",
       "</div>"
      ],
      "text/plain": [
       "        visit_week  max_visitors  min_visitors  avg_visitors  count_visitors  \\\n",
       "count  6765.000000   6765.000000   6765.000000   6765.000000     6765.000000   \n",
       "mean     25.971323     34.927864      9.447154     20.622025        6.473171   \n",
       "std      16.228814     23.898578     10.017034     13.621198        3.374303   \n",
       "min       1.000000      1.000000      1.000000      1.000000        1.000000   \n",
       "25%      11.000000     19.000000      3.000000     11.000000        6.000000   \n",
       "50%      28.000000     31.000000      7.000000     18.000000        6.000000   \n",
       "75%      40.000000     47.000000     13.000000     28.000000        7.000000   \n",
       "max      53.000000    877.000000    372.000000    372.000000       77.000000   \n",
       "\n",
       "       weekend_visitors  sum_visitors  \n",
       "count       6765.000000   6765.000000  \n",
       "mean         285.881301    143.000296  \n",
       "std          318.276669    159.146025  \n",
       "min            2.000000      1.000000  \n",
       "25%          128.000000     64.000000  \n",
       "50%          224.000000    112.000000  \n",
       "75%          366.000000    183.000000  \n",
       "max         8258.000000   4129.000000  "
      ]
     },
     "execution_count": 5,
     "metadata": {},
     "output_type": "execute_result"
    }
   ],
   "source": [
    "df = pd.read_csv('../input/test-dev-train/dev_data.csv')\n",
    "df.describe()"
   ]
  },
  {
   "cell_type": "code",
   "execution_count": 6,
   "id": "bc921f2c",
   "metadata": {
    "execution": {
     "iopub.execute_input": "2021-10-10T08:04:03.908001Z",
     "iopub.status.busy": "2021-10-10T08:04:03.907310Z",
     "iopub.status.idle": "2021-10-10T08:04:03.909093Z",
     "shell.execute_reply": "2021-10-10T08:04:03.909580Z",
     "shell.execute_reply.started": "2021-10-09T13:18:37.44937Z"
    },
    "papermill": {
     "duration": 0.039797,
     "end_time": "2021-10-10T08:04:03.909756",
     "exception": false,
     "start_time": "2021-10-10T08:04:03.869959",
     "status": "completed"
    },
    "tags": []
   },
   "outputs": [],
   "source": [
    "X = df.drop(['sum_visitors'],axis=1).values # independant features\n",
    "y = df['sum_visitors']                     # dependant variable"
   ]
  },
  {
   "cell_type": "code",
   "execution_count": 7,
   "id": "e3a70455",
   "metadata": {
    "execution": {
     "iopub.execute_input": "2021-10-10T08:04:03.977666Z",
     "iopub.status.busy": "2021-10-10T08:04:03.975828Z",
     "iopub.status.idle": "2021-10-10T08:04:03.979899Z",
     "shell.execute_reply": "2021-10-10T08:04:03.980395Z",
     "shell.execute_reply.started": "2021-10-09T13:18:37.456073Z"
    },
    "papermill": {
     "duration": 0.039144,
     "end_time": "2021-10-10T08:04:03.980625",
     "exception": false,
     "start_time": "2021-10-10T08:04:03.941481",
     "status": "completed"
    },
    "tags": []
   },
   "outputs": [],
   "source": [
    "models_list = pd.DataFrame()"
   ]
  },
  {
   "cell_type": "markdown",
   "id": "b672172f",
   "metadata": {
    "papermill": {
     "duration": 0.030691,
     "end_time": "2021-10-10T08:04:04.043333",
     "exception": false,
     "start_time": "2021-10-10T08:04:04.012642",
     "status": "completed"
    },
    "tags": []
   },
   "source": [
    "### Linear Regression"
   ]
  },
  {
   "cell_type": "code",
   "execution_count": 8,
   "id": "94c98ca5",
   "metadata": {
    "execution": {
     "iopub.execute_input": "2021-10-10T08:04:04.110689Z",
     "iopub.status.busy": "2021-10-10T08:04:04.110038Z",
     "iopub.status.idle": "2021-10-10T08:04:04.139855Z",
     "shell.execute_reply": "2021-10-10T08:04:04.140735Z",
     "shell.execute_reply.started": "2021-10-09T13:18:37.469814Z"
    },
    "papermill": {
     "duration": 0.066909,
     "end_time": "2021-10-10T08:04:04.141021",
     "exception": false,
     "start_time": "2021-10-10T08:04:04.074112",
     "status": "completed"
    },
    "tags": []
   },
   "outputs": [],
   "source": [
    "mod1 = LinearRegression()\n",
    "mod1.fit(X,y)\n",
    "\n",
    "pred1 = mod1.predict(X)"
   ]
  },
  {
   "cell_type": "code",
   "execution_count": 9,
   "id": "09d31786",
   "metadata": {
    "execution": {
     "iopub.execute_input": "2021-10-10T08:04:04.277256Z",
     "iopub.status.busy": "2021-10-10T08:04:04.276287Z",
     "iopub.status.idle": "2021-10-10T08:04:04.285383Z",
     "shell.execute_reply": "2021-10-10T08:04:04.286147Z",
     "shell.execute_reply.started": "2021-10-09T13:18:37.489309Z"
    },
    "papermill": {
     "duration": 0.085468,
     "end_time": "2021-10-10T08:04:04.286412",
     "exception": false,
     "start_time": "2021-10-10T08:04:04.200944",
     "status": "completed"
    },
    "tags": []
   },
   "outputs": [
    {
     "data": {
      "text/plain": [
       "{'MSE': 6.359374420976718,\n",
       " 'RMSE': 2.5217800104245254,\n",
       " 'MAE': 0.2686910391694864,\n",
       " 'MSLE': 0.0007837821828697918,\n",
       " 'RMSLE': 0.027996110138192268}"
      ]
     },
     "execution_count": 9,
     "metadata": {},
     "output_type": "execute_result"
    }
   ],
   "source": [
    "regressionMetrics(y, pred1)"
   ]
  },
  {
   "cell_type": "code",
   "execution_count": 10,
   "id": "80ff2a94",
   "metadata": {
    "execution": {
     "iopub.execute_input": "2021-10-10T08:04:04.366694Z",
     "iopub.status.busy": "2021-10-10T08:04:04.365938Z",
     "iopub.status.idle": "2021-10-10T08:04:04.379450Z",
     "shell.execute_reply": "2021-10-10T08:04:04.379884Z",
     "shell.execute_reply.started": "2021-10-09T13:18:37.507442Z"
    },
    "papermill": {
     "duration": 0.052097,
     "end_time": "2021-10-10T08:04:04.380070",
     "exception": false,
     "start_time": "2021-10-10T08:04:04.327973",
     "status": "completed"
    },
    "tags": []
   },
   "outputs": [
    {
     "data": {
      "text/html": [
       "<div>\n",
       "<style scoped>\n",
       "    .dataframe tbody tr th:only-of-type {\n",
       "        vertical-align: middle;\n",
       "    }\n",
       "\n",
       "    .dataframe tbody tr th {\n",
       "        vertical-align: top;\n",
       "    }\n",
       "\n",
       "    .dataframe thead th {\n",
       "        text-align: right;\n",
       "    }\n",
       "</style>\n",
       "<table border=\"1\" class=\"dataframe\">\n",
       "  <thead>\n",
       "    <tr style=\"text-align: right;\">\n",
       "      <th></th>\n",
       "      <th>model</th>\n",
       "      <th>MSE</th>\n",
       "      <th>RMSE</th>\n",
       "      <th>MAE</th>\n",
       "      <th>MSLE</th>\n",
       "      <th>RMSLE</th>\n",
       "    </tr>\n",
       "  </thead>\n",
       "  <tbody>\n",
       "    <tr>\n",
       "      <th>0</th>\n",
       "      <td>LinearRegression</td>\n",
       "      <td>6.359374</td>\n",
       "      <td>2.52178</td>\n",
       "      <td>0.268691</td>\n",
       "      <td>0.000784</td>\n",
       "      <td>0.027996</td>\n",
       "    </tr>\n",
       "  </tbody>\n",
       "</table>\n",
       "</div>"
      ],
      "text/plain": [
       "              model       MSE     RMSE       MAE      MSLE     RMSLE\n",
       "0  LinearRegression  6.359374  2.52178  0.268691  0.000784  0.027996"
      ]
     },
     "execution_count": 10,
     "metadata": {},
     "output_type": "execute_result"
    }
   ],
   "source": [
    "model_dict = {'model': \"LinearRegression\"}\n",
    "models_list = models_list.append({**model_dict, **regressionMetrics(y, pred1)}, ignore_index=True)\n",
    "models_list"
   ]
  },
  {
   "cell_type": "code",
   "execution_count": 11,
   "id": "06f80153",
   "metadata": {
    "execution": {
     "iopub.execute_input": "2021-10-10T08:04:04.448568Z",
     "iopub.status.busy": "2021-10-10T08:04:04.447878Z",
     "iopub.status.idle": "2021-10-10T08:04:04.809219Z",
     "shell.execute_reply": "2021-10-10T08:04:04.808636Z",
     "shell.execute_reply.started": "2021-10-09T13:18:37.540948Z"
    },
    "papermill": {
     "duration": 0.39717,
     "end_time": "2021-10-10T08:04:04.809366",
     "exception": false,
     "start_time": "2021-10-10T08:04:04.412196",
     "status": "completed"
    },
    "tags": []
   },
   "outputs": [
    {
     "name": "stderr",
     "output_type": "stream",
     "text": [
      "/opt/conda/lib/python3.7/site-packages/seaborn/_decorators.py:43: FutureWarning: Pass the following variables as keyword args: x, y. From version 0.12, the only valid positional argument will be `data`, and passing other arguments without an explicit keyword will result in an error or misinterpretation.\n",
      "  FutureWarning\n"
     ]
    },
    {
     "data": {
      "text/plain": [
       "<AxesSubplot:xlabel='sum_visitors'>"
      ]
     },
     "execution_count": 11,
     "metadata": {},
     "output_type": "execute_result"
    },
    {
     "data": {
      "image/png": "[encoded data removed]",
      "text/plain": [
       "<Figure size 432x288 with 1 Axes>"
      ]
     },
     "metadata": {
      "needs_background": "light"
     },
     "output_type": "display_data"
    }
   ],
   "source": [
    "sns.scatterplot(y, pred1)"
   ]
  },
  {
   "cell_type": "markdown",
   "id": "8385da84",
   "metadata": {
    "papermill": {
     "duration": 0.033422,
     "end_time": "2021-10-10T08:04:04.876552",
     "exception": false,
     "start_time": "2021-10-10T08:04:04.843130",
     "status": "completed"
    },
    "tags": []
   },
   "source": [
    "### Decision Tree"
   ]
  },
  {
   "cell_type": "code",
   "execution_count": 12,
   "id": "a8ed7081",
   "metadata": {
    "execution": {
     "iopub.execute_input": "2021-10-10T08:04:04.948680Z",
     "iopub.status.busy": "2021-10-10T08:04:04.947996Z",
     "iopub.status.idle": "2021-10-10T08:04:04.971679Z",
     "shell.execute_reply": "2021-10-10T08:04:04.972093Z",
     "shell.execute_reply.started": "2021-10-09T13:18:37.820557Z"
    },
    "papermill": {
     "duration": 0.062941,
     "end_time": "2021-10-10T08:04:04.972262",
     "exception": false,
     "start_time": "2021-10-10T08:04:04.909321",
     "status": "completed"
    },
    "tags": []
   },
   "outputs": [
    {
     "data": {
      "text/plain": [
       "DecisionTreeRegressor(random_state=1)"
      ]
     },
     "execution_count": 12,
     "metadata": {},
     "output_type": "execute_result"
    }
   ],
   "source": [
    "mod2 = DecisionTreeRegressor(random_state=1)\n",
    "mod2.fit(X,y)"
   ]
  },
  {
   "cell_type": "code",
   "execution_count": 13,
   "id": "7a6c26cf",
   "metadata": {
    "execution": {
     "iopub.execute_input": "2021-10-10T08:04:05.045177Z",
     "iopub.status.busy": "2021-10-10T08:04:05.043100Z",
     "iopub.status.idle": "2021-10-10T08:04:05.061518Z",
     "shell.execute_reply": "2021-10-10T08:04:05.060917Z",
     "shell.execute_reply.started": "2021-10-09T13:18:37.846391Z"
    },
    "papermill": {
     "duration": 0.055292,
     "end_time": "2021-10-10T08:04:05.061655",
     "exception": false,
     "start_time": "2021-10-10T08:04:05.006363",
     "status": "completed"
    },
    "tags": []
   },
   "outputs": [
    {
     "data": {
      "text/html": [
       "<div>\n",
       "<style scoped>\n",
       "    .dataframe tbody tr th:only-of-type {\n",
       "        vertical-align: middle;\n",
       "    }\n",
       "\n",
       "    .dataframe tbody tr th {\n",
       "        vertical-align: top;\n",
       "    }\n",
       "\n",
       "    .dataframe thead th {\n",
       "        text-align: right;\n",
       "    }\n",
       "</style>\n",
       "<table border=\"1\" class=\"dataframe\">\n",
       "  <thead>\n",
       "    <tr style=\"text-align: right;\">\n",
       "      <th></th>\n",
       "      <th>model</th>\n",
       "      <th>MSE</th>\n",
       "      <th>RMSE</th>\n",
       "      <th>MAE</th>\n",
       "      <th>MSLE</th>\n",
       "      <th>RMSLE</th>\n",
       "    </tr>\n",
       "  </thead>\n",
       "  <tbody>\n",
       "    <tr>\n",
       "      <th>0</th>\n",
       "      <td>LinearRegression</td>\n",
       "      <td>6.359374</td>\n",
       "      <td>2.52178</td>\n",
       "      <td>0.268691</td>\n",
       "      <td>0.000784</td>\n",
       "      <td>0.027996</td>\n",
       "    </tr>\n",
       "    <tr>\n",
       "      <th>1</th>\n",
       "      <td>Decision Tree</td>\n",
       "      <td>0.000000</td>\n",
       "      <td>0.00000</td>\n",
       "      <td>0.000000</td>\n",
       "      <td>0.000000</td>\n",
       "      <td>0.000000</td>\n",
       "    </tr>\n",
       "  </tbody>\n",
       "</table>\n",
       "</div>"
      ],
      "text/plain": [
       "              model       MSE     RMSE       MAE      MSLE     RMSLE\n",
       "0  LinearRegression  6.359374  2.52178  0.268691  0.000784  0.027996\n",
       "1     Decision Tree  0.000000  0.00000  0.000000  0.000000  0.000000"
      ]
     },
     "execution_count": 13,
     "metadata": {},
     "output_type": "execute_result"
    }
   ],
   "source": [
    "pred2 = mod2.predict(X)\n",
    "model_dict = {'model': \"Decision Tree\"}\n",
    "models_list = models_list.append({**model_dict, **regressionMetrics(y, pred2)}, ignore_index=True)\n",
    "models_list"
   ]
  },
  {
   "cell_type": "code",
   "execution_count": 14,
   "id": "007703d5",
   "metadata": {
    "execution": {
     "iopub.execute_input": "2021-10-10T08:04:05.133883Z",
     "iopub.status.busy": "2021-10-10T08:04:05.133216Z",
     "iopub.status.idle": "2021-10-10T08:04:05.357893Z",
     "shell.execute_reply": "2021-10-10T08:04:05.358415Z",
     "shell.execute_reply.started": "2021-10-09T13:18:37.866038Z"
    },
    "papermill": {
     "duration": 0.263472,
     "end_time": "2021-10-10T08:04:05.358632",
     "exception": false,
     "start_time": "2021-10-10T08:04:05.095160",
     "status": "completed"
    },
    "tags": []
   },
   "outputs": [
    {
     "name": "stderr",
     "output_type": "stream",
     "text": [
      "/opt/conda/lib/python3.7/site-packages/seaborn/_decorators.py:43: FutureWarning: Pass the following variables as keyword args: x, y. From version 0.12, the only valid positional argument will be `data`, and passing other arguments without an explicit keyword will result in an error or misinterpretation.\n",
      "  FutureWarning\n"
     ]
    },
    {
     "data": {
      "text/plain": [
       "<AxesSubplot:xlabel='sum_visitors'>"
      ]
     },
     "execution_count": 14,
     "metadata": {},
     "output_type": "execute_result"
    },
    {
     "data": {
      "image/png": "[encoded data removed]",
      "text/plain": [
       "<Figure size 432x288 with 1 Axes>"
      ]
     },
     "metadata": {
      "needs_background": "light"
     },
     "output_type": "display_data"
    }
   ],
   "source": [
    "sns.scatterplot(y, pred2)"
   ]
  },
  {
   "cell_type": "markdown",
   "id": "1616d050",
   "metadata": {
    "papermill": {
     "duration": 0.034487,
     "end_time": "2021-10-10T08:04:05.428577",
     "exception": false,
     "start_time": "2021-10-10T08:04:05.394090",
     "status": "completed"
    },
    "tags": []
   },
   "source": [
    "### Random Forest"
   ]
  },
  {
   "cell_type": "code",
   "execution_count": 15,
   "id": "7591f66e",
   "metadata": {
    "execution": {
     "iopub.execute_input": "2021-10-10T08:04:05.502460Z",
     "iopub.status.busy": "2021-10-10T08:04:05.501859Z",
     "iopub.status.idle": "2021-10-10T08:04:06.786035Z",
     "shell.execute_reply": "2021-10-10T08:04:06.786494Z",
     "shell.execute_reply.started": "2021-10-09T13:18:38.114334Z"
    },
    "papermill": {
     "duration": 1.322647,
     "end_time": "2021-10-10T08:04:06.786708",
     "exception": false,
     "start_time": "2021-10-10T08:04:05.464061",
     "status": "completed"
    },
    "tags": []
   },
   "outputs": [
    {
     "data": {
      "text/plain": [
       "RandomForestRegressor(random_state=1)"
      ]
     },
     "execution_count": 15,
     "metadata": {},
     "output_type": "execute_result"
    }
   ],
   "source": [
    "mod3 = RandomForestRegressor(random_state=1)\n",
    "mod3.fit(X,y)"
   ]
  },
  {
   "cell_type": "code",
   "execution_count": 16,
   "id": "cc99cf54",
   "metadata": {
    "execution": {
     "iopub.execute_input": "2021-10-10T08:04:06.864796Z",
     "iopub.status.busy": "2021-10-10T08:04:06.864079Z",
     "iopub.status.idle": "2021-10-10T08:04:06.963188Z",
     "shell.execute_reply": "2021-10-10T08:04:06.963655Z",
     "shell.execute_reply.started": "2021-10-09T13:18:39.462943Z"
    },
    "papermill": {
     "duration": 0.140536,
     "end_time": "2021-10-10T08:04:06.963852",
     "exception": false,
     "start_time": "2021-10-10T08:04:06.823316",
     "status": "completed"
    },
    "tags": []
   },
   "outputs": [
    {
     "data": {
      "text/html": [
       "<div>\n",
       "<style scoped>\n",
       "    .dataframe tbody tr th:only-of-type {\n",
       "        vertical-align: middle;\n",
       "    }\n",
       "\n",
       "    .dataframe tbody tr th {\n",
       "        vertical-align: top;\n",
       "    }\n",
       "\n",
       "    .dataframe thead th {\n",
       "        text-align: right;\n",
       "    }\n",
       "</style>\n",
       "<table border=\"1\" class=\"dataframe\">\n",
       "  <thead>\n",
       "    <tr style=\"text-align: right;\">\n",
       "      <th></th>\n",
       "      <th>model</th>\n",
       "      <th>MSE</th>\n",
       "      <th>RMSE</th>\n",
       "      <th>MAE</th>\n",
       "      <th>MSLE</th>\n",
       "      <th>RMSLE</th>\n",
       "    </tr>\n",
       "  </thead>\n",
       "  <tbody>\n",
       "    <tr>\n",
       "      <th>0</th>\n",
       "      <td>LinearRegression</td>\n",
       "      <td>6.359374</td>\n",
       "      <td>2.521780</td>\n",
       "      <td>0.268691</td>\n",
       "      <td>0.000784</td>\n",
       "      <td>0.027996</td>\n",
       "    </tr>\n",
       "    <tr>\n",
       "      <th>1</th>\n",
       "      <td>Decision Tree</td>\n",
       "      <td>0.000000</td>\n",
       "      <td>0.000000</td>\n",
       "      <td>0.000000</td>\n",
       "      <td>0.000000</td>\n",
       "      <td>0.000000</td>\n",
       "    </tr>\n",
       "    <tr>\n",
       "      <th>2</th>\n",
       "      <td>RandomForest</td>\n",
       "      <td>32.858591</td>\n",
       "      <td>5.732241</td>\n",
       "      <td>0.226421</td>\n",
       "      <td>0.000043</td>\n",
       "      <td>0.006540</td>\n",
       "    </tr>\n",
       "  </tbody>\n",
       "</table>\n",
       "</div>"
      ],
      "text/plain": [
       "              model        MSE      RMSE       MAE      MSLE     RMSLE\n",
       "0  LinearRegression   6.359374  2.521780  0.268691  0.000784  0.027996\n",
       "1     Decision Tree   0.000000  0.000000  0.000000  0.000000  0.000000\n",
       "2      RandomForest  32.858591  5.732241  0.226421  0.000043  0.006540"
      ]
     },
     "execution_count": 16,
     "metadata": {},
     "output_type": "execute_result"
    }
   ],
   "source": [
    "pred3 = mod3.predict(X)\n",
    "model_dict = {'model': \"RandomForest\"}\n",
    "models_list = models_list.append({**model_dict, **regressionMetrics(y, pred3)}, ignore_index=True)\n",
    "models_list"
   ]
  },
  {
   "cell_type": "code",
   "execution_count": 17,
   "id": "7e7eb7aa",
   "metadata": {
    "execution": {
     "iopub.execute_input": "2021-10-10T08:04:07.042325Z",
     "iopub.status.busy": "2021-10-10T08:04:07.041724Z",
     "iopub.status.idle": "2021-10-10T08:04:07.298035Z",
     "shell.execute_reply": "2021-10-10T08:04:07.298484Z",
     "shell.execute_reply.started": "2021-10-09T13:18:39.56635Z"
    },
    "papermill": {
     "duration": 0.299232,
     "end_time": "2021-10-10T08:04:07.298671",
     "exception": false,
     "start_time": "2021-10-10T08:04:06.999439",
     "status": "completed"
    },
    "tags": []
   },
   "outputs": [
    {
     "name": "stderr",
     "output_type": "stream",
     "text": [
      "/opt/conda/lib/python3.7/site-packages/seaborn/_decorators.py:43: FutureWarning: Pass the following variables as keyword args: x, y. From version 0.12, the only valid positional argument will be `data`, and passing other arguments without an explicit keyword will result in an error or misinterpretation.\n",
      "  FutureWarning\n"
     ]
    },
    {
     "data": {
      "text/plain": [
       "<AxesSubplot:xlabel='sum_visitors'>"
      ]
     },
     "execution_count": 17,
     "metadata": {},
     "output_type": "execute_result"
    },
    {
     "data": {
      "image/png": "[encoded data removed]",
      "text/plain": [
       "<Figure size 432x288 with 1 Axes>"
      ]
     },
     "metadata": {
      "needs_background": "light"
     },
     "output_type": "display_data"
    }
   ],
   "source": [
    "sns.scatterplot(y, pred3)"
   ]
  },
  {
   "cell_type": "markdown",
   "id": "3d61c340",
   "metadata": {
    "papermill": {
     "duration": 0.038448,
     "end_time": "2021-10-10T08:04:07.375183",
     "exception": false,
     "start_time": "2021-10-10T08:04:07.336735",
     "status": "completed"
    },
    "tags": []
   },
   "source": [
    "### Adaptive Boosting (ADABoost)"
   ]
  },
  {
   "cell_type": "code",
   "execution_count": 18,
   "id": "62520c91",
   "metadata": {
    "execution": {
     "iopub.execute_input": "2021-10-10T08:04:07.456174Z",
     "iopub.status.busy": "2021-10-10T08:04:07.455541Z",
     "iopub.status.idle": "2021-10-10T08:04:07.700768Z",
     "shell.execute_reply": "2021-10-10T08:04:07.700139Z",
     "shell.execute_reply.started": "2021-10-09T13:18:39.837573Z"
    },
    "papermill": {
     "duration": 0.28815,
     "end_time": "2021-10-10T08:04:07.700907",
     "exception": false,
     "start_time": "2021-10-10T08:04:07.412757",
     "status": "completed"
    },
    "tags": []
   },
   "outputs": [
    {
     "data": {
      "text/plain": [
       "AdaBoostRegressor(random_state=1)"
      ]
     },
     "execution_count": 18,
     "metadata": {},
     "output_type": "execute_result"
    }
   ],
   "source": [
    "mod4 = AdaBoostRegressor(random_state=1)\n",
    "mod4.fit(X,y)"
   ]
  },
  {
   "cell_type": "code",
   "execution_count": 19,
   "id": "fdb63fcd",
   "metadata": {
    "execution": {
     "iopub.execute_input": "2021-10-10T08:04:07.782420Z",
     "iopub.status.busy": "2021-10-10T08:04:07.781339Z",
     "iopub.status.idle": "2021-10-10T08:04:07.817730Z",
     "shell.execute_reply": "2021-10-10T08:04:07.818149Z",
     "shell.execute_reply.started": "2021-10-09T13:18:40.095983Z"
    },
    "papermill": {
     "duration": 0.078692,
     "end_time": "2021-10-10T08:04:07.818327",
     "exception": false,
     "start_time": "2021-10-10T08:04:07.739635",
     "status": "completed"
    },
    "tags": []
   },
   "outputs": [
    {
     "data": {
      "text/html": [
       "<div>\n",
       "<style scoped>\n",
       "    .dataframe tbody tr th:only-of-type {\n",
       "        vertical-align: middle;\n",
       "    }\n",
       "\n",
       "    .dataframe tbody tr th {\n",
       "        vertical-align: top;\n",
       "    }\n",
       "\n",
       "    .dataframe thead th {\n",
       "        text-align: right;\n",
       "    }\n",
       "</style>\n",
       "<table border=\"1\" class=\"dataframe\">\n",
       "  <thead>\n",
       "    <tr style=\"text-align: right;\">\n",
       "      <th></th>\n",
       "      <th>model</th>\n",
       "      <th>MSE</th>\n",
       "      <th>RMSE</th>\n",
       "      <th>MAE</th>\n",
       "      <th>MSLE</th>\n",
       "      <th>RMSLE</th>\n",
       "    </tr>\n",
       "  </thead>\n",
       "  <tbody>\n",
       "    <tr>\n",
       "      <th>0</th>\n",
       "      <td>LinearRegression</td>\n",
       "      <td>6.359374</td>\n",
       "      <td>2.521780</td>\n",
       "      <td>0.268691</td>\n",
       "      <td>0.000784</td>\n",
       "      <td>0.027996</td>\n",
       "    </tr>\n",
       "    <tr>\n",
       "      <th>1</th>\n",
       "      <td>Decision Tree</td>\n",
       "      <td>0.000000</td>\n",
       "      <td>0.000000</td>\n",
       "      <td>0.000000</td>\n",
       "      <td>0.000000</td>\n",
       "      <td>0.000000</td>\n",
       "    </tr>\n",
       "    <tr>\n",
       "      <th>2</th>\n",
       "      <td>RandomForest</td>\n",
       "      <td>32.858591</td>\n",
       "      <td>5.732241</td>\n",
       "      <td>0.226421</td>\n",
       "      <td>0.000043</td>\n",
       "      <td>0.006540</td>\n",
       "    </tr>\n",
       "    <tr>\n",
       "      <th>3</th>\n",
       "      <td>ADABoost</td>\n",
       "      <td>1427.235485</td>\n",
       "      <td>37.778770</td>\n",
       "      <td>31.776449</td>\n",
       "      <td>0.322310</td>\n",
       "      <td>0.567723</td>\n",
       "    </tr>\n",
       "  </tbody>\n",
       "</table>\n",
       "</div>"
      ],
      "text/plain": [
       "              model          MSE       RMSE        MAE      MSLE     RMSLE\n",
       "0  LinearRegression     6.359374   2.521780   0.268691  0.000784  0.027996\n",
       "1     Decision Tree     0.000000   0.000000   0.000000  0.000000  0.000000\n",
       "2      RandomForest    32.858591   5.732241   0.226421  0.000043  0.006540\n",
       "3          ADABoost  1427.235485  37.778770  31.776449  0.322310  0.567723"
      ]
     },
     "execution_count": 19,
     "metadata": {},
     "output_type": "execute_result"
    }
   ],
   "source": [
    "pred4 = mod4.predict(X)\n",
    "model_dict = {'model': \"ADABoost\"}\n",
    "models_list = models_list.append({**model_dict, **regressionMetrics(y, pred4)}, ignore_index=True)\n",
    "models_list"
   ]
  },
  {
   "cell_type": "code",
   "execution_count": 20,
   "id": "295e39e2",
   "metadata": {
    "execution": {
     "iopub.execute_input": "2021-10-10T08:04:07.903722Z",
     "iopub.status.busy": "2021-10-10T08:04:07.903035Z",
     "iopub.status.idle": "2021-10-10T08:04:08.163078Z",
     "shell.execute_reply": "2021-10-10T08:04:08.163590Z",
     "shell.execute_reply.started": "2021-10-09T13:18:40.138681Z"
    },
    "papermill": {
     "duration": 0.307686,
     "end_time": "2021-10-10T08:04:08.163770",
     "exception": false,
     "start_time": "2021-10-10T08:04:07.856084",
     "status": "completed"
    },
    "tags": []
   },
   "outputs": [
    {
     "name": "stderr",
     "output_type": "stream",
     "text": [
      "/opt/conda/lib/python3.7/site-packages/seaborn/_decorators.py:43: FutureWarning: Pass the following variables as keyword args: x, y. From version 0.12, the only valid positional argument will be `data`, and passing other arguments without an explicit keyword will result in an error or misinterpretation.\n",
      "  FutureWarning\n"
     ]
    },
    {
     "data": {
      "text/plain": [
       "<AxesSubplot:xlabel='sum_visitors'>"
      ]
     },
     "execution_count": 20,
     "metadata": {},
     "output_type": "execute_result"
    },
    {
     "data": {
      "image/png": "[encoded data removed]",
      "text/plain": [
       "<Figure size 432x288 with 1 Axes>"
      ]
     },
     "metadata": {
      "needs_background": "light"
     },
     "output_type": "display_data"
    }
   ],
   "source": [
    "sns.scatterplot(y, pred4)"
   ]
  },
  {
   "cell_type": "markdown",
   "id": "296a7e04",
   "metadata": {
    "papermill": {
     "duration": 0.043847,
     "end_time": "2021-10-10T08:04:08.246497",
     "exception": false,
     "start_time": "2021-10-10T08:04:08.202650",
     "status": "completed"
    },
    "tags": []
   },
   "source": [
    "### Gradient Boosting Machine (GBM)"
   ]
  },
  {
   "cell_type": "code",
   "execution_count": 21,
   "id": "16c21cac",
   "metadata": {
    "execution": {
     "iopub.execute_input": "2021-10-10T08:04:08.329611Z",
     "iopub.status.busy": "2021-10-10T08:04:08.328580Z",
     "iopub.status.idle": "2021-10-10T08:04:08.931592Z",
     "shell.execute_reply": "2021-10-10T08:04:08.932008Z",
     "shell.execute_reply.started": "2021-10-09T13:18:40.408791Z"
    },
    "papermill": {
     "duration": 0.645288,
     "end_time": "2021-10-10T08:04:08.932177",
     "exception": false,
     "start_time": "2021-10-10T08:04:08.286889",
     "status": "completed"
    },
    "tags": []
   },
   "outputs": [
    {
     "data": {
      "text/plain": [
       "GradientBoostingRegressor(random_state=1)"
      ]
     },
     "execution_count": 21,
     "metadata": {},
     "output_type": "execute_result"
    }
   ],
   "source": [
    "mod5 = GradientBoostingRegressor(random_state=1)\n",
    "mod5.fit(X,y)"
   ]
  },
  {
   "cell_type": "code",
   "execution_count": 22,
   "id": "22448c86",
   "metadata": {
    "execution": {
     "iopub.execute_input": "2021-10-10T08:04:09.016575Z",
     "iopub.status.busy": "2021-10-10T08:04:09.015660Z",
     "iopub.status.idle": "2021-10-10T08:04:09.041679Z",
     "shell.execute_reply": "2021-10-10T08:04:09.041123Z",
     "shell.execute_reply.started": "2021-10-09T13:18:41.007484Z"
    },
    "papermill": {
     "duration": 0.069635,
     "end_time": "2021-10-10T08:04:09.041827",
     "exception": false,
     "start_time": "2021-10-10T08:04:08.972192",
     "status": "completed"
    },
    "tags": []
   },
   "outputs": [
    {
     "data": {
      "text/html": [
       "<div>\n",
       "<style scoped>\n",
       "    .dataframe tbody tr th:only-of-type {\n",
       "        vertical-align: middle;\n",
       "    }\n",
       "\n",
       "    .dataframe tbody tr th {\n",
       "        vertical-align: top;\n",
       "    }\n",
       "\n",
       "    .dataframe thead th {\n",
       "        text-align: right;\n",
       "    }\n",
       "</style>\n",
       "<table border=\"1\" class=\"dataframe\">\n",
       "  <thead>\n",
       "    <tr style=\"text-align: right;\">\n",
       "      <th></th>\n",
       "      <th>model</th>\n",
       "      <th>MSE</th>\n",
       "      <th>RMSE</th>\n",
       "      <th>MAE</th>\n",
       "      <th>MSLE</th>\n",
       "      <th>RMSLE</th>\n",
       "    </tr>\n",
       "  </thead>\n",
       "  <tbody>\n",
       "    <tr>\n",
       "      <th>0</th>\n",
       "      <td>LinearRegression</td>\n",
       "      <td>6.359374</td>\n",
       "      <td>2.521780</td>\n",
       "      <td>0.268691</td>\n",
       "      <td>0.000784</td>\n",
       "      <td>0.027996</td>\n",
       "    </tr>\n",
       "    <tr>\n",
       "      <th>1</th>\n",
       "      <td>Decision Tree</td>\n",
       "      <td>0.000000</td>\n",
       "      <td>0.000000</td>\n",
       "      <td>0.000000</td>\n",
       "      <td>0.000000</td>\n",
       "      <td>0.000000</td>\n",
       "    </tr>\n",
       "    <tr>\n",
       "      <th>2</th>\n",
       "      <td>RandomForest</td>\n",
       "      <td>32.858591</td>\n",
       "      <td>5.732241</td>\n",
       "      <td>0.226421</td>\n",
       "      <td>0.000043</td>\n",
       "      <td>0.006540</td>\n",
       "    </tr>\n",
       "    <tr>\n",
       "      <th>3</th>\n",
       "      <td>ADABoost</td>\n",
       "      <td>1427.235485</td>\n",
       "      <td>37.778770</td>\n",
       "      <td>31.776449</td>\n",
       "      <td>0.322310</td>\n",
       "      <td>0.567723</td>\n",
       "    </tr>\n",
       "    <tr>\n",
       "      <th>4</th>\n",
       "      <td>GBM</td>\n",
       "      <td>2.727011</td>\n",
       "      <td>1.651366</td>\n",
       "      <td>1.104786</td>\n",
       "      <td>0.000751</td>\n",
       "      <td>0.027412</td>\n",
       "    </tr>\n",
       "  </tbody>\n",
       "</table>\n",
       "</div>"
      ],
      "text/plain": [
       "              model          MSE       RMSE        MAE      MSLE     RMSLE\n",
       "0  LinearRegression     6.359374   2.521780   0.268691  0.000784  0.027996\n",
       "1     Decision Tree     0.000000   0.000000   0.000000  0.000000  0.000000\n",
       "2      RandomForest    32.858591   5.732241   0.226421  0.000043  0.006540\n",
       "3          ADABoost  1427.235485  37.778770  31.776449  0.322310  0.567723\n",
       "4               GBM     2.727011   1.651366   1.104786  0.000751  0.027412"
      ]
     },
     "execution_count": 22,
     "metadata": {},
     "output_type": "execute_result"
    }
   ],
   "source": [
    "pred5 = mod5.predict(X)\n",
    "model_dict = {'model': \"GBM\"}\n",
    "models_list = models_list.append({**model_dict, **regressionMetrics(y, pred5)}, ignore_index=True)\n",
    "models_list"
   ]
  },
  {
   "cell_type": "code",
   "execution_count": 23,
   "id": "b6863d80",
   "metadata": {
    "execution": {
     "iopub.execute_input": "2021-10-10T08:04:09.131091Z",
     "iopub.status.busy": "2021-10-10T08:04:09.126905Z",
     "iopub.status.idle": "2021-10-10T08:04:09.335845Z",
     "shell.execute_reply": "2021-10-10T08:04:09.335353Z",
     "shell.execute_reply.started": "2021-10-09T13:18:41.043561Z"
    },
    "papermill": {
     "duration": 0.253082,
     "end_time": "2021-10-10T08:04:09.335999",
     "exception": false,
     "start_time": "2021-10-10T08:04:09.082917",
     "status": "completed"
    },
    "tags": []
   },
   "outputs": [
    {
     "name": "stderr",
     "output_type": "stream",
     "text": [
      "/opt/conda/lib/python3.7/site-packages/seaborn/_decorators.py:43: FutureWarning: Pass the following variables as keyword args: x, y. From version 0.12, the only valid positional argument will be `data`, and passing other arguments without an explicit keyword will result in an error or misinterpretation.\n",
      "  FutureWarning\n"
     ]
    },
    {
     "data": {
      "text/plain": [
       "<AxesSubplot:xlabel='sum_visitors'>"
      ]
     },
     "execution_count": 23,
     "metadata": {},
     "output_type": "execute_result"
    },
    {
     "data": {
      "image/png": "[encoded data removed]",
      "text/plain": [
       "<Figure size 432x288 with 1 Axes>"
      ]
     },
     "metadata": {
      "needs_background": "light"
     },
     "output_type": "display_data"
    }
   ],
   "source": [
    "sns.scatterplot(y, pred5)"
   ]
  },
  {
   "cell_type": "markdown",
   "id": "9059ae9d",
   "metadata": {
    "papermill": {
     "duration": 0.041486,
     "end_time": "2021-10-10T08:04:09.419287",
     "exception": false,
     "start_time": "2021-10-10T08:04:09.377801",
     "status": "completed"
    },
    "tags": []
   },
   "source": [
    "### Support Vector Machine (SVM)"
   ]
  },
  {
   "cell_type": "code",
   "execution_count": 24,
   "id": "4d80320d",
   "metadata": {
    "execution": {
     "iopub.execute_input": "2021-10-10T08:04:09.507268Z",
     "iopub.status.busy": "2021-10-10T08:04:09.506633Z",
     "iopub.status.idle": "2021-10-10T08:04:12.418189Z",
     "shell.execute_reply": "2021-10-10T08:04:12.417688Z",
     "shell.execute_reply.started": "2021-10-09T13:18:41.294523Z"
    },
    "papermill": {
     "duration": 2.95874,
     "end_time": "2021-10-10T08:04:12.418323",
     "exception": false,
     "start_time": "2021-10-10T08:04:09.459583",
     "status": "completed"
    },
    "tags": []
   },
   "outputs": [
    {
     "data": {
      "text/plain": [
       "SVR()"
      ]
     },
     "execution_count": 24,
     "metadata": {},
     "output_type": "execute_result"
    }
   ],
   "source": [
    "mod6 = SVR()\n",
    "mod6.fit(X,y)"
   ]
  },
  {
   "cell_type": "code",
   "execution_count": 25,
   "id": "9ffd0b96",
   "metadata": {
    "execution": {
     "iopub.execute_input": "2021-10-10T08:04:12.505837Z",
     "iopub.status.busy": "2021-10-10T08:04:12.505166Z",
     "iopub.status.idle": "2021-10-10T08:04:13.672323Z",
     "shell.execute_reply": "2021-10-10T08:04:13.671788Z",
     "shell.execute_reply.started": "2021-10-09T13:18:44.18611Z"
    },
    "papermill": {
     "duration": 1.213435,
     "end_time": "2021-10-10T08:04:13.672461",
     "exception": false,
     "start_time": "2021-10-10T08:04:12.459026",
     "status": "completed"
    },
    "tags": []
   },
   "outputs": [
    {
     "data": {
      "text/html": [
       "<div>\n",
       "<style scoped>\n",
       "    .dataframe tbody tr th:only-of-type {\n",
       "        vertical-align: middle;\n",
       "    }\n",
       "\n",
       "    .dataframe tbody tr th {\n",
       "        vertical-align: top;\n",
       "    }\n",
       "\n",
       "    .dataframe thead th {\n",
       "        text-align: right;\n",
       "    }\n",
       "</style>\n",
       "<table border=\"1\" class=\"dataframe\">\n",
       "  <thead>\n",
       "    <tr style=\"text-align: right;\">\n",
       "      <th></th>\n",
       "      <th>model</th>\n",
       "      <th>MSE</th>\n",
       "      <th>RMSE</th>\n",
       "      <th>MAE</th>\n",
       "      <th>MSLE</th>\n",
       "      <th>RMSLE</th>\n",
       "    </tr>\n",
       "  </thead>\n",
       "  <tbody>\n",
       "    <tr>\n",
       "      <th>0</th>\n",
       "      <td>LinearRegression</td>\n",
       "      <td>6.359374</td>\n",
       "      <td>2.521780</td>\n",
       "      <td>0.268691</td>\n",
       "      <td>0.000784</td>\n",
       "      <td>0.027996</td>\n",
       "    </tr>\n",
       "    <tr>\n",
       "      <th>1</th>\n",
       "      <td>Decision Tree</td>\n",
       "      <td>0.000000</td>\n",
       "      <td>0.000000</td>\n",
       "      <td>0.000000</td>\n",
       "      <td>0.000000</td>\n",
       "      <td>0.000000</td>\n",
       "    </tr>\n",
       "    <tr>\n",
       "      <th>2</th>\n",
       "      <td>RandomForest</td>\n",
       "      <td>32.858591</td>\n",
       "      <td>5.732241</td>\n",
       "      <td>0.226421</td>\n",
       "      <td>0.000043</td>\n",
       "      <td>0.006540</td>\n",
       "    </tr>\n",
       "    <tr>\n",
       "      <th>3</th>\n",
       "      <td>ADABoost</td>\n",
       "      <td>1427.235485</td>\n",
       "      <td>37.778770</td>\n",
       "      <td>31.776449</td>\n",
       "      <td>0.322310</td>\n",
       "      <td>0.567723</td>\n",
       "    </tr>\n",
       "    <tr>\n",
       "      <th>4</th>\n",
       "      <td>GBM</td>\n",
       "      <td>2.727011</td>\n",
       "      <td>1.651366</td>\n",
       "      <td>1.104786</td>\n",
       "      <td>0.000751</td>\n",
       "      <td>0.027412</td>\n",
       "    </tr>\n",
       "    <tr>\n",
       "      <th>5</th>\n",
       "      <td>SVR</td>\n",
       "      <td>14700.298246</td>\n",
       "      <td>121.244786</td>\n",
       "      <td>13.548395</td>\n",
       "      <td>0.044028</td>\n",
       "      <td>0.209829</td>\n",
       "    </tr>\n",
       "  </tbody>\n",
       "</table>\n",
       "</div>"
      ],
      "text/plain": [
       "              model           MSE        RMSE        MAE      MSLE     RMSLE\n",
       "0  LinearRegression      6.359374    2.521780   0.268691  0.000784  0.027996\n",
       "1     Decision Tree      0.000000    0.000000   0.000000  0.000000  0.000000\n",
       "2      RandomForest     32.858591    5.732241   0.226421  0.000043  0.006540\n",
       "3          ADABoost   1427.235485   37.778770  31.776449  0.322310  0.567723\n",
       "4               GBM      2.727011    1.651366   1.104786  0.000751  0.027412\n",
       "5               SVR  14700.298246  121.244786  13.548395  0.044028  0.209829"
      ]
     },
     "execution_count": 25,
     "metadata": {},
     "output_type": "execute_result"
    }
   ],
   "source": [
    "pred6 = mod6.predict(X)\n",
    "model_dict = {'model': \"SVR\"}\n",
    "models_list = models_list.append({**model_dict, **regressionMetrics(y, pred6)}, ignore_index=True)\n",
    "models_list"
   ]
  },
  {
   "cell_type": "code",
   "execution_count": 26,
   "id": "e4e18fa5",
   "metadata": {
    "execution": {
     "iopub.execute_input": "2021-10-10T08:04:13.768053Z",
     "iopub.status.busy": "2021-10-10T08:04:13.767058Z",
     "iopub.status.idle": "2021-10-10T08:04:14.011164Z",
     "shell.execute_reply": "2021-10-10T08:04:14.011849Z",
     "shell.execute_reply.started": "2021-10-09T13:18:45.368705Z"
    },
    "papermill": {
     "duration": 0.295243,
     "end_time": "2021-10-10T08:04:14.012061",
     "exception": false,
     "start_time": "2021-10-10T08:04:13.716818",
     "status": "completed"
    },
    "tags": []
   },
   "outputs": [
    {
     "name": "stderr",
     "output_type": "stream",
     "text": [
      "/opt/conda/lib/python3.7/site-packages/seaborn/_decorators.py:43: FutureWarning: Pass the following variables as keyword args: x, y. From version 0.12, the only valid positional argument will be `data`, and passing other arguments without an explicit keyword will result in an error or misinterpretation.\n",
      "  FutureWarning\n"
     ]
    },
    {
     "data": {
      "text/plain": [
       "<AxesSubplot:xlabel='sum_visitors'>"
      ]
     },
     "execution_count": 26,
     "metadata": {},
     "output_type": "execute_result"
    },
    {
     "data": {
      "image/png": "[encoded data removed]",
      "text/plain": [
       "<Figure size 432x288 with 1 Axes>"
      ]
     },
     "metadata": {
      "needs_background": "light"
     },
     "output_type": "display_data"
    }
   ],
   "source": [
    "sns.scatterplot(y, pred6)"
   ]
  },
  {
   "cell_type": "markdown",
   "id": "f9af2a99",
   "metadata": {
    "papermill": {
     "duration": 0.045306,
     "end_time": "2021-10-10T08:04:14.101695",
     "exception": false,
     "start_time": "2021-10-10T08:04:14.056389",
     "status": "completed"
    },
    "tags": []
   },
   "source": [
    "# Ridge"
   ]
  },
  {
   "cell_type": "code",
   "execution_count": 27,
   "id": "b0056f81",
   "metadata": {
    "execution": {
     "iopub.execute_input": "2021-10-10T08:04:14.198018Z",
     "iopub.status.busy": "2021-10-10T08:04:14.197226Z",
     "iopub.status.idle": "2021-10-10T08:04:14.345262Z",
     "shell.execute_reply": "2021-10-10T08:04:14.346347Z",
     "shell.execute_reply.started": "2021-10-09T13:18:45.646193Z"
    },
    "papermill": {
     "duration": 0.198965,
     "end_time": "2021-10-10T08:04:14.346684",
     "exception": false,
     "start_time": "2021-10-10T08:04:14.147719",
     "status": "completed"
    },
    "tags": []
   },
   "outputs": [
    {
     "data": {
      "text/plain": [
       "RidgeClassifier()"
      ]
     },
     "execution_count": 27,
     "metadata": {},
     "output_type": "execute_result"
    }
   ],
   "source": [
    "mod7 = RidgeClassifier()\n",
    "mod7.fit(X,y)"
   ]
  },
  {
   "cell_type": "code",
   "execution_count": 28,
   "id": "0e8c9291",
   "metadata": {
    "execution": {
     "iopub.execute_input": "2021-10-10T08:04:14.497825Z",
     "iopub.status.busy": "2021-10-10T08:04:14.496558Z",
     "iopub.status.idle": "2021-10-10T08:04:14.560070Z",
     "shell.execute_reply": "2021-10-10T08:04:14.560940Z",
     "shell.execute_reply.started": "2021-10-09T13:18:45.770999Z"
    },
    "papermill": {
     "duration": 0.113607,
     "end_time": "2021-10-10T08:04:14.561238",
     "exception": false,
     "start_time": "2021-10-10T08:04:14.447631",
     "status": "completed"
    },
    "tags": []
   },
   "outputs": [
    {
     "data": {
      "text/html": [
       "<div>\n",
       "<style scoped>\n",
       "    .dataframe tbody tr th:only-of-type {\n",
       "        vertical-align: middle;\n",
       "    }\n",
       "\n",
       "    .dataframe tbody tr th {\n",
       "        vertical-align: top;\n",
       "    }\n",
       "\n",
       "    .dataframe thead th {\n",
       "        text-align: right;\n",
       "    }\n",
       "</style>\n",
       "<table border=\"1\" class=\"dataframe\">\n",
       "  <thead>\n",
       "    <tr style=\"text-align: right;\">\n",
       "      <th></th>\n",
       "      <th>model</th>\n",
       "      <th>MSE</th>\n",
       "      <th>RMSE</th>\n",
       "      <th>MAE</th>\n",
       "      <th>MSLE</th>\n",
       "      <th>RMSLE</th>\n",
       "    </tr>\n",
       "  </thead>\n",
       "  <tbody>\n",
       "    <tr>\n",
       "      <th>0</th>\n",
       "      <td>LinearRegression</td>\n",
       "      <td>6.359374</td>\n",
       "      <td>2.521780</td>\n",
       "      <td>0.268691</td>\n",
       "      <td>0.000784</td>\n",
       "      <td>0.027996</td>\n",
       "    </tr>\n",
       "    <tr>\n",
       "      <th>1</th>\n",
       "      <td>Decision Tree</td>\n",
       "      <td>0.000000</td>\n",
       "      <td>0.000000</td>\n",
       "      <td>0.000000</td>\n",
       "      <td>0.000000</td>\n",
       "      <td>0.000000</td>\n",
       "    </tr>\n",
       "    <tr>\n",
       "      <th>2</th>\n",
       "      <td>RandomForest</td>\n",
       "      <td>32.858591</td>\n",
       "      <td>5.732241</td>\n",
       "      <td>0.226421</td>\n",
       "      <td>0.000043</td>\n",
       "      <td>0.006540</td>\n",
       "    </tr>\n",
       "    <tr>\n",
       "      <th>3</th>\n",
       "      <td>ADABoost</td>\n",
       "      <td>1427.235485</td>\n",
       "      <td>37.778770</td>\n",
       "      <td>31.776449</td>\n",
       "      <td>0.322310</td>\n",
       "      <td>0.567723</td>\n",
       "    </tr>\n",
       "    <tr>\n",
       "      <th>4</th>\n",
       "      <td>GBM</td>\n",
       "      <td>2.727011</td>\n",
       "      <td>1.651366</td>\n",
       "      <td>1.104786</td>\n",
       "      <td>0.000751</td>\n",
       "      <td>0.027412</td>\n",
       "    </tr>\n",
       "    <tr>\n",
       "      <th>5</th>\n",
       "      <td>SVR</td>\n",
       "      <td>14700.298246</td>\n",
       "      <td>121.244786</td>\n",
       "      <td>13.548395</td>\n",
       "      <td>0.044028</td>\n",
       "      <td>0.209829</td>\n",
       "    </tr>\n",
       "    <tr>\n",
       "      <th>6</th>\n",
       "      <td>Ridge</td>\n",
       "      <td>115096.759645</td>\n",
       "      <td>339.259133</td>\n",
       "      <td>116.908056</td>\n",
       "      <td>0.549416</td>\n",
       "      <td>0.741226</td>\n",
       "    </tr>\n",
       "  </tbody>\n",
       "</table>\n",
       "</div>"
      ],
      "text/plain": [
       "              model            MSE        RMSE         MAE      MSLE     RMSLE\n",
       "0  LinearRegression       6.359374    2.521780    0.268691  0.000784  0.027996\n",
       "1     Decision Tree       0.000000    0.000000    0.000000  0.000000  0.000000\n",
       "2      RandomForest      32.858591    5.732241    0.226421  0.000043  0.006540\n",
       "3          ADABoost    1427.235485   37.778770   31.776449  0.322310  0.567723\n",
       "4               GBM       2.727011    1.651366    1.104786  0.000751  0.027412\n",
       "5               SVR   14700.298246  121.244786   13.548395  0.044028  0.209829\n",
       "6             Ridge  115096.759645  339.259133  116.908056  0.549416  0.741226"
      ]
     },
     "execution_count": 28,
     "metadata": {},
     "output_type": "execute_result"
    }
   ],
   "source": [
    "pred7 = mod7.predict(X)\n",
    "model_dict = {'model': \"Ridge\"}\n",
    "models_list = models_list.append({**model_dict, **regressionMetrics(y, pred7)}, ignore_index=True)\n",
    "models_list"
   ]
  },
  {
   "cell_type": "code",
   "execution_count": 29,
   "id": "7556b33f",
   "metadata": {
    "execution": {
     "iopub.execute_input": "2021-10-10T08:04:14.686009Z",
     "iopub.status.busy": "2021-10-10T08:04:14.685347Z",
     "iopub.status.idle": "2021-10-10T08:04:14.922879Z",
     "shell.execute_reply": "2021-10-10T08:04:14.922236Z",
     "shell.execute_reply.started": "2021-10-09T13:18:45.84489Z"
    },
    "papermill": {
     "duration": 0.284901,
     "end_time": "2021-10-10T08:04:14.923015",
     "exception": false,
     "start_time": "2021-10-10T08:04:14.638114",
     "status": "completed"
    },
    "tags": []
   },
   "outputs": [
    {
     "name": "stderr",
     "output_type": "stream",
     "text": [
      "/opt/conda/lib/python3.7/site-packages/seaborn/_decorators.py:43: FutureWarning: Pass the following variables as keyword args: x, y. From version 0.12, the only valid positional argument will be `data`, and passing other arguments without an explicit keyword will result in an error or misinterpretation.\n",
      "  FutureWarning\n"
     ]
    },
    {
     "data": {
      "text/plain": [
       "<AxesSubplot:xlabel='sum_visitors'>"
      ]
     },
     "execution_count": 29,
     "metadata": {},
     "output_type": "execute_result"
    },
    {
     "data": {
      "image/png": "[encoded data removed]",
      "text/plain": [
       "<Figure size 432x288 with 1 Axes>"
      ]
     },
     "metadata": {
      "needs_background": "light"
     },
     "output_type": "display_data"
    }
   ],
   "source": [
    "sns.scatterplot(y, pred7)"
   ]
  },
  {
   "cell_type": "markdown",
   "id": "4a4194ac",
   "metadata": {
    "papermill": {
     "duration": 0.044518,
     "end_time": "2021-10-10T08:04:15.013571",
     "exception": false,
     "start_time": "2021-10-10T08:04:14.969053",
     "status": "completed"
    },
    "tags": []
   },
   "source": [
    "# Stochastic Gradient Descent Regression = SGD"
   ]
  },
  {
   "cell_type": "code",
   "execution_count": 30,
   "id": "366545f7",
   "metadata": {
    "execution": {
     "iopub.execute_input": "2021-10-10T08:04:15.106923Z",
     "iopub.status.busy": "2021-10-10T08:04:15.105333Z",
     "iopub.status.idle": "2021-10-10T08:04:20.168566Z",
     "shell.execute_reply": "2021-10-10T08:04:20.167883Z",
     "shell.execute_reply.started": "2021-10-09T13:18:46.062257Z"
    },
    "papermill": {
     "duration": 5.110848,
     "end_time": "2021-10-10T08:04:20.168718",
     "exception": false,
     "start_time": "2021-10-10T08:04:15.057870",
     "status": "completed"
    },
    "scrolled": true,
    "tags": []
   },
   "outputs": [
    {
     "data": {
      "text/plain": [
       "SGDClassifier()"
      ]
     },
     "execution_count": 30,
     "metadata": {},
     "output_type": "execute_result"
    }
   ],
   "source": [
    "mod8 = SGDClassifier()\n",
    "mod8.fit(X,y)"
   ]
  },
  {
   "cell_type": "code",
   "execution_count": 31,
   "id": "3c9e2761",
   "metadata": {
    "execution": {
     "iopub.execute_input": "2021-10-10T08:04:20.263996Z",
     "iopub.status.busy": "2021-10-10T08:04:20.262597Z",
     "iopub.status.idle": "2021-10-10T08:04:20.322571Z",
     "shell.execute_reply": "2021-10-10T08:04:20.323675Z",
     "shell.execute_reply.started": "2021-10-09T13:18:50.988327Z"
    },
    "papermill": {
     "duration": 0.111332,
     "end_time": "2021-10-10T08:04:20.323976",
     "exception": false,
     "start_time": "2021-10-10T08:04:20.212644",
     "status": "completed"
    },
    "tags": []
   },
   "outputs": [
    {
     "data": {
      "text/html": [
       "<div>\n",
       "<style scoped>\n",
       "    .dataframe tbody tr th:only-of-type {\n",
       "        vertical-align: middle;\n",
       "    }\n",
       "\n",
       "    .dataframe tbody tr th {\n",
       "        vertical-align: top;\n",
       "    }\n",
       "\n",
       "    .dataframe thead th {\n",
       "        text-align: right;\n",
       "    }\n",
       "</style>\n",
       "<table border=\"1\" class=\"dataframe\">\n",
       "  <thead>\n",
       "    <tr style=\"text-align: right;\">\n",
       "      <th></th>\n",
       "      <th>model</th>\n",
       "      <th>MSE</th>\n",
       "      <th>RMSE</th>\n",
       "      <th>MAE</th>\n",
       "      <th>MSLE</th>\n",
       "      <th>RMSLE</th>\n",
       "    </tr>\n",
       "  </thead>\n",
       "  <tbody>\n",
       "    <tr>\n",
       "      <th>0</th>\n",
       "      <td>LinearRegression</td>\n",
       "      <td>6.359374</td>\n",
       "      <td>2.521780</td>\n",
       "      <td>0.268691</td>\n",
       "      <td>0.000784</td>\n",
       "      <td>0.027996</td>\n",
       "    </tr>\n",
       "    <tr>\n",
       "      <th>1</th>\n",
       "      <td>Decision Tree</td>\n",
       "      <td>0.000000</td>\n",
       "      <td>0.000000</td>\n",
       "      <td>0.000000</td>\n",
       "      <td>0.000000</td>\n",
       "      <td>0.000000</td>\n",
       "    </tr>\n",
       "    <tr>\n",
       "      <th>2</th>\n",
       "      <td>RandomForest</td>\n",
       "      <td>32.858591</td>\n",
       "      <td>5.732241</td>\n",
       "      <td>0.226421</td>\n",
       "      <td>0.000043</td>\n",
       "      <td>0.006540</td>\n",
       "    </tr>\n",
       "    <tr>\n",
       "      <th>3</th>\n",
       "      <td>ADABoost</td>\n",
       "      <td>1427.235485</td>\n",
       "      <td>37.778770</td>\n",
       "      <td>31.776449</td>\n",
       "      <td>0.322310</td>\n",
       "      <td>0.567723</td>\n",
       "    </tr>\n",
       "    <tr>\n",
       "      <th>4</th>\n",
       "      <td>GBM</td>\n",
       "      <td>2.727011</td>\n",
       "      <td>1.651366</td>\n",
       "      <td>1.104786</td>\n",
       "      <td>0.000751</td>\n",
       "      <td>0.027412</td>\n",
       "    </tr>\n",
       "    <tr>\n",
       "      <th>5</th>\n",
       "      <td>SVR</td>\n",
       "      <td>14700.298246</td>\n",
       "      <td>121.244786</td>\n",
       "      <td>13.548395</td>\n",
       "      <td>0.044028</td>\n",
       "      <td>0.209829</td>\n",
       "    </tr>\n",
       "    <tr>\n",
       "      <th>6</th>\n",
       "      <td>Ridge</td>\n",
       "      <td>115096.759645</td>\n",
       "      <td>339.259133</td>\n",
       "      <td>116.908056</td>\n",
       "      <td>0.549416</td>\n",
       "      <td>0.741226</td>\n",
       "    </tr>\n",
       "    <tr>\n",
       "      <th>7</th>\n",
       "      <td>SGD</td>\n",
       "      <td>26109.055728</td>\n",
       "      <td>161.582969</td>\n",
       "      <td>77.645528</td>\n",
       "      <td>0.573370</td>\n",
       "      <td>0.757212</td>\n",
       "    </tr>\n",
       "  </tbody>\n",
       "</table>\n",
       "</div>"
      ],
      "text/plain": [
       "              model            MSE        RMSE         MAE      MSLE     RMSLE\n",
       "0  LinearRegression       6.359374    2.521780    0.268691  0.000784  0.027996\n",
       "1     Decision Tree       0.000000    0.000000    0.000000  0.000000  0.000000\n",
       "2      RandomForest      32.858591    5.732241    0.226421  0.000043  0.006540\n",
       "3          ADABoost    1427.235485   37.778770   31.776449  0.322310  0.567723\n",
       "4               GBM       2.727011    1.651366    1.104786  0.000751  0.027412\n",
       "5               SVR   14700.298246  121.244786   13.548395  0.044028  0.209829\n",
       "6             Ridge  115096.759645  339.259133  116.908056  0.549416  0.741226\n",
       "7               SGD   26109.055728  161.582969   77.645528  0.573370  0.757212"
      ]
     },
     "execution_count": 31,
     "metadata": {},
     "output_type": "execute_result"
    }
   ],
   "source": [
    "pred8 = mod8.predict(X)\n",
    "model_dict = {'model': \"SGD\"}\n",
    "models_list = models_list.append({**model_dict, **regressionMetrics(y, pred8)}, ignore_index=True)\n",
    "models_list"
   ]
  },
  {
   "cell_type": "code",
   "execution_count": 32,
   "id": "24fccc2e",
   "metadata": {
    "execution": {
     "iopub.execute_input": "2021-10-10T08:04:20.455797Z",
     "iopub.status.busy": "2021-10-10T08:04:20.455128Z",
     "iopub.status.idle": "2021-10-10T08:04:20.693844Z",
     "shell.execute_reply": "2021-10-10T08:04:20.693334Z",
     "shell.execute_reply.started": "2021-10-09T13:18:51.071082Z"
    },
    "papermill": {
     "duration": 0.290031,
     "end_time": "2021-10-10T08:04:20.693987",
     "exception": false,
     "start_time": "2021-10-10T08:04:20.403956",
     "status": "completed"
    },
    "scrolled": true,
    "tags": []
   },
   "outputs": [
    {
     "name": "stderr",
     "output_type": "stream",
     "text": [
      "/opt/conda/lib/python3.7/site-packages/seaborn/_decorators.py:43: FutureWarning: Pass the following variables as keyword args: x, y. From version 0.12, the only valid positional argument will be `data`, and passing other arguments without an explicit keyword will result in an error or misinterpretation.\n",
      "  FutureWarning\n"
     ]
    },
    {
     "data": {
      "text/plain": [
       "<AxesSubplot:xlabel='sum_visitors'>"
      ]
     },
     "execution_count": 32,
     "metadata": {},
     "output_type": "execute_result"
    },
    {
     "data": {
      "image/png": "[encoded data removed]",
      "text/plain": [
       "<Figure size 432x288 with 1 Axes>"
      ]
     },
     "metadata": {
      "needs_background": "light"
     },
     "output_type": "display_data"
    }
   ],
   "source": [
    "sns.scatterplot(y, pred8)"
   ]
  },
  {
   "cell_type": "markdown",
   "id": "5504582d",
   "metadata": {
    "papermill": {
     "duration": 0.045899,
     "end_time": "2021-10-10T08:04:20.785310",
     "exception": false,
     "start_time": "2021-10-10T08:04:20.739411",
     "status": "completed"
    },
    "tags": []
   },
   "source": [
    "# Elastic Net "
   ]
  },
  {
   "cell_type": "code",
   "execution_count": 33,
   "id": "5fff541c",
   "metadata": {
    "execution": {
     "iopub.execute_input": "2021-10-10T08:04:20.884998Z",
     "iopub.status.busy": "2021-10-10T08:04:20.880850Z",
     "iopub.status.idle": "2021-10-10T08:04:20.894818Z",
     "shell.execute_reply": "2021-10-10T08:04:20.895809Z",
     "shell.execute_reply.started": "2021-10-09T13:18:51.296129Z"
    },
    "papermill": {
     "duration": 0.065345,
     "end_time": "2021-10-10T08:04:20.896084",
     "exception": false,
     "start_time": "2021-10-10T08:04:20.830739",
     "status": "completed"
    },
    "tags": []
   },
   "outputs": [
    {
     "data": {
      "text/plain": [
       "ElasticNet()"
      ]
     },
     "execution_count": 33,
     "metadata": {},
     "output_type": "execute_result"
    }
   ],
   "source": [
    "mod9 = ElasticNet(alpha=1.0, l1_ratio=0.5)\n",
    "mod9.fit(X,y)"
   ]
  },
  {
   "cell_type": "code",
   "execution_count": 34,
   "id": "c7473a01",
   "metadata": {
    "execution": {
     "iopub.execute_input": "2021-10-10T08:04:21.051588Z",
     "iopub.status.busy": "2021-10-10T08:04:21.050467Z",
     "iopub.status.idle": "2021-10-10T08:04:21.080139Z",
     "shell.execute_reply": "2021-10-10T08:04:21.081153Z",
     "shell.execute_reply.started": "2021-10-09T13:18:51.312365Z"
    },
    "papermill": {
     "duration": 0.090062,
     "end_time": "2021-10-10T08:04:21.081440",
     "exception": false,
     "start_time": "2021-10-10T08:04:20.991378",
     "status": "completed"
    },
    "tags": []
   },
   "outputs": [
    {
     "data": {
      "text/html": [
       "<div>\n",
       "<style scoped>\n",
       "    .dataframe tbody tr th:only-of-type {\n",
       "        vertical-align: middle;\n",
       "    }\n",
       "\n",
       "    .dataframe tbody tr th {\n",
       "        vertical-align: top;\n",
       "    }\n",
       "\n",
       "    .dataframe thead th {\n",
       "        text-align: right;\n",
       "    }\n",
       "</style>\n",
       "<table border=\"1\" class=\"dataframe\">\n",
       "  <thead>\n",
       "    <tr style=\"text-align: right;\">\n",
       "      <th></th>\n",
       "      <th>model</th>\n",
       "      <th>MSE</th>\n",
       "      <th>RMSE</th>\n",
       "      <th>MAE</th>\n",
       "      <th>MSLE</th>\n",
       "      <th>RMSLE</th>\n",
       "    </tr>\n",
       "  </thead>\n",
       "  <tbody>\n",
       "    <tr>\n",
       "      <th>0</th>\n",
       "      <td>LinearRegression</td>\n",
       "      <td>6.359374</td>\n",
       "      <td>2.521780</td>\n",
       "      <td>0.268691</td>\n",
       "      <td>0.000784</td>\n",
       "      <td>0.027996</td>\n",
       "    </tr>\n",
       "    <tr>\n",
       "      <th>1</th>\n",
       "      <td>Decision Tree</td>\n",
       "      <td>0.000000</td>\n",
       "      <td>0.000000</td>\n",
       "      <td>0.000000</td>\n",
       "      <td>0.000000</td>\n",
       "      <td>0.000000</td>\n",
       "    </tr>\n",
       "    <tr>\n",
       "      <th>2</th>\n",
       "      <td>RandomForest</td>\n",
       "      <td>32.858591</td>\n",
       "      <td>5.732241</td>\n",
       "      <td>0.226421</td>\n",
       "      <td>0.000043</td>\n",
       "      <td>0.006540</td>\n",
       "    </tr>\n",
       "    <tr>\n",
       "      <th>3</th>\n",
       "      <td>ADABoost</td>\n",
       "      <td>1427.235485</td>\n",
       "      <td>37.778770</td>\n",
       "      <td>31.776449</td>\n",
       "      <td>0.322310</td>\n",
       "      <td>0.567723</td>\n",
       "    </tr>\n",
       "    <tr>\n",
       "      <th>4</th>\n",
       "      <td>GBM</td>\n",
       "      <td>2.727011</td>\n",
       "      <td>1.651366</td>\n",
       "      <td>1.104786</td>\n",
       "      <td>0.000751</td>\n",
       "      <td>0.027412</td>\n",
       "    </tr>\n",
       "    <tr>\n",
       "      <th>5</th>\n",
       "      <td>SVR</td>\n",
       "      <td>14700.298246</td>\n",
       "      <td>121.244786</td>\n",
       "      <td>13.548395</td>\n",
       "      <td>0.044028</td>\n",
       "      <td>0.209829</td>\n",
       "    </tr>\n",
       "    <tr>\n",
       "      <th>6</th>\n",
       "      <td>Ridge</td>\n",
       "      <td>115096.759645</td>\n",
       "      <td>339.259133</td>\n",
       "      <td>116.908056</td>\n",
       "      <td>0.549416</td>\n",
       "      <td>0.741226</td>\n",
       "    </tr>\n",
       "    <tr>\n",
       "      <th>7</th>\n",
       "      <td>SGD</td>\n",
       "      <td>26109.055728</td>\n",
       "      <td>161.582969</td>\n",
       "      <td>77.645528</td>\n",
       "      <td>0.573370</td>\n",
       "      <td>0.757212</td>\n",
       "    </tr>\n",
       "    <tr>\n",
       "      <th>8</th>\n",
       "      <td>Elastic-Net</td>\n",
       "      <td>6.375449</td>\n",
       "      <td>2.524965</td>\n",
       "      <td>0.234642</td>\n",
       "      <td>0.000625</td>\n",
       "      <td>0.025000</td>\n",
       "    </tr>\n",
       "  </tbody>\n",
       "</table>\n",
       "</div>"
      ],
      "text/plain": [
       "              model            MSE        RMSE         MAE      MSLE     RMSLE\n",
       "0  LinearRegression       6.359374    2.521780    0.268691  0.000784  0.027996\n",
       "1     Decision Tree       0.000000    0.000000    0.000000  0.000000  0.000000\n",
       "2      RandomForest      32.858591    5.732241    0.226421  0.000043  0.006540\n",
       "3          ADABoost    1427.235485   37.778770   31.776449  0.322310  0.567723\n",
       "4               GBM       2.727011    1.651366    1.104786  0.000751  0.027412\n",
       "5               SVR   14700.298246  121.244786   13.548395  0.044028  0.209829\n",
       "6             Ridge  115096.759645  339.259133  116.908056  0.549416  0.741226\n",
       "7               SGD   26109.055728  161.582969   77.645528  0.573370  0.757212\n",
       "8       Elastic-Net       6.375449    2.524965    0.234642  0.000625  0.025000"
      ]
     },
     "execution_count": 34,
     "metadata": {},
     "output_type": "execute_result"
    }
   ],
   "source": [
    "pred9 = mod9.predict(X)\n",
    "model_dict = {'model': \"Elastic-Net\"}\n",
    "models_list = models_list.append({**model_dict, **regressionMetrics(y, pred9)}, ignore_index=True)\n",
    "models_list"
   ]
  },
  {
   "cell_type": "code",
   "execution_count": 35,
   "id": "457f3697",
   "metadata": {
    "execution": {
     "iopub.execute_input": "2021-10-10T08:04:21.228600Z",
     "iopub.status.busy": "2021-10-10T08:04:21.227936Z",
     "iopub.status.idle": "2021-10-10T08:04:21.411064Z",
     "shell.execute_reply": "2021-10-10T08:04:21.411604Z",
     "shell.execute_reply.started": "2021-10-09T13:18:51.350749Z"
    },
    "papermill": {
     "duration": 0.237098,
     "end_time": "2021-10-10T08:04:21.411794",
     "exception": false,
     "start_time": "2021-10-10T08:04:21.174696",
     "status": "completed"
    },
    "tags": []
   },
   "outputs": [
    {
     "name": "stderr",
     "output_type": "stream",
     "text": [
      "/opt/conda/lib/python3.7/site-packages/seaborn/_decorators.py:43: FutureWarning: Pass the following variables as keyword args: x, y. From version 0.12, the only valid positional argument will be `data`, and passing other arguments without an explicit keyword will result in an error or misinterpretation.\n",
      "  FutureWarning\n"
     ]
    },
    {
     "data": {
      "text/plain": [
       "<AxesSubplot:xlabel='sum_visitors'>"
      ]
     },
     "execution_count": 35,
     "metadata": {},
     "output_type": "execute_result"
    },
    {
     "data": {
      "image/png": "[encoded data removed]",
      "text/plain": [
       "<Figure size 432x288 with 1 Axes>"
      ]
     },
     "metadata": {
      "needs_background": "light"
     },
     "output_type": "display_data"
    }
   ],
   "source": [
    "sns.scatterplot(y, pred9)"
   ]
  },
  {
   "cell_type": "code",
   "execution_count": 36,
   "id": "9a741c0c",
   "metadata": {
    "execution": {
     "iopub.execute_input": "2021-10-10T08:04:21.514262Z",
     "iopub.status.busy": "2021-10-10T08:04:21.513277Z",
     "iopub.status.idle": "2021-10-10T08:04:21.515609Z",
     "shell.execute_reply": "2021-10-10T08:04:21.515999Z",
     "shell.execute_reply.started": "2021-10-09T13:18:51.587221Z"
    },
    "papermill": {
     "duration": 0.056263,
     "end_time": "2021-10-10T08:04:21.516167",
     "exception": false,
     "start_time": "2021-10-10T08:04:21.459904",
     "status": "completed"
    },
    "tags": []
   },
   "outputs": [],
   "source": [
    "### BayesianRidge"
   ]
  },
  {
   "cell_type": "code",
   "execution_count": 37,
   "id": "0c4376a8",
   "metadata": {
    "execution": {
     "iopub.execute_input": "2021-10-10T08:04:21.616414Z",
     "iopub.status.busy": "2021-10-10T08:04:21.615338Z",
     "iopub.status.idle": "2021-10-10T08:04:21.628232Z",
     "shell.execute_reply": "2021-10-10T08:04:21.629272Z",
     "shell.execute_reply.started": "2021-10-09T13:18:51.593523Z"
    },
    "papermill": {
     "duration": 0.065157,
     "end_time": "2021-10-10T08:04:21.629581",
     "exception": false,
     "start_time": "2021-10-10T08:04:21.564424",
     "status": "completed"
    },
    "tags": []
   },
   "outputs": [
    {
     "data": {
      "text/plain": [
       "BayesianRidge()"
      ]
     },
     "execution_count": 37,
     "metadata": {},
     "output_type": "execute_result"
    }
   ],
   "source": [
    "mod10 = linear_model.BayesianRidge()\n",
    "mod10.fit(X,y)"
   ]
  },
  {
   "cell_type": "code",
   "execution_count": 38,
   "id": "b99ba871",
   "metadata": {
    "execution": {
     "iopub.execute_input": "2021-10-10T08:04:21.787762Z",
     "iopub.status.busy": "2021-10-10T08:04:21.786660Z",
     "iopub.status.idle": "2021-10-10T08:04:21.815336Z",
     "shell.execute_reply": "2021-10-10T08:04:21.816363Z",
     "shell.execute_reply.started": "2021-10-09T13:18:51.616747Z"
    },
    "papermill": {
     "duration": 0.090782,
     "end_time": "2021-10-10T08:04:21.816676",
     "exception": false,
     "start_time": "2021-10-10T08:04:21.725894",
     "status": "completed"
    },
    "tags": []
   },
   "outputs": [
    {
     "data": {
      "text/html": [
       "<div>\n",
       "<style scoped>\n",
       "    .dataframe tbody tr th:only-of-type {\n",
       "        vertical-align: middle;\n",
       "    }\n",
       "\n",
       "    .dataframe tbody tr th {\n",
       "        vertical-align: top;\n",
       "    }\n",
       "\n",
       "    .dataframe thead th {\n",
       "        text-align: right;\n",
       "    }\n",
       "</style>\n",
       "<table border=\"1\" class=\"dataframe\">\n",
       "  <thead>\n",
       "    <tr style=\"text-align: right;\">\n",
       "      <th></th>\n",
       "      <th>model</th>\n",
       "      <th>MSE</th>\n",
       "      <th>RMSE</th>\n",
       "      <th>MAE</th>\n",
       "      <th>MSLE</th>\n",
       "      <th>RMSLE</th>\n",
       "    </tr>\n",
       "  </thead>\n",
       "  <tbody>\n",
       "    <tr>\n",
       "      <th>0</th>\n",
       "      <td>LinearRegression</td>\n",
       "      <td>6.359374</td>\n",
       "      <td>2.521780</td>\n",
       "      <td>0.268691</td>\n",
       "      <td>0.000784</td>\n",
       "      <td>0.027996</td>\n",
       "    </tr>\n",
       "    <tr>\n",
       "      <th>1</th>\n",
       "      <td>Decision Tree</td>\n",
       "      <td>0.000000</td>\n",
       "      <td>0.000000</td>\n",
       "      <td>0.000000</td>\n",
       "      <td>0.000000</td>\n",
       "      <td>0.000000</td>\n",
       "    </tr>\n",
       "    <tr>\n",
       "      <th>2</th>\n",
       "      <td>RandomForest</td>\n",
       "      <td>32.858591</td>\n",
       "      <td>5.732241</td>\n",
       "      <td>0.226421</td>\n",
       "      <td>0.000043</td>\n",
       "      <td>0.006540</td>\n",
       "    </tr>\n",
       "    <tr>\n",
       "      <th>3</th>\n",
       "      <td>ADABoost</td>\n",
       "      <td>1427.235485</td>\n",
       "      <td>37.778770</td>\n",
       "      <td>31.776449</td>\n",
       "      <td>0.322310</td>\n",
       "      <td>0.567723</td>\n",
       "    </tr>\n",
       "    <tr>\n",
       "      <th>4</th>\n",
       "      <td>GBM</td>\n",
       "      <td>2.727011</td>\n",
       "      <td>1.651366</td>\n",
       "      <td>1.104786</td>\n",
       "      <td>0.000751</td>\n",
       "      <td>0.027412</td>\n",
       "    </tr>\n",
       "    <tr>\n",
       "      <th>5</th>\n",
       "      <td>SVR</td>\n",
       "      <td>14700.298246</td>\n",
       "      <td>121.244786</td>\n",
       "      <td>13.548395</td>\n",
       "      <td>0.044028</td>\n",
       "      <td>0.209829</td>\n",
       "    </tr>\n",
       "    <tr>\n",
       "      <th>6</th>\n",
       "      <td>Ridge</td>\n",
       "      <td>115096.759645</td>\n",
       "      <td>339.259133</td>\n",
       "      <td>116.908056</td>\n",
       "      <td>0.549416</td>\n",
       "      <td>0.741226</td>\n",
       "    </tr>\n",
       "    <tr>\n",
       "      <th>7</th>\n",
       "      <td>SGD</td>\n",
       "      <td>26109.055728</td>\n",
       "      <td>161.582969</td>\n",
       "      <td>77.645528</td>\n",
       "      <td>0.573370</td>\n",
       "      <td>0.757212</td>\n",
       "    </tr>\n",
       "    <tr>\n",
       "      <th>8</th>\n",
       "      <td>Elastic-Net</td>\n",
       "      <td>6.375449</td>\n",
       "      <td>2.524965</td>\n",
       "      <td>0.234642</td>\n",
       "      <td>0.000625</td>\n",
       "      <td>0.025000</td>\n",
       "    </tr>\n",
       "    <tr>\n",
       "      <th>9</th>\n",
       "      <td>BayesianRidge</td>\n",
       "      <td>6.359376</td>\n",
       "      <td>2.521780</td>\n",
       "      <td>0.268573</td>\n",
       "      <td>0.000781</td>\n",
       "      <td>0.027940</td>\n",
       "    </tr>\n",
       "  </tbody>\n",
       "</table>\n",
       "</div>"
      ],
      "text/plain": [
       "              model            MSE        RMSE         MAE      MSLE     RMSLE\n",
       "0  LinearRegression       6.359374    2.521780    0.268691  0.000784  0.027996\n",
       "1     Decision Tree       0.000000    0.000000    0.000000  0.000000  0.000000\n",
       "2      RandomForest      32.858591    5.732241    0.226421  0.000043  0.006540\n",
       "3          ADABoost    1427.235485   37.778770   31.776449  0.322310  0.567723\n",
       "4               GBM       2.727011    1.651366    1.104786  0.000751  0.027412\n",
       "5               SVR   14700.298246  121.244786   13.548395  0.044028  0.209829\n",
       "6             Ridge  115096.759645  339.259133  116.908056  0.549416  0.741226\n",
       "7               SGD   26109.055728  161.582969   77.645528  0.573370  0.757212\n",
       "8       Elastic-Net       6.375449    2.524965    0.234642  0.000625  0.025000\n",
       "9     BayesianRidge       6.359376    2.521780    0.268573  0.000781  0.027940"
      ]
     },
     "execution_count": 38,
     "metadata": {},
     "output_type": "execute_result"
    }
   ],
   "source": [
    "pred10 = mod10.predict(X)\n",
    "model_dict = {'model': \"BayesianRidge\"}\n",
    "models_list = models_list.append({**model_dict, **regressionMetrics(y, pred10)}, ignore_index=True)\n",
    "models_list"
   ]
  },
  {
   "cell_type": "markdown",
   "id": "280f19df",
   "metadata": {
    "papermill": {
     "duration": 0.048742,
     "end_time": "2021-10-10T08:04:21.960019",
     "exception": false,
     "start_time": "2021-10-10T08:04:21.911277",
     "status": "completed"
    },
    "tags": []
   },
   "source": [
    "## Model Selection"
   ]
  },
  {
   "cell_type": "code",
   "execution_count": 39,
   "id": "66c2ece0",
   "metadata": {
    "execution": {
     "iopub.execute_input": "2021-10-10T08:04:22.073889Z",
     "iopub.status.busy": "2021-10-10T08:04:22.069558Z",
     "iopub.status.idle": "2021-10-10T08:04:22.077793Z",
     "shell.execute_reply": "2021-10-10T08:04:22.078256Z",
     "shell.execute_reply.started": "2021-10-09T13:18:51.670972Z"
    },
    "papermill": {
     "duration": 0.066372,
     "end_time": "2021-10-10T08:04:22.078439",
     "exception": false,
     "start_time": "2021-10-10T08:04:22.012067",
     "status": "completed"
    },
    "tags": []
   },
   "outputs": [
    {
     "data": {
      "text/html": [
       "<div>\n",
       "<style scoped>\n",
       "    .dataframe tbody tr th:only-of-type {\n",
       "        vertical-align: middle;\n",
       "    }\n",
       "\n",
       "    .dataframe tbody tr th {\n",
       "        vertical-align: top;\n",
       "    }\n",
       "\n",
       "    .dataframe thead th {\n",
       "        text-align: right;\n",
       "    }\n",
       "</style>\n",
       "<table border=\"1\" class=\"dataframe\">\n",
       "  <thead>\n",
       "    <tr style=\"text-align: right;\">\n",
       "      <th></th>\n",
       "      <th>model</th>\n",
       "      <th>MSE</th>\n",
       "      <th>RMSE</th>\n",
       "      <th>MAE</th>\n",
       "      <th>MSLE</th>\n",
       "      <th>RMSLE</th>\n",
       "    </tr>\n",
       "  </thead>\n",
       "  <tbody>\n",
       "    <tr>\n",
       "      <th>1</th>\n",
       "      <td>Decision Tree</td>\n",
       "      <td>0.000000</td>\n",
       "      <td>0.000000</td>\n",
       "      <td>0.000000</td>\n",
       "      <td>0.000000</td>\n",
       "      <td>0.000000</td>\n",
       "    </tr>\n",
       "    <tr>\n",
       "      <th>2</th>\n",
       "      <td>RandomForest</td>\n",
       "      <td>32.858591</td>\n",
       "      <td>5.732241</td>\n",
       "      <td>0.226421</td>\n",
       "      <td>0.000043</td>\n",
       "      <td>0.006540</td>\n",
       "    </tr>\n",
       "    <tr>\n",
       "      <th>8</th>\n",
       "      <td>Elastic-Net</td>\n",
       "      <td>6.375449</td>\n",
       "      <td>2.524965</td>\n",
       "      <td>0.234642</td>\n",
       "      <td>0.000625</td>\n",
       "      <td>0.025000</td>\n",
       "    </tr>\n",
       "    <tr>\n",
       "      <th>9</th>\n",
       "      <td>BayesianRidge</td>\n",
       "      <td>6.359376</td>\n",
       "      <td>2.521780</td>\n",
       "      <td>0.268573</td>\n",
       "      <td>0.000781</td>\n",
       "      <td>0.027940</td>\n",
       "    </tr>\n",
       "    <tr>\n",
       "      <th>0</th>\n",
       "      <td>LinearRegression</td>\n",
       "      <td>6.359374</td>\n",
       "      <td>2.521780</td>\n",
       "      <td>0.268691</td>\n",
       "      <td>0.000784</td>\n",
       "      <td>0.027996</td>\n",
       "    </tr>\n",
       "    <tr>\n",
       "      <th>4</th>\n",
       "      <td>GBM</td>\n",
       "      <td>2.727011</td>\n",
       "      <td>1.651366</td>\n",
       "      <td>1.104786</td>\n",
       "      <td>0.000751</td>\n",
       "      <td>0.027412</td>\n",
       "    </tr>\n",
       "    <tr>\n",
       "      <th>5</th>\n",
       "      <td>SVR</td>\n",
       "      <td>14700.298246</td>\n",
       "      <td>121.244786</td>\n",
       "      <td>13.548395</td>\n",
       "      <td>0.044028</td>\n",
       "      <td>0.209829</td>\n",
       "    </tr>\n",
       "    <tr>\n",
       "      <th>3</th>\n",
       "      <td>ADABoost</td>\n",
       "      <td>1427.235485</td>\n",
       "      <td>37.778770</td>\n",
       "      <td>31.776449</td>\n",
       "      <td>0.322310</td>\n",
       "      <td>0.567723</td>\n",
       "    </tr>\n",
       "    <tr>\n",
       "      <th>7</th>\n",
       "      <td>SGD</td>\n",
       "      <td>26109.055728</td>\n",
       "      <td>161.582969</td>\n",
       "      <td>77.645528</td>\n",
       "      <td>0.573370</td>\n",
       "      <td>0.757212</td>\n",
       "    </tr>\n",
       "    <tr>\n",
       "      <th>6</th>\n",
       "      <td>Ridge</td>\n",
       "      <td>115096.759645</td>\n",
       "      <td>339.259133</td>\n",
       "      <td>116.908056</td>\n",
       "      <td>0.549416</td>\n",
       "      <td>0.741226</td>\n",
       "    </tr>\n",
       "  </tbody>\n",
       "</table>\n",
       "</div>"
      ],
      "text/plain": [
       "              model            MSE        RMSE         MAE      MSLE     RMSLE\n",
       "1     Decision Tree       0.000000    0.000000    0.000000  0.000000  0.000000\n",
       "2      RandomForest      32.858591    5.732241    0.226421  0.000043  0.006540\n",
       "8       Elastic-Net       6.375449    2.524965    0.234642  0.000625  0.025000\n",
       "9     BayesianRidge       6.359376    2.521780    0.268573  0.000781  0.027940\n",
       "0  LinearRegression       6.359374    2.521780    0.268691  0.000784  0.027996\n",
       "4               GBM       2.727011    1.651366    1.104786  0.000751  0.027412\n",
       "5               SVR   14700.298246  121.244786   13.548395  0.044028  0.209829\n",
       "3          ADABoost    1427.235485   37.778770   31.776449  0.322310  0.567723\n",
       "7               SGD   26109.055728  161.582969   77.645528  0.573370  0.757212\n",
       "6             Ridge  115096.759645  339.259133  116.908056  0.549416  0.741226"
      ]
     },
     "execution_count": 39,
     "metadata": {},
     "output_type": "execute_result"
    }
   ],
   "source": [
    "#Mean Absolute Error - we will follow this metric\n",
    "models_list.sort_values('MAE')"
   ]
  },
  {
   "cell_type": "code",
   "execution_count": 40,
   "id": "e28c5732",
   "metadata": {
    "execution": {
     "iopub.execute_input": "2021-10-10T08:04:22.193712Z",
     "iopub.status.busy": "2021-10-10T08:04:22.193017Z",
     "iopub.status.idle": "2021-10-10T08:04:22.196751Z",
     "shell.execute_reply": "2021-10-10T08:04:22.196197Z",
     "shell.execute_reply.started": "2021-10-09T13:18:51.700345Z"
    },
    "papermill": {
     "duration": 0.070006,
     "end_time": "2021-10-10T08:04:22.196910",
     "exception": false,
     "start_time": "2021-10-10T08:04:22.126904",
     "status": "completed"
    },
    "tags": []
   },
   "outputs": [
    {
     "data": {
      "text/html": [
       "<div>\n",
       "<style scoped>\n",
       "    .dataframe tbody tr th:only-of-type {\n",
       "        vertical-align: middle;\n",
       "    }\n",
       "\n",
       "    .dataframe tbody tr th {\n",
       "        vertical-align: top;\n",
       "    }\n",
       "\n",
       "    .dataframe thead th {\n",
       "        text-align: right;\n",
       "    }\n",
       "</style>\n",
       "<table border=\"1\" class=\"dataframe\">\n",
       "  <thead>\n",
       "    <tr style=\"text-align: right;\">\n",
       "      <th></th>\n",
       "      <th>model</th>\n",
       "      <th>MSE</th>\n",
       "      <th>RMSE</th>\n",
       "      <th>MAE</th>\n",
       "      <th>MSLE</th>\n",
       "      <th>RMSLE</th>\n",
       "    </tr>\n",
       "  </thead>\n",
       "  <tbody>\n",
       "    <tr>\n",
       "      <th>1</th>\n",
       "      <td>Decision Tree</td>\n",
       "      <td>0.000000</td>\n",
       "      <td>0.000000</td>\n",
       "      <td>0.000000</td>\n",
       "      <td>0.000000</td>\n",
       "      <td>0.000000</td>\n",
       "    </tr>\n",
       "    <tr>\n",
       "      <th>4</th>\n",
       "      <td>GBM</td>\n",
       "      <td>2.727011</td>\n",
       "      <td>1.651366</td>\n",
       "      <td>1.104786</td>\n",
       "      <td>0.000751</td>\n",
       "      <td>0.027412</td>\n",
       "    </tr>\n",
       "    <tr>\n",
       "      <th>0</th>\n",
       "      <td>LinearRegression</td>\n",
       "      <td>6.359374</td>\n",
       "      <td>2.521780</td>\n",
       "      <td>0.268691</td>\n",
       "      <td>0.000784</td>\n",
       "      <td>0.027996</td>\n",
       "    </tr>\n",
       "    <tr>\n",
       "      <th>9</th>\n",
       "      <td>BayesianRidge</td>\n",
       "      <td>6.359376</td>\n",
       "      <td>2.521780</td>\n",
       "      <td>0.268573</td>\n",
       "      <td>0.000781</td>\n",
       "      <td>0.027940</td>\n",
       "    </tr>\n",
       "    <tr>\n",
       "      <th>8</th>\n",
       "      <td>Elastic-Net</td>\n",
       "      <td>6.375449</td>\n",
       "      <td>2.524965</td>\n",
       "      <td>0.234642</td>\n",
       "      <td>0.000625</td>\n",
       "      <td>0.025000</td>\n",
       "    </tr>\n",
       "    <tr>\n",
       "      <th>2</th>\n",
       "      <td>RandomForest</td>\n",
       "      <td>32.858591</td>\n",
       "      <td>5.732241</td>\n",
       "      <td>0.226421</td>\n",
       "      <td>0.000043</td>\n",
       "      <td>0.006540</td>\n",
       "    </tr>\n",
       "    <tr>\n",
       "      <th>3</th>\n",
       "      <td>ADABoost</td>\n",
       "      <td>1427.235485</td>\n",
       "      <td>37.778770</td>\n",
       "      <td>31.776449</td>\n",
       "      <td>0.322310</td>\n",
       "      <td>0.567723</td>\n",
       "    </tr>\n",
       "    <tr>\n",
       "      <th>5</th>\n",
       "      <td>SVR</td>\n",
       "      <td>14700.298246</td>\n",
       "      <td>121.244786</td>\n",
       "      <td>13.548395</td>\n",
       "      <td>0.044028</td>\n",
       "      <td>0.209829</td>\n",
       "    </tr>\n",
       "    <tr>\n",
       "      <th>7</th>\n",
       "      <td>SGD</td>\n",
       "      <td>26109.055728</td>\n",
       "      <td>161.582969</td>\n",
       "      <td>77.645528</td>\n",
       "      <td>0.573370</td>\n",
       "      <td>0.757212</td>\n",
       "    </tr>\n",
       "    <tr>\n",
       "      <th>6</th>\n",
       "      <td>Ridge</td>\n",
       "      <td>115096.759645</td>\n",
       "      <td>339.259133</td>\n",
       "      <td>116.908056</td>\n",
       "      <td>0.549416</td>\n",
       "      <td>0.741226</td>\n",
       "    </tr>\n",
       "  </tbody>\n",
       "</table>\n",
       "</div>"
      ],
      "text/plain": [
       "              model            MSE        RMSE         MAE      MSLE     RMSLE\n",
       "1     Decision Tree       0.000000    0.000000    0.000000  0.000000  0.000000\n",
       "4               GBM       2.727011    1.651366    1.104786  0.000751  0.027412\n",
       "0  LinearRegression       6.359374    2.521780    0.268691  0.000784  0.027996\n",
       "9     BayesianRidge       6.359376    2.521780    0.268573  0.000781  0.027940\n",
       "8       Elastic-Net       6.375449    2.524965    0.234642  0.000625  0.025000\n",
       "2      RandomForest      32.858591    5.732241    0.226421  0.000043  0.006540\n",
       "3          ADABoost    1427.235485   37.778770   31.776449  0.322310  0.567723\n",
       "5               SVR   14700.298246  121.244786   13.548395  0.044028  0.209829\n",
       "7               SGD   26109.055728  161.582969   77.645528  0.573370  0.757212\n",
       "6             Ridge  115096.759645  339.259133  116.908056  0.549416  0.741226"
      ]
     },
     "execution_count": 40,
     "metadata": {},
     "output_type": "execute_result"
    }
   ],
   "source": [
    "#Root Mean Squared Error \n",
    "models_list.sort_values('RMSE')"
   ]
  },
  {
   "cell_type": "code",
   "execution_count": 41,
   "id": "2db1a4aa",
   "metadata": {
    "execution": {
     "iopub.execute_input": "2021-10-10T08:04:22.302143Z",
     "iopub.status.busy": "2021-10-10T08:04:22.301551Z",
     "iopub.status.idle": "2021-10-10T08:04:22.346642Z",
     "shell.execute_reply": "2021-10-10T08:04:22.346061Z",
     "shell.execute_reply.started": "2021-10-09T13:18:51.728395Z"
    },
    "papermill": {
     "duration": 0.098238,
     "end_time": "2021-10-10T08:04:22.346775",
     "exception": false,
     "start_time": "2021-10-10T08:04:22.248537",
     "status": "completed"
    },
    "tags": []
   },
   "outputs": [
    {
     "data": {
      "text/html": [
       "<div>\n",
       "<style scoped>\n",
       "    .dataframe tbody tr th:only-of-type {\n",
       "        vertical-align: middle;\n",
       "    }\n",
       "\n",
       "    .dataframe tbody tr th {\n",
       "        vertical-align: top;\n",
       "    }\n",
       "\n",
       "    .dataframe thead th {\n",
       "        text-align: right;\n",
       "    }\n",
       "</style>\n",
       "<table border=\"1\" class=\"dataframe\">\n",
       "  <thead>\n",
       "    <tr style=\"text-align: right;\">\n",
       "      <th></th>\n",
       "      <th>visit_week</th>\n",
       "      <th>max_visitors</th>\n",
       "      <th>min_visitors</th>\n",
       "      <th>avg_visitors</th>\n",
       "      <th>count_visitors</th>\n",
       "      <th>weekend_visitors</th>\n",
       "      <th>sum_visitors</th>\n",
       "    </tr>\n",
       "  </thead>\n",
       "  <tbody>\n",
       "    <tr>\n",
       "      <th>count</th>\n",
       "      <td>8457.000000</td>\n",
       "      <td>8457.000000</td>\n",
       "      <td>8457.000000</td>\n",
       "      <td>8457.000000</td>\n",
       "      <td>8457.000000</td>\n",
       "      <td>8457.000000</td>\n",
       "      <td>8457.000000</td>\n",
       "    </tr>\n",
       "    <tr>\n",
       "      <th>mean</th>\n",
       "      <td>25.398250</td>\n",
       "      <td>34.803595</td>\n",
       "      <td>9.632139</td>\n",
       "      <td>20.546766</td>\n",
       "      <td>6.492137</td>\n",
       "      <td>287.964172</td>\n",
       "      <td>144.036538</td>\n",
       "    </tr>\n",
       "    <tr>\n",
       "      <th>std</th>\n",
       "      <td>16.340318</td>\n",
       "      <td>24.084217</td>\n",
       "      <td>9.060259</td>\n",
       "      <td>12.728748</td>\n",
       "      <td>3.867326</td>\n",
       "      <td>369.325448</td>\n",
       "      <td>184.653175</td>\n",
       "    </tr>\n",
       "    <tr>\n",
       "      <th>min</th>\n",
       "      <td>1.000000</td>\n",
       "      <td>1.000000</td>\n",
       "      <td>1.000000</td>\n",
       "      <td>1.000000</td>\n",
       "      <td>1.000000</td>\n",
       "      <td>1.000000</td>\n",
       "      <td>1.000000</td>\n",
       "    </tr>\n",
       "    <tr>\n",
       "      <th>25%</th>\n",
       "      <td>10.000000</td>\n",
       "      <td>19.000000</td>\n",
       "      <td>3.000000</td>\n",
       "      <td>11.000000</td>\n",
       "      <td>6.000000</td>\n",
       "      <td>128.000000</td>\n",
       "      <td>64.000000</td>\n",
       "    </tr>\n",
       "    <tr>\n",
       "      <th>50%</th>\n",
       "      <td>27.000000</td>\n",
       "      <td>31.000000</td>\n",
       "      <td>7.000000</td>\n",
       "      <td>18.000000</td>\n",
       "      <td>6.000000</td>\n",
       "      <td>220.000000</td>\n",
       "      <td>110.000000</td>\n",
       "    </tr>\n",
       "    <tr>\n",
       "      <th>75%</th>\n",
       "      <td>40.000000</td>\n",
       "      <td>46.000000</td>\n",
       "      <td>13.000000</td>\n",
       "      <td>28.000000</td>\n",
       "      <td>7.000000</td>\n",
       "      <td>364.000000</td>\n",
       "      <td>182.000000</td>\n",
       "    </tr>\n",
       "    <tr>\n",
       "      <th>max</th>\n",
       "      <td>53.000000</td>\n",
       "      <td>777.000000</td>\n",
       "      <td>116.000000</td>\n",
       "      <td>131.000000</td>\n",
       "      <td>99.000000</td>\n",
       "      <td>10482.000000</td>\n",
       "      <td>5241.000000</td>\n",
       "    </tr>\n",
       "  </tbody>\n",
       "</table>\n",
       "</div>"
      ],
      "text/plain": [
       "        visit_week  max_visitors  min_visitors  avg_visitors  count_visitors  \\\n",
       "count  8457.000000   8457.000000   8457.000000   8457.000000     8457.000000   \n",
       "mean     25.398250     34.803595      9.632139     20.546766        6.492137   \n",
       "std      16.340318     24.084217      9.060259     12.728748        3.867326   \n",
       "min       1.000000      1.000000      1.000000      1.000000        1.000000   \n",
       "25%      10.000000     19.000000      3.000000     11.000000        6.000000   \n",
       "50%      27.000000     31.000000      7.000000     18.000000        6.000000   \n",
       "75%      40.000000     46.000000     13.000000     28.000000        7.000000   \n",
       "max      53.000000    777.000000    116.000000    131.000000       99.000000   \n",
       "\n",
       "       weekend_visitors  sum_visitors  \n",
       "count       8457.000000   8457.000000  \n",
       "mean         287.964172    144.036538  \n",
       "std          369.325448    184.653175  \n",
       "min            1.000000      1.000000  \n",
       "25%          128.000000     64.000000  \n",
       "50%          220.000000    110.000000  \n",
       "75%          364.000000    182.000000  \n",
       "max        10482.000000   5241.000000  "
      ]
     },
     "execution_count": 41,
     "metadata": {},
     "output_type": "execute_result"
    }
   ],
   "source": [
    "df_test = pd.read_csv('../input/test-dev-train/test_data.csv')\n",
    "df_test.describe()\n",
    "                  # dependant variable"
   ]
  },
  {
   "cell_type": "code",
   "execution_count": 42,
   "id": "c23a72be",
   "metadata": {
    "execution": {
     "iopub.execute_input": "2021-10-10T08:04:22.451363Z",
     "iopub.status.busy": "2021-10-10T08:04:22.450767Z",
     "iopub.status.idle": "2021-10-10T08:04:22.453862Z",
     "shell.execute_reply": "2021-10-10T08:04:22.453296Z",
     "shell.execute_reply.started": "2021-10-09T13:18:51.978268Z"
    },
    "papermill": {
     "duration": 0.057902,
     "end_time": "2021-10-10T08:04:22.454012",
     "exception": false,
     "start_time": "2021-10-10T08:04:22.396110",
     "status": "completed"
    },
    "tags": []
   },
   "outputs": [],
   "source": [
    "X_test = df.drop(['sum_visitors'],axis=1).values # independant features\n",
    "y_test = df['sum_visitors']   "
   ]
  },
  {
   "cell_type": "markdown",
   "id": "48ee4a67",
   "metadata": {
    "execution": {
     "iopub.execute_input": "2021-10-09T13:13:52.288737Z",
     "iopub.status.busy": "2021-10-09T13:13:52.288383Z",
     "iopub.status.idle": "2021-10-09T13:13:52.293791Z",
     "shell.execute_reply": "2021-10-09T13:13:52.292678Z",
     "shell.execute_reply.started": "2021-10-09T13:13:52.288703Z"
    },
    "papermill": {
     "duration": 0.048941,
     "end_time": "2021-10-10T08:04:22.552153",
     "exception": false,
     "start_time": "2021-10-10T08:04:22.503212",
     "status": "completed"
    },
    "tags": []
   },
   "source": [
    "### Gradient Boosting Machine (GBM)"
   ]
  },
  {
   "cell_type": "code",
   "execution_count": 43,
   "id": "3a0e87ba",
   "metadata": {
    "execution": {
     "iopub.execute_input": "2021-10-10T08:04:22.658240Z",
     "iopub.status.busy": "2021-10-10T08:04:22.657598Z",
     "iopub.status.idle": "2021-10-10T08:04:23.252375Z",
     "shell.execute_reply": "2021-10-10T08:04:23.251900Z",
     "shell.execute_reply.started": "2021-10-09T13:18:51.986428Z"
    },
    "papermill": {
     "duration": 0.650705,
     "end_time": "2021-10-10T08:04:23.252541",
     "exception": false,
     "start_time": "2021-10-10T08:04:22.601836",
     "status": "completed"
    },
    "tags": []
   },
   "outputs": [
    {
     "data": {
      "text/plain": [
       "GradientBoostingRegressor(random_state=1)"
      ]
     },
     "execution_count": 43,
     "metadata": {},
     "output_type": "execute_result"
    }
   ],
   "source": [
    "mod_winner = GradientBoostingRegressor(random_state=1)\n",
    "mod_winner.fit(X_test,y_test)"
   ]
  },
  {
   "cell_type": "code",
   "execution_count": 44,
   "id": "ece87fa5",
   "metadata": {
    "execution": {
     "iopub.execute_input": "2021-10-10T08:04:23.361557Z",
     "iopub.status.busy": "2021-10-10T08:04:23.360893Z",
     "iopub.status.idle": "2021-10-10T08:04:23.387002Z",
     "shell.execute_reply": "2021-10-10T08:04:23.387415Z",
     "shell.execute_reply.started": "2021-10-09T13:18:52.597965Z"
    },
    "papermill": {
     "duration": 0.084002,
     "end_time": "2021-10-10T08:04:23.387604",
     "exception": false,
     "start_time": "2021-10-10T08:04:23.303602",
     "status": "completed"
    },
    "tags": []
   },
   "outputs": [
    {
     "data": {
      "text/html": [
       "<div>\n",
       "<style scoped>\n",
       "    .dataframe tbody tr th:only-of-type {\n",
       "        vertical-align: middle;\n",
       "    }\n",
       "\n",
       "    .dataframe tbody tr th {\n",
       "        vertical-align: top;\n",
       "    }\n",
       "\n",
       "    .dataframe thead th {\n",
       "        text-align: right;\n",
       "    }\n",
       "</style>\n",
       "<table border=\"1\" class=\"dataframe\">\n",
       "  <thead>\n",
       "    <tr style=\"text-align: right;\">\n",
       "      <th></th>\n",
       "      <th>model</th>\n",
       "      <th>MSE</th>\n",
       "      <th>RMSE</th>\n",
       "      <th>MAE</th>\n",
       "      <th>MSLE</th>\n",
       "      <th>RMSLE</th>\n",
       "    </tr>\n",
       "  </thead>\n",
       "  <tbody>\n",
       "    <tr>\n",
       "      <th>0</th>\n",
       "      <td>LinearRegression</td>\n",
       "      <td>6.359374</td>\n",
       "      <td>2.521780</td>\n",
       "      <td>0.268691</td>\n",
       "      <td>0.000784</td>\n",
       "      <td>0.027996</td>\n",
       "    </tr>\n",
       "    <tr>\n",
       "      <th>1</th>\n",
       "      <td>Decision Tree</td>\n",
       "      <td>0.000000</td>\n",
       "      <td>0.000000</td>\n",
       "      <td>0.000000</td>\n",
       "      <td>0.000000</td>\n",
       "      <td>0.000000</td>\n",
       "    </tr>\n",
       "    <tr>\n",
       "      <th>2</th>\n",
       "      <td>RandomForest</td>\n",
       "      <td>32.858591</td>\n",
       "      <td>5.732241</td>\n",
       "      <td>0.226421</td>\n",
       "      <td>0.000043</td>\n",
       "      <td>0.006540</td>\n",
       "    </tr>\n",
       "    <tr>\n",
       "      <th>3</th>\n",
       "      <td>ADABoost</td>\n",
       "      <td>1427.235485</td>\n",
       "      <td>37.778770</td>\n",
       "      <td>31.776449</td>\n",
       "      <td>0.322310</td>\n",
       "      <td>0.567723</td>\n",
       "    </tr>\n",
       "    <tr>\n",
       "      <th>4</th>\n",
       "      <td>GBM</td>\n",
       "      <td>2.727011</td>\n",
       "      <td>1.651366</td>\n",
       "      <td>1.104786</td>\n",
       "      <td>0.000751</td>\n",
       "      <td>0.027412</td>\n",
       "    </tr>\n",
       "    <tr>\n",
       "      <th>5</th>\n",
       "      <td>SVR</td>\n",
       "      <td>14700.298246</td>\n",
       "      <td>121.244786</td>\n",
       "      <td>13.548395</td>\n",
       "      <td>0.044028</td>\n",
       "      <td>0.209829</td>\n",
       "    </tr>\n",
       "    <tr>\n",
       "      <th>6</th>\n",
       "      <td>Ridge</td>\n",
       "      <td>115096.759645</td>\n",
       "      <td>339.259133</td>\n",
       "      <td>116.908056</td>\n",
       "      <td>0.549416</td>\n",
       "      <td>0.741226</td>\n",
       "    </tr>\n",
       "    <tr>\n",
       "      <th>7</th>\n",
       "      <td>SGD</td>\n",
       "      <td>26109.055728</td>\n",
       "      <td>161.582969</td>\n",
       "      <td>77.645528</td>\n",
       "      <td>0.573370</td>\n",
       "      <td>0.757212</td>\n",
       "    </tr>\n",
       "    <tr>\n",
       "      <th>8</th>\n",
       "      <td>Elastic-Net</td>\n",
       "      <td>6.375449</td>\n",
       "      <td>2.524965</td>\n",
       "      <td>0.234642</td>\n",
       "      <td>0.000625</td>\n",
       "      <td>0.025000</td>\n",
       "    </tr>\n",
       "    <tr>\n",
       "      <th>9</th>\n",
       "      <td>BayesianRidge</td>\n",
       "      <td>6.359376</td>\n",
       "      <td>2.521780</td>\n",
       "      <td>0.268573</td>\n",
       "      <td>0.000781</td>\n",
       "      <td>0.027940</td>\n",
       "    </tr>\n",
       "    <tr>\n",
       "      <th>10</th>\n",
       "      <td>GBM_test</td>\n",
       "      <td>2.727011</td>\n",
       "      <td>1.651366</td>\n",
       "      <td>1.104786</td>\n",
       "      <td>0.000751</td>\n",
       "      <td>0.027412</td>\n",
       "    </tr>\n",
       "  </tbody>\n",
       "</table>\n",
       "</div>"
      ],
      "text/plain": [
       "               model            MSE        RMSE         MAE      MSLE  \\\n",
       "0   LinearRegression       6.359374    2.521780    0.268691  0.000784   \n",
       "1      Decision Tree       0.000000    0.000000    0.000000  0.000000   \n",
       "2       RandomForest      32.858591    5.732241    0.226421  0.000043   \n",
       "3           ADABoost    1427.235485   37.778770   31.776449  0.322310   \n",
       "4                GBM       2.727011    1.651366    1.104786  0.000751   \n",
       "5                SVR   14700.298246  121.244786   13.548395  0.044028   \n",
       "6              Ridge  115096.759645  339.259133  116.908056  0.549416   \n",
       "7                SGD   26109.055728  161.582969   77.645528  0.573370   \n",
       "8        Elastic-Net       6.375449    2.524965    0.234642  0.000625   \n",
       "9      BayesianRidge       6.359376    2.521780    0.268573  0.000781   \n",
       "10          GBM_test       2.727011    1.651366    1.104786  0.000751   \n",
       "\n",
       "       RMSLE  \n",
       "0   0.027996  \n",
       "1   0.000000  \n",
       "2   0.006540  \n",
       "3   0.567723  \n",
       "4   0.027412  \n",
       "5   0.209829  \n",
       "6   0.741226  \n",
       "7   0.757212  \n",
       "8   0.025000  \n",
       "9   0.027940  \n",
       "10  0.027412  "
      ]
     },
     "execution_count": 44,
     "metadata": {},
     "output_type": "execute_result"
    }
   ],
   "source": [
    "pred_winner = mod_winner.predict(X_test)\n",
    "model_dict = {'model': \"GBM_test\"}\n",
    "models_list = models_list.append({**model_dict, **regressionMetrics(y_test, pred_winner)}, ignore_index=True)\n",
    "models_list"
   ]
  },
  {
   "cell_type": "code",
   "execution_count": 45,
   "id": "457d9b81",
   "metadata": {
    "execution": {
     "iopub.execute_input": "2021-10-10T08:04:23.495849Z",
     "iopub.status.busy": "2021-10-10T08:04:23.494848Z",
     "iopub.status.idle": "2021-10-10T08:04:23.685421Z",
     "shell.execute_reply": "2021-10-10T08:04:23.685993Z",
     "shell.execute_reply.started": "2021-10-09T13:18:52.634624Z"
    },
    "papermill": {
     "duration": 0.248242,
     "end_time": "2021-10-10T08:04:23.686161",
     "exception": false,
     "start_time": "2021-10-10T08:04:23.437919",
     "status": "completed"
    },
    "tags": []
   },
   "outputs": [
    {
     "name": "stderr",
     "output_type": "stream",
     "text": [
      "/opt/conda/lib/python3.7/site-packages/seaborn/_decorators.py:43: FutureWarning: Pass the following variables as keyword args: x, y. From version 0.12, the only valid positional argument will be `data`, and passing other arguments without an explicit keyword will result in an error or misinterpretation.\n",
      "  FutureWarning\n"
     ]
    },
    {
     "data": {
      "text/plain": [
       "<AxesSubplot:xlabel='sum_visitors'>"
      ]
     },
     "execution_count": 45,
     "metadata": {},
     "output_type": "execute_result"
    },
    {
     "data": {
      "image/png": "[encoded data removed]",
      "text/plain": [
       "<Figure size 432x288 with 1 Axes>"
      ]
     },
     "metadata": {
      "needs_background": "light"
     },
     "output_type": "display_data"
    }
   ],
   "source": [
    "sns.scatterplot(y_test, pred_winner)"
   ]
  },
  {
   "cell_type": "code",
   "execution_count": 46,
   "id": "96cc3996",
   "metadata": {
    "execution": {
     "iopub.execute_input": "2021-10-10T08:04:23.796519Z",
     "iopub.status.busy": "2021-10-10T08:04:23.795334Z",
     "iopub.status.idle": "2021-10-10T08:04:23.808595Z",
     "shell.execute_reply": "2021-10-10T08:04:23.809121Z",
     "shell.execute_reply.started": "2021-10-09T13:18:52.895148Z"
    },
    "papermill": {
     "duration": 0.070536,
     "end_time": "2021-10-10T08:04:23.809282",
     "exception": false,
     "start_time": "2021-10-10T08:04:23.738746",
     "status": "completed"
    },
    "tags": []
   },
   "outputs": [
    {
     "data": {
      "text/html": [
       "<div>\n",
       "<style scoped>\n",
       "    .dataframe tbody tr th:only-of-type {\n",
       "        vertical-align: middle;\n",
       "    }\n",
       "\n",
       "    .dataframe tbody tr th {\n",
       "        vertical-align: top;\n",
       "    }\n",
       "\n",
       "    .dataframe thead th {\n",
       "        text-align: right;\n",
       "    }\n",
       "</style>\n",
       "<table border=\"1\" class=\"dataframe\">\n",
       "  <thead>\n",
       "    <tr style=\"text-align: right;\">\n",
       "      <th></th>\n",
       "      <th>model</th>\n",
       "      <th>MSE</th>\n",
       "      <th>RMSE</th>\n",
       "      <th>MAE</th>\n",
       "      <th>MSLE</th>\n",
       "      <th>RMSLE</th>\n",
       "    </tr>\n",
       "  </thead>\n",
       "  <tbody>\n",
       "    <tr>\n",
       "      <th>1</th>\n",
       "      <td>Decision Tree</td>\n",
       "      <td>0.000000</td>\n",
       "      <td>0.000000</td>\n",
       "      <td>0.000000</td>\n",
       "      <td>0.000000</td>\n",
       "      <td>0.000000</td>\n",
       "    </tr>\n",
       "    <tr>\n",
       "      <th>4</th>\n",
       "      <td>GBM</td>\n",
       "      <td>2.727011</td>\n",
       "      <td>1.651366</td>\n",
       "      <td>1.104786</td>\n",
       "      <td>0.000751</td>\n",
       "      <td>0.027412</td>\n",
       "    </tr>\n",
       "    <tr>\n",
       "      <th>10</th>\n",
       "      <td>GBM_test</td>\n",
       "      <td>2.727011</td>\n",
       "      <td>1.651366</td>\n",
       "      <td>1.104786</td>\n",
       "      <td>0.000751</td>\n",
       "      <td>0.027412</td>\n",
       "    </tr>\n",
       "    <tr>\n",
       "      <th>0</th>\n",
       "      <td>LinearRegression</td>\n",
       "      <td>6.359374</td>\n",
       "      <td>2.521780</td>\n",
       "      <td>0.268691</td>\n",
       "      <td>0.000784</td>\n",
       "      <td>0.027996</td>\n",
       "    </tr>\n",
       "    <tr>\n",
       "      <th>9</th>\n",
       "      <td>BayesianRidge</td>\n",
       "      <td>6.359376</td>\n",
       "      <td>2.521780</td>\n",
       "      <td>0.268573</td>\n",
       "      <td>0.000781</td>\n",
       "      <td>0.027940</td>\n",
       "    </tr>\n",
       "    <tr>\n",
       "      <th>8</th>\n",
       "      <td>Elastic-Net</td>\n",
       "      <td>6.375449</td>\n",
       "      <td>2.524965</td>\n",
       "      <td>0.234642</td>\n",
       "      <td>0.000625</td>\n",
       "      <td>0.025000</td>\n",
       "    </tr>\n",
       "    <tr>\n",
       "      <th>2</th>\n",
       "      <td>RandomForest</td>\n",
       "      <td>32.858591</td>\n",
       "      <td>5.732241</td>\n",
       "      <td>0.226421</td>\n",
       "      <td>0.000043</td>\n",
       "      <td>0.006540</td>\n",
       "    </tr>\n",
       "    <tr>\n",
       "      <th>3</th>\n",
       "      <td>ADABoost</td>\n",
       "      <td>1427.235485</td>\n",
       "      <td>37.778770</td>\n",
       "      <td>31.776449</td>\n",
       "      <td>0.322310</td>\n",
       "      <td>0.567723</td>\n",
       "    </tr>\n",
       "    <tr>\n",
       "      <th>5</th>\n",
       "      <td>SVR</td>\n",
       "      <td>14700.298246</td>\n",
       "      <td>121.244786</td>\n",
       "      <td>13.548395</td>\n",
       "      <td>0.044028</td>\n",
       "      <td>0.209829</td>\n",
       "    </tr>\n",
       "    <tr>\n",
       "      <th>7</th>\n",
       "      <td>SGD</td>\n",
       "      <td>26109.055728</td>\n",
       "      <td>161.582969</td>\n",
       "      <td>77.645528</td>\n",
       "      <td>0.573370</td>\n",
       "      <td>0.757212</td>\n",
       "    </tr>\n",
       "    <tr>\n",
       "      <th>6</th>\n",
       "      <td>Ridge</td>\n",
       "      <td>115096.759645</td>\n",
       "      <td>339.259133</td>\n",
       "      <td>116.908056</td>\n",
       "      <td>0.549416</td>\n",
       "      <td>0.741226</td>\n",
       "    </tr>\n",
       "  </tbody>\n",
       "</table>\n",
       "</div>"
      ],
      "text/plain": [
       "               model            MSE        RMSE         MAE      MSLE  \\\n",
       "1      Decision Tree       0.000000    0.000000    0.000000  0.000000   \n",
       "4                GBM       2.727011    1.651366    1.104786  0.000751   \n",
       "10          GBM_test       2.727011    1.651366    1.104786  0.000751   \n",
       "0   LinearRegression       6.359374    2.521780    0.268691  0.000784   \n",
       "9      BayesianRidge       6.359376    2.521780    0.268573  0.000781   \n",
       "8        Elastic-Net       6.375449    2.524965    0.234642  0.000625   \n",
       "2       RandomForest      32.858591    5.732241    0.226421  0.000043   \n",
       "3           ADABoost    1427.235485   37.778770   31.776449  0.322310   \n",
       "5                SVR   14700.298246  121.244786   13.548395  0.044028   \n",
       "7                SGD   26109.055728  161.582969   77.645528  0.573370   \n",
       "6              Ridge  115096.759645  339.259133  116.908056  0.549416   \n",
       "\n",
       "       RMSLE  \n",
       "1   0.000000  \n",
       "4   0.027412  \n",
       "10  0.027412  \n",
       "0   0.027996  \n",
       "9   0.027940  \n",
       "8   0.025000  \n",
       "2   0.006540  \n",
       "3   0.567723  \n",
       "5   0.209829  \n",
       "7   0.757212  \n",
       "6   0.741226  "
      ]
     },
     "execution_count": 46,
     "metadata": {},
     "output_type": "execute_result"
    }
   ],
   "source": [
    "# model selection #Root Mean Squared Error \n",
    "models_list.sort_values('RMSE')"
   ]
  }
 ],
 "metadata": {
  "kernelspec": {
   "display_name": "Python 3",
   "language": "python",
   "name": "python3"
  },
  "language_info": {
   "codemirror_mode": {
    "name": "ipython",
    "version": 3
   },
   "file_extension": ".py",
   "mimetype": "text/x-python",
   "name": "python",
   "nbconvert_exporter": "python",
   "pygments_lexer": "ipython3",
   "version": "3.7.10"
  },
  "papermill": {
   "default_parameters": {},
   "duration": 30.594117,
   "end_time": "2021-10-10T08:04:24.571261",
   "environment_variables": {},
   "exception": null,
   "input_path": "__notebook__.ipynb",
   "output_path": "__notebook__.ipynb",
   "parameters": {},
   "start_time": "2021-10-10T08:03:53.977144",
   "version": "2.3.3"
  }
 },
 "nbformat": 4,
 "nbformat_minor": 5
}
