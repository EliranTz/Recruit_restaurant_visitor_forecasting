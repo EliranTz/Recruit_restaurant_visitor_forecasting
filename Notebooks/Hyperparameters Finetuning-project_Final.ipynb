{
 "cells": [
  {
   "cell_type": "markdown",
   "metadata": {},
   "source": [
    "# Hyperparameter Finetuning"
   ]
  },
  {
   "cell_type": "code",
   "execution_count": 591,
   "metadata": {},
   "outputs": [],
   "source": [
    "import numpy as np\n",
    "import pandas as pd\n",
    "import seaborn as sns\n",
    "import numpy as np\n",
    "import pandas as pd\n",
    "import seaborn as sns\n",
    "from sklearn.metrics import mean_absolute_error\n",
    "from sklearn.ensemble import RandomForestRegressor, GradientBoostingRegressor\n",
    "from sklearn.model_selection import train_test_split, GridSearchCV, RandomizedSearchCV\n",
    "from sklearn.preprocessing import OneHotEncoder, LabelEncoder\n",
    "from sklearn.datasets import make_regression\n",
    "from sklearn.linear_model import ElasticNet, ElasticNetCV\n",
    "from sklearn.metrics import mean_squared_error\n",
    "from numpy import mean\n",
    "from numpy import std\n",
    "from numpy import absolute\n",
    "from pandas import read_csv\n",
    "from sklearn.model_selection import cross_val_score\n",
    "from sklearn.model_selection import RepeatedKFold\n",
    "from sklearn.metrics import mean_absolute_error\n",
    "from sklearn.ensemble import RandomForestRegressor, GradientBoostingRegressor\n",
    "from sklearn.preprocessing import OneHotEncoder, LabelEncoder\n",
    "from sklearn.pipeline import make_pipeline\n",
    "from sklearn.preprocessing import RobustScaler\n",
    "from sklearn.datasets import make_regression\n",
    "from sklearn.metrics import mean_squared_error\n",
    "import sklearn.metrics as metrics\n",
    "from sklearn.model_selection import train_test_split, GridSearchCV, RandomizedSearchCV\n",
    "from sklearn.linear_model import ElasticNet\n",
    "from sklearn.metrics import mean_squared_error\n",
    "from sklearn.model_selection import GridSearchCV, train_test_split\n",
    "from sklearn import linear_model"
   ]
  },
  {
   "cell_type": "code",
   "execution_count": 592,
   "metadata": {
    "scrolled": true
   },
   "outputs": [
    {
     "data": {
      "text/html": [
       "<div>\n",
       "<style scoped>\n",
       "    .dataframe tbody tr th:only-of-type {\n",
       "        vertical-align: middle;\n",
       "    }\n",
       "\n",
       "    .dataframe tbody tr th {\n",
       "        vertical-align: top;\n",
       "    }\n",
       "\n",
       "    .dataframe thead th {\n",
       "        text-align: right;\n",
       "    }\n",
       "</style>\n",
       "<table border=\"1\" class=\"dataframe\">\n",
       "  <thead>\n",
       "    <tr style=\"text-align: right;\">\n",
       "      <th></th>\n",
       "      <th>max_visitors</th>\n",
       "      <th>avg_visitors</th>\n",
       "      <th>count_visitors</th>\n",
       "      <th>weekend_visitors</th>\n",
       "      <th>sum_visitors</th>\n",
       "    </tr>\n",
       "  </thead>\n",
       "  <tbody>\n",
       "    <tr>\n",
       "      <th>count</th>\n",
       "      <td>27059.000000</td>\n",
       "      <td>27059.000000</td>\n",
       "      <td>27059.000000</td>\n",
       "      <td>27059.000000</td>\n",
       "      <td>27059.000000</td>\n",
       "    </tr>\n",
       "    <tr>\n",
       "      <th>mean</th>\n",
       "      <td>35.033002</td>\n",
       "      <td>20.649248</td>\n",
       "      <td>6.507077</td>\n",
       "      <td>289.326509</td>\n",
       "      <td>144.707417</td>\n",
       "    </tr>\n",
       "    <tr>\n",
       "      <th>std</th>\n",
       "      <td>22.058590</td>\n",
       "      <td>12.636614</td>\n",
       "      <td>3.597102</td>\n",
       "      <td>355.811326</td>\n",
       "      <td>177.932968</td>\n",
       "    </tr>\n",
       "    <tr>\n",
       "      <th>min</th>\n",
       "      <td>1.000000</td>\n",
       "      <td>1.000000</td>\n",
       "      <td>1.000000</td>\n",
       "      <td>1.000000</td>\n",
       "      <td>1.000000</td>\n",
       "    </tr>\n",
       "    <tr>\n",
       "      <th>25%</th>\n",
       "      <td>19.000000</td>\n",
       "      <td>11.000000</td>\n",
       "      <td>6.000000</td>\n",
       "      <td>128.000000</td>\n",
       "      <td>65.000000</td>\n",
       "    </tr>\n",
       "    <tr>\n",
       "      <th>50%</th>\n",
       "      <td>31.000000</td>\n",
       "      <td>18.000000</td>\n",
       "      <td>6.000000</td>\n",
       "      <td>224.000000</td>\n",
       "      <td>112.000000</td>\n",
       "    </tr>\n",
       "    <tr>\n",
       "      <th>75%</th>\n",
       "      <td>47.000000</td>\n",
       "      <td>28.000000</td>\n",
       "      <td>7.000000</td>\n",
       "      <td>368.000000</td>\n",
       "      <td>184.000000</td>\n",
       "    </tr>\n",
       "    <tr>\n",
       "      <th>max</th>\n",
       "      <td>675.000000</td>\n",
       "      <td>174.000000</td>\n",
       "      <td>97.000000</td>\n",
       "      <td>23338.000000</td>\n",
       "      <td>11669.000000</td>\n",
       "    </tr>\n",
       "  </tbody>\n",
       "</table>\n",
       "</div>"
      ],
      "text/plain": [
       "       max_visitors  avg_visitors  count_visitors  weekend_visitors  \\\n",
       "count  27059.000000  27059.000000    27059.000000      27059.000000   \n",
       "mean      35.033002     20.649248        6.507077        289.326509   \n",
       "std       22.058590     12.636614        3.597102        355.811326   \n",
       "min        1.000000      1.000000        1.000000          1.000000   \n",
       "25%       19.000000     11.000000        6.000000        128.000000   \n",
       "50%       31.000000     18.000000        6.000000        224.000000   \n",
       "75%       47.000000     28.000000        7.000000        368.000000   \n",
       "max      675.000000    174.000000       97.000000      23338.000000   \n",
       "\n",
       "       sum_visitors  \n",
       "count  27059.000000  \n",
       "mean     144.707417  \n",
       "std      177.932968  \n",
       "min        1.000000  \n",
       "25%       65.000000  \n",
       "50%      112.000000  \n",
       "75%      184.000000  \n",
       "max    11669.000000  "
      ]
     },
     "execution_count": 592,
     "metadata": {},
     "output_type": "execute_result"
    }
   ],
   "source": [
    "df_train = pd.read_csv (r'C:\\Users\\elira\\DataScience\\projects\\project_DB_recruit_restaurant_visitor_forecasting\\Final\\test_dev_train\\train_data.csv')\n",
    "df_train.describe()"
   ]
  },
  {
   "cell_type": "code",
   "execution_count": 593,
   "metadata": {},
   "outputs": [],
   "source": [
    "X_train = df_train.drop(['sum_visitors'],axis=1).values\n",
    "y_train = df_train['sum_visitors']          "
   ]
  },
  {
   "cell_type": "code",
   "execution_count": 594,
   "metadata": {},
   "outputs": [
    {
     "data": {
      "text/html": [
       "<div>\n",
       "<style scoped>\n",
       "    .dataframe tbody tr th:only-of-type {\n",
       "        vertical-align: middle;\n",
       "    }\n",
       "\n",
       "    .dataframe tbody tr th {\n",
       "        vertical-align: top;\n",
       "    }\n",
       "\n",
       "    .dataframe thead th {\n",
       "        text-align: right;\n",
       "    }\n",
       "</style>\n",
       "<table border=\"1\" class=\"dataframe\">\n",
       "  <thead>\n",
       "    <tr style=\"text-align: right;\">\n",
       "      <th></th>\n",
       "      <th>max_visitors</th>\n",
       "      <th>avg_visitors</th>\n",
       "      <th>count_visitors</th>\n",
       "      <th>weekend_visitors</th>\n",
       "      <th>sum_visitors</th>\n",
       "    </tr>\n",
       "  </thead>\n",
       "  <tbody>\n",
       "    <tr>\n",
       "      <th>count</th>\n",
       "      <td>6765.000000</td>\n",
       "      <td>6765.000000</td>\n",
       "      <td>6765.000000</td>\n",
       "      <td>6765.000000</td>\n",
       "      <td>6765.000000</td>\n",
       "    </tr>\n",
       "    <tr>\n",
       "      <th>mean</th>\n",
       "      <td>34.927864</td>\n",
       "      <td>20.622025</td>\n",
       "      <td>6.473171</td>\n",
       "      <td>285.881301</td>\n",
       "      <td>143.000296</td>\n",
       "    </tr>\n",
       "    <tr>\n",
       "      <th>std</th>\n",
       "      <td>23.898578</td>\n",
       "      <td>13.621198</td>\n",
       "      <td>3.374303</td>\n",
       "      <td>318.276669</td>\n",
       "      <td>159.146025</td>\n",
       "    </tr>\n",
       "    <tr>\n",
       "      <th>min</th>\n",
       "      <td>1.000000</td>\n",
       "      <td>1.000000</td>\n",
       "      <td>1.000000</td>\n",
       "      <td>2.000000</td>\n",
       "      <td>1.000000</td>\n",
       "    </tr>\n",
       "    <tr>\n",
       "      <th>25%</th>\n",
       "      <td>19.000000</td>\n",
       "      <td>11.000000</td>\n",
       "      <td>6.000000</td>\n",
       "      <td>128.000000</td>\n",
       "      <td>64.000000</td>\n",
       "    </tr>\n",
       "    <tr>\n",
       "      <th>50%</th>\n",
       "      <td>31.000000</td>\n",
       "      <td>18.000000</td>\n",
       "      <td>6.000000</td>\n",
       "      <td>224.000000</td>\n",
       "      <td>112.000000</td>\n",
       "    </tr>\n",
       "    <tr>\n",
       "      <th>75%</th>\n",
       "      <td>47.000000</td>\n",
       "      <td>28.000000</td>\n",
       "      <td>7.000000</td>\n",
       "      <td>366.000000</td>\n",
       "      <td>183.000000</td>\n",
       "    </tr>\n",
       "    <tr>\n",
       "      <th>max</th>\n",
       "      <td>877.000000</td>\n",
       "      <td>372.000000</td>\n",
       "      <td>77.000000</td>\n",
       "      <td>8258.000000</td>\n",
       "      <td>4129.000000</td>\n",
       "    </tr>\n",
       "  </tbody>\n",
       "</table>\n",
       "</div>"
      ],
      "text/plain": [
       "       max_visitors  avg_visitors  count_visitors  weekend_visitors  \\\n",
       "count   6765.000000   6765.000000     6765.000000       6765.000000   \n",
       "mean      34.927864     20.622025        6.473171        285.881301   \n",
       "std       23.898578     13.621198        3.374303        318.276669   \n",
       "min        1.000000      1.000000        1.000000          2.000000   \n",
       "25%       19.000000     11.000000        6.000000        128.000000   \n",
       "50%       31.000000     18.000000        6.000000        224.000000   \n",
       "75%       47.000000     28.000000        7.000000        366.000000   \n",
       "max      877.000000    372.000000       77.000000       8258.000000   \n",
       "\n",
       "       sum_visitors  \n",
       "count   6765.000000  \n",
       "mean     143.000296  \n",
       "std      159.146025  \n",
       "min        1.000000  \n",
       "25%       64.000000  \n",
       "50%      112.000000  \n",
       "75%      183.000000  \n",
       "max     4129.000000  "
      ]
     },
     "execution_count": 594,
     "metadata": {},
     "output_type": "execute_result"
    }
   ],
   "source": [
    "df_dev = pd.read_csv (r'C:\\Users\\elira\\DataScience\\projects\\project_DB_recruit_restaurant_visitor_forecasting\\Final\\test_dev_train\\dev_data.csv')\n",
    "df_dev.describe()"
   ]
  },
  {
   "cell_type": "code",
   "execution_count": 595,
   "metadata": {},
   "outputs": [],
   "source": [
    "X_dev = df_test.drop(['sum_visitors'],axis=1).values\n",
    "y_dev = df_test['sum_visitors']  "
   ]
  },
  {
   "cell_type": "markdown",
   "metadata": {},
   "source": [
    "## Grid search"
   ]
  },
  {
   "cell_type": "code",
   "execution_count": 596,
   "metadata": {},
   "outputs": [],
   "source": [
    "elastic=ElasticNet(normalize=True)\n",
    "search=GridSearchCV(estimator=elastic,param_grid={'alpha':np.logspace(-5,2,8),'l1_ratio':[.2,.4,.6,.8]},\n",
    "                    scoring='neg_mean_absolute_error',n_jobs=1,refit=True,cv=10)"
   ]
  },
  {
   "cell_type": "code",
   "execution_count": 597,
   "metadata": {
    "scrolled": true
   },
   "outputs": [
    {
     "data": {
      "text/plain": [
       "{'alpha': 1e-05, 'l1_ratio': 0.8}"
      ]
     },
     "execution_count": 597,
     "metadata": {},
     "output_type": "execute_result"
    }
   ],
   "source": [
    "search.fit(X_train,y_train)\n",
    "search.best_params_"
   ]
  },
  {
   "cell_type": "code",
   "execution_count": 598,
   "metadata": {},
   "outputs": [
    {
     "data": {
      "text/plain": [
       "4.2658042372660985"
      ]
     },
     "execution_count": 598,
     "metadata": {},
     "output_type": "execute_result"
    }
   ],
   "source": [
    "abs(search.best_score_)"
   ]
  },
  {
   "cell_type": "code",
   "execution_count": 599,
   "metadata": {
    "scrolled": true
   },
   "outputs": [
    {
     "name": "stdout",
     "output_type": "stream",
     "text": [
      "4.582809265018951\n"
     ]
    }
   ],
   "source": [
    "elastic=ElasticNet(normalize=True,alpha=0.00001,l1_ratio=0.8)\n",
    "elastic.fit(X_train,y_train)\n",
    "second_model=(mean_absolute_error(y_true=y_dev, y_pred=elastic.predict(X_dev)))\n",
    "print(second_model)"
   ]
  },
  {
   "cell_type": "code",
   "execution_count": 600,
   "metadata": {},
   "outputs": [],
   "source": [
    "def regressionMetrics(y, yhat):\n",
    "    res = {'MSE': metrics.mean_squared_error(y,yhat),\n",
    "           'RMSE': np.sqrt(metrics.mean_squared_error(y,yhat)),\n",
    "           'MAE': metrics.mean_absolute_error(y,yhat),\n",
    "           'MSLE': metrics.mean_squared_log_error(y,yhat),\n",
    "           'RMSLE': np.sqrt(metrics.mean_squared_log_error(y,yhat))\n",
    "          }\n",
    "    return res"
   ]
  },
  {
   "cell_type": "code",
   "execution_count": 601,
   "metadata": {},
   "outputs": [],
   "source": [
    "## example = test the model\n",
    "y = [2,4,6,8,10]\n",
    "y_hat = [2,3,4,5,30]"
   ]
  },
  {
   "cell_type": "code",
   "execution_count": 602,
   "metadata": {
    "scrolled": true
   },
   "outputs": [
    {
     "data": {
      "text/plain": [
       "{'MSE': 82.8,\n",
       " 'RMSE': 9.09945053286186,\n",
       " 'MAE': 5.2,\n",
       " 'MSLE': 0.28017901106191967,\n",
       " 'RMSLE': 0.5293193847403661}"
      ]
     },
     "execution_count": 602,
     "metadata": {},
     "output_type": "execute_result"
    }
   ],
   "source": [
    "regressionMetrics(y, y_hat)"
   ]
  },
  {
   "cell_type": "code",
   "execution_count": 603,
   "metadata": {},
   "outputs": [],
   "source": [
    "models_list = pd.DataFrame()"
   ]
  },
  {
   "cell_type": "markdown",
   "metadata": {},
   "source": [
    "# Elastic Net_dev_before"
   ]
  },
  {
   "cell_type": "code",
   "execution_count": 604,
   "metadata": {},
   "outputs": [
    {
     "data": {
      "text/plain": [
       "ElasticNet()"
      ]
     },
     "execution_count": 604,
     "metadata": {},
     "output_type": "execute_result"
    }
   ],
   "source": [
    "mod1 = ElasticNet(alpha=1.0, l1_ratio=0.5)\n",
    "mod1.fit(X_dev,y_dev)"
   ]
  },
  {
   "cell_type": "code",
   "execution_count": 605,
   "metadata": {},
   "outputs": [
    {
     "data": {
      "text/html": [
       "<div>\n",
       "<style scoped>\n",
       "    .dataframe tbody tr th:only-of-type {\n",
       "        vertical-align: middle;\n",
       "    }\n",
       "\n",
       "    .dataframe tbody tr th {\n",
       "        vertical-align: top;\n",
       "    }\n",
       "\n",
       "    .dataframe thead th {\n",
       "        text-align: right;\n",
       "    }\n",
       "</style>\n",
       "<table border=\"1\" class=\"dataframe\">\n",
       "  <thead>\n",
       "    <tr style=\"text-align: right;\">\n",
       "      <th></th>\n",
       "      <th>MAE</th>\n",
       "      <th>MSE</th>\n",
       "      <th>MSLE</th>\n",
       "      <th>RMSE</th>\n",
       "      <th>RMSLE</th>\n",
       "      <th>model</th>\n",
       "    </tr>\n",
       "  </thead>\n",
       "  <tbody>\n",
       "    <tr>\n",
       "      <th>0</th>\n",
       "      <td>0.154085</td>\n",
       "      <td>4.011442</td>\n",
       "      <td>0.000713</td>\n",
       "      <td>2.002859</td>\n",
       "      <td>0.026698</td>\n",
       "      <td>Elastic-Net-dev-before</td>\n",
       "    </tr>\n",
       "  </tbody>\n",
       "</table>\n",
       "</div>"
      ],
      "text/plain": [
       "        MAE       MSE      MSLE      RMSE     RMSLE                   model\n",
       "0  0.154085  4.011442  0.000713  2.002859  0.026698  Elastic-Net-dev-before"
      ]
     },
     "execution_count": 605,
     "metadata": {},
     "output_type": "execute_result"
    }
   ],
   "source": [
    "pred1 = mod1.predict(X_dev)\n",
    "model_dict = {'model': \"Elastic-Net-dev-before\"}\n",
    "models_list = models_list.append({**model_dict, **regressionMetrics(y_dev, pred1)}, ignore_index=True)\n",
    "models_list"
   ]
  },
  {
   "cell_type": "markdown",
   "metadata": {},
   "source": [
    "# Elastic Net_dev_after"
   ]
  },
  {
   "cell_type": "code",
   "execution_count": 606,
   "metadata": {},
   "outputs": [
    {
     "data": {
      "text/plain": [
       "ElasticNet(alpha=1e-05, l1_ratio=0.8)"
      ]
     },
     "execution_count": 606,
     "metadata": {},
     "output_type": "execute_result"
    }
   ],
   "source": [
    "mod2 = ElasticNet(alpha=0.00001, l1_ratio=0.8)\n",
    "mod2.fit(X_dev,y_dev)"
   ]
  },
  {
   "cell_type": "code",
   "execution_count": 607,
   "metadata": {},
   "outputs": [
    {
     "data": {
      "text/html": [
       "<div>\n",
       "<style scoped>\n",
       "    .dataframe tbody tr th:only-of-type {\n",
       "        vertical-align: middle;\n",
       "    }\n",
       "\n",
       "    .dataframe tbody tr th {\n",
       "        vertical-align: top;\n",
       "    }\n",
       "\n",
       "    .dataframe thead th {\n",
       "        text-align: right;\n",
       "    }\n",
       "</style>\n",
       "<table border=\"1\" class=\"dataframe\">\n",
       "  <thead>\n",
       "    <tr style=\"text-align: right;\">\n",
       "      <th></th>\n",
       "      <th>MAE</th>\n",
       "      <th>MSE</th>\n",
       "      <th>MSLE</th>\n",
       "      <th>RMSE</th>\n",
       "      <th>RMSLE</th>\n",
       "      <th>model</th>\n",
       "    </tr>\n",
       "  </thead>\n",
       "  <tbody>\n",
       "    <tr>\n",
       "      <th>0</th>\n",
       "      <td>0.154085</td>\n",
       "      <td>4.011442</td>\n",
       "      <td>0.000713</td>\n",
       "      <td>2.002859</td>\n",
       "      <td>0.026698</td>\n",
       "      <td>Elastic-Net-dev-before</td>\n",
       "    </tr>\n",
       "    <tr>\n",
       "      <th>1</th>\n",
       "      <td>0.120211</td>\n",
       "      <td>4.024652</td>\n",
       "      <td>0.000712</td>\n",
       "      <td>2.006153</td>\n",
       "      <td>0.026689</td>\n",
       "      <td>Elastic-Net-dev-after</td>\n",
       "    </tr>\n",
       "  </tbody>\n",
       "</table>\n",
       "</div>"
      ],
      "text/plain": [
       "        MAE       MSE      MSLE      RMSE     RMSLE                   model\n",
       "0  0.154085  4.011442  0.000713  2.002859  0.026698  Elastic-Net-dev-before\n",
       "1  0.120211  4.024652  0.000712  2.006153  0.026689   Elastic-Net-dev-after"
      ]
     },
     "execution_count": 607,
     "metadata": {},
     "output_type": "execute_result"
    }
   ],
   "source": [
    "pred2 = mod.predict(X_dev)\n",
    "model_dict = {'model': \"Elastic-Net-dev-after\"}\n",
    "models_list = models_list.append({**model_dict, **regressionMetrics(y_dev, pred2)}, ignore_index=True)\n",
    "models_list"
   ]
  },
  {
   "cell_type": "code",
   "execution_count": 608,
   "metadata": {},
   "outputs": [
    {
     "data": {
      "text/html": [
       "<div>\n",
       "<style scoped>\n",
       "    .dataframe tbody tr th:only-of-type {\n",
       "        vertical-align: middle;\n",
       "    }\n",
       "\n",
       "    .dataframe tbody tr th {\n",
       "        vertical-align: top;\n",
       "    }\n",
       "\n",
       "    .dataframe thead th {\n",
       "        text-align: right;\n",
       "    }\n",
       "</style>\n",
       "<table border=\"1\" class=\"dataframe\">\n",
       "  <thead>\n",
       "    <tr style=\"text-align: right;\">\n",
       "      <th></th>\n",
       "      <th>max_visitors</th>\n",
       "      <th>avg_visitors</th>\n",
       "      <th>count_visitors</th>\n",
       "      <th>weekend_visitors</th>\n",
       "      <th>sum_visitors</th>\n",
       "    </tr>\n",
       "  </thead>\n",
       "  <tbody>\n",
       "    <tr>\n",
       "      <th>count</th>\n",
       "      <td>8457.000000</td>\n",
       "      <td>8457.000000</td>\n",
       "      <td>8457.000000</td>\n",
       "      <td>8457.000000</td>\n",
       "      <td>8457.000000</td>\n",
       "    </tr>\n",
       "    <tr>\n",
       "      <th>mean</th>\n",
       "      <td>34.803595</td>\n",
       "      <td>20.546766</td>\n",
       "      <td>6.492137</td>\n",
       "      <td>287.964172</td>\n",
       "      <td>144.036538</td>\n",
       "    </tr>\n",
       "    <tr>\n",
       "      <th>std</th>\n",
       "      <td>24.084217</td>\n",
       "      <td>12.728748</td>\n",
       "      <td>3.867326</td>\n",
       "      <td>369.325448</td>\n",
       "      <td>184.653175</td>\n",
       "    </tr>\n",
       "    <tr>\n",
       "      <th>min</th>\n",
       "      <td>1.000000</td>\n",
       "      <td>1.000000</td>\n",
       "      <td>1.000000</td>\n",
       "      <td>1.000000</td>\n",
       "      <td>1.000000</td>\n",
       "    </tr>\n",
       "    <tr>\n",
       "      <th>25%</th>\n",
       "      <td>19.000000</td>\n",
       "      <td>11.000000</td>\n",
       "      <td>6.000000</td>\n",
       "      <td>128.000000</td>\n",
       "      <td>64.000000</td>\n",
       "    </tr>\n",
       "    <tr>\n",
       "      <th>50%</th>\n",
       "      <td>31.000000</td>\n",
       "      <td>18.000000</td>\n",
       "      <td>6.000000</td>\n",
       "      <td>220.000000</td>\n",
       "      <td>110.000000</td>\n",
       "    </tr>\n",
       "    <tr>\n",
       "      <th>75%</th>\n",
       "      <td>46.000000</td>\n",
       "      <td>28.000000</td>\n",
       "      <td>7.000000</td>\n",
       "      <td>364.000000</td>\n",
       "      <td>182.000000</td>\n",
       "    </tr>\n",
       "    <tr>\n",
       "      <th>max</th>\n",
       "      <td>777.000000</td>\n",
       "      <td>131.000000</td>\n",
       "      <td>99.000000</td>\n",
       "      <td>10482.000000</td>\n",
       "      <td>5241.000000</td>\n",
       "    </tr>\n",
       "  </tbody>\n",
       "</table>\n",
       "</div>"
      ],
      "text/plain": [
       "       max_visitors  avg_visitors  count_visitors  weekend_visitors  \\\n",
       "count   8457.000000   8457.000000     8457.000000       8457.000000   \n",
       "mean      34.803595     20.546766        6.492137        287.964172   \n",
       "std       24.084217     12.728748        3.867326        369.325448   \n",
       "min        1.000000      1.000000        1.000000          1.000000   \n",
       "25%       19.000000     11.000000        6.000000        128.000000   \n",
       "50%       31.000000     18.000000        6.000000        220.000000   \n",
       "75%       46.000000     28.000000        7.000000        364.000000   \n",
       "max      777.000000    131.000000       99.000000      10482.000000   \n",
       "\n",
       "       sum_visitors  \n",
       "count   8457.000000  \n",
       "mean     144.036538  \n",
       "std      184.653175  \n",
       "min        1.000000  \n",
       "25%       64.000000  \n",
       "50%      110.000000  \n",
       "75%      182.000000  \n",
       "max     5241.000000  "
      ]
     },
     "execution_count": 608,
     "metadata": {},
     "output_type": "execute_result"
    }
   ],
   "source": [
    "df_test = pd.read_csv (r'C:\\Users\\elira\\DataScience\\projects\\project_DB_recruit_restaurant_visitor_forecasting\\Final\\test_dev_train\\test_data.csv')\n",
    "df_test.describe()"
   ]
  },
  {
   "cell_type": "code",
   "execution_count": 609,
   "metadata": {},
   "outputs": [],
   "source": [
    "X_test = df_test.drop(['sum_visitors'],axis=1).values\n",
    "y_test = df_test['sum_visitors']"
   ]
  },
  {
   "cell_type": "code",
   "execution_count": 610,
   "metadata": {},
   "outputs": [
    {
     "data": {
      "text/plain": [
       "ElasticNet(alpha=1e-05, l1_ratio=0.8)"
      ]
     },
     "execution_count": 610,
     "metadata": {},
     "output_type": "execute_result"
    }
   ],
   "source": [
    "mod3 = ElasticNet(alpha=0.00001, l1_ratio=0.8)\n",
    "mod3.fit(X_test,y_test)"
   ]
  },
  {
   "cell_type": "code",
   "execution_count": 611,
   "metadata": {},
   "outputs": [
    {
     "data": {
      "text/html": [
       "<div>\n",
       "<style scoped>\n",
       "    .dataframe tbody tr th:only-of-type {\n",
       "        vertical-align: middle;\n",
       "    }\n",
       "\n",
       "    .dataframe tbody tr th {\n",
       "        vertical-align: top;\n",
       "    }\n",
       "\n",
       "    .dataframe thead th {\n",
       "        text-align: right;\n",
       "    }\n",
       "</style>\n",
       "<table border=\"1\" class=\"dataframe\">\n",
       "  <thead>\n",
       "    <tr style=\"text-align: right;\">\n",
       "      <th></th>\n",
       "      <th>MAE</th>\n",
       "      <th>MSE</th>\n",
       "      <th>MSLE</th>\n",
       "      <th>RMSE</th>\n",
       "      <th>RMSLE</th>\n",
       "      <th>model</th>\n",
       "    </tr>\n",
       "  </thead>\n",
       "  <tbody>\n",
       "    <tr>\n",
       "      <th>0</th>\n",
       "      <td>0.154085</td>\n",
       "      <td>4.011442</td>\n",
       "      <td>0.000713</td>\n",
       "      <td>2.002859</td>\n",
       "      <td>0.026698</td>\n",
       "      <td>Elastic-Net-dev-before</td>\n",
       "    </tr>\n",
       "    <tr>\n",
       "      <th>1</th>\n",
       "      <td>0.120211</td>\n",
       "      <td>4.024652</td>\n",
       "      <td>0.000712</td>\n",
       "      <td>2.006153</td>\n",
       "      <td>0.026689</td>\n",
       "      <td>Elastic-Net-dev-after</td>\n",
       "    </tr>\n",
       "    <tr>\n",
       "      <th>2</th>\n",
       "      <td>0.120211</td>\n",
       "      <td>4.024652</td>\n",
       "      <td>0.000712</td>\n",
       "      <td>2.006153</td>\n",
       "      <td>0.026689</td>\n",
       "      <td>Elastic-Net-test</td>\n",
       "    </tr>\n",
       "  </tbody>\n",
       "</table>\n",
       "</div>"
      ],
      "text/plain": [
       "        MAE       MSE      MSLE      RMSE     RMSLE                   model\n",
       "0  0.154085  4.011442  0.000713  2.002859  0.026698  Elastic-Net-dev-before\n",
       "1  0.120211  4.024652  0.000712  2.006153  0.026689   Elastic-Net-dev-after\n",
       "2  0.120211  4.024652  0.000712  2.006153  0.026689        Elastic-Net-test"
      ]
     },
     "execution_count": 611,
     "metadata": {},
     "output_type": "execute_result"
    }
   ],
   "source": [
    "pred3 = mod.predict(X_test)\n",
    "model_dict = {'model': \"Elastic-Net-test\"}\n",
    "models_list = models_list.append({**model_dict, **regressionMetrics(y_test, pred3)}, ignore_index=True)\n",
    "models_list"
   ]
  },
  {
   "cell_type": "markdown",
   "metadata": {},
   "source": [
    "# Final"
   ]
  },
  {
   "cell_type": "code",
   "execution_count": 612,
   "metadata": {},
   "outputs": [
    {
     "data": {
      "text/html": [
       "<div>\n",
       "<style scoped>\n",
       "    .dataframe tbody tr th:only-of-type {\n",
       "        vertical-align: middle;\n",
       "    }\n",
       "\n",
       "    .dataframe tbody tr th {\n",
       "        vertical-align: top;\n",
       "    }\n",
       "\n",
       "    .dataframe thead th {\n",
       "        text-align: right;\n",
       "    }\n",
       "</style>\n",
       "<table border=\"1\" class=\"dataframe\">\n",
       "  <thead>\n",
       "    <tr style=\"text-align: right;\">\n",
       "      <th></th>\n",
       "      <th>MAE</th>\n",
       "      <th>MSE</th>\n",
       "      <th>MSLE</th>\n",
       "      <th>RMSE</th>\n",
       "      <th>RMSLE</th>\n",
       "      <th>model</th>\n",
       "    </tr>\n",
       "  </thead>\n",
       "  <tbody>\n",
       "    <tr>\n",
       "      <th>1</th>\n",
       "      <td>0.120211</td>\n",
       "      <td>4.024652</td>\n",
       "      <td>0.000712</td>\n",
       "      <td>2.006153</td>\n",
       "      <td>0.026689</td>\n",
       "      <td>Elastic-Net-dev-after</td>\n",
       "    </tr>\n",
       "    <tr>\n",
       "      <th>2</th>\n",
       "      <td>0.120211</td>\n",
       "      <td>4.024652</td>\n",
       "      <td>0.000712</td>\n",
       "      <td>2.006153</td>\n",
       "      <td>0.026689</td>\n",
       "      <td>Elastic-Net-test</td>\n",
       "    </tr>\n",
       "    <tr>\n",
       "      <th>0</th>\n",
       "      <td>0.154085</td>\n",
       "      <td>4.011442</td>\n",
       "      <td>0.000713</td>\n",
       "      <td>2.002859</td>\n",
       "      <td>0.026698</td>\n",
       "      <td>Elastic-Net-dev-before</td>\n",
       "    </tr>\n",
       "  </tbody>\n",
       "</table>\n",
       "</div>"
      ],
      "text/plain": [
       "        MAE       MSE      MSLE      RMSE     RMSLE                   model\n",
       "1  0.120211  4.024652  0.000712  2.006153  0.026689   Elastic-Net-dev-after\n",
       "2  0.120211  4.024652  0.000712  2.006153  0.026689        Elastic-Net-test\n",
       "0  0.154085  4.011442  0.000713  2.002859  0.026698  Elastic-Net-dev-before"
      ]
     },
     "execution_count": 612,
     "metadata": {},
     "output_type": "execute_result"
    }
   ],
   "source": [
    "models_list.sort_values('MAE')"
   ]
  },
  {
   "cell_type": "code",
   "execution_count": 613,
   "metadata": {},
   "outputs": [
    {
     "data": {
      "text/plain": [
       "<AxesSubplot:xlabel='sum_visitors'>"
      ]
     },
     "execution_count": 613,
     "metadata": {},
     "output_type": "execute_result"
    },
    {
     "data": {
      "image/png": "[encoded data removed]",
      "text/plain": [
       "<Figure size 432x288 with 1 Axes>"
      ]
     },
     "metadata": {
      "needs_background": "light"
     },
     "output_type": "display_data"
    }
   ],
   "source": [
    "sns.scatterplot(y_test, pred3)"
   ]
  },
  {
   "cell_type": "code",
   "execution_count": null,
   "metadata": {},
   "outputs": [],
   "source": []
  }
 ],
 "metadata": {
  "kernelspec": {
   "display_name": "Python 3",
   "language": "python",
   "name": "python3"
  },
  "language_info": {
   "codemirror_mode": {
    "name": "ipython",
    "version": 3
   },
   "file_extension": ".py",
   "mimetype": "text/x-python",
   "name": "python",
   "nbconvert_exporter": "python",
   "pygments_lexer": "ipython3",
   "version": "3.8.5"
  }
 },
 "nbformat": 4,
 "nbformat_minor": 2
}
