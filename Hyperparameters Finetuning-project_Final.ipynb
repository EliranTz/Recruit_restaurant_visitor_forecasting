{
 "cells": [
  {
   "cell_type": "markdown",
   "metadata": {},
   "source": [
    "# Hyperparameter Finetuning"
   ]
  },
  {
   "cell_type": "code",
   "execution_count": 197,
   "metadata": {},
   "outputs": [],
   "source": [
    "import numpy as np\n",
    "import pandas as pd\n",
    "import seaborn as sns\n",
    "import numpy as np\n",
    "import pandas as pd\n",
    "import seaborn as sns\n",
    "from sklearn.metrics import mean_absolute_error\n",
    "from sklearn.ensemble import RandomForestRegressor, GradientBoostingRegressor\n",
    "from sklearn.model_selection import train_test_split, GridSearchCV, RandomizedSearchCV\n",
    "from sklearn.preprocessing import OneHotEncoder, LabelEncoder\n",
    "from sklearn.datasets import make_regression\n",
    "from sklearn.linear_model import ElasticNet, ElasticNetCV\n",
    "from sklearn.metrics import mean_squared_error\n",
    "from numpy import mean\n",
    "from numpy import std\n",
    "from numpy import absolute\n",
    "from pandas import read_csv\n",
    "from sklearn.model_selection import cross_val_score\n",
    "from sklearn.model_selection import RepeatedKFold\n",
    "from sklearn.metrics import mean_absolute_error\n",
    "from sklearn.ensemble import RandomForestRegressor, GradientBoostingRegressor\n",
    "from sklearn.preprocessing import OneHotEncoder, LabelEncoder\n",
    "from sklearn.pipeline import make_pipeline\n",
    "from sklearn.preprocessing import RobustScaler\n",
    "from sklearn.datasets import make_regression\n",
    "from sklearn.metrics import mean_squared_error\n",
    "import sklearn.metrics as metrics\n",
    "from sklearn.model_selection import train_test_split, GridSearchCV, RandomizedSearchCV\n",
    "from sklearn.linear_model import ElasticNet\n",
    "from sklearn.metrics import mean_squared_error\n",
    "from sklearn.model_selection import GridSearchCV, train_test_split\n",
    "from sklearn import linear_model"
   ]
  },
  {
   "cell_type": "code",
   "execution_count": 198,
   "metadata": {
    "scrolled": true
   },
   "outputs": [
    {
     "data": {
      "text/html": [
       "<div>\n",
       "<style scoped>\n",
       "    .dataframe tbody tr th:only-of-type {\n",
       "        vertical-align: middle;\n",
       "    }\n",
       "\n",
       "    .dataframe tbody tr th {\n",
       "        vertical-align: top;\n",
       "    }\n",
       "\n",
       "    .dataframe thead th {\n",
       "        text-align: right;\n",
       "    }\n",
       "</style>\n",
       "<table border=\"1\" class=\"dataframe\">\n",
       "  <thead>\n",
       "    <tr style=\"text-align: right;\">\n",
       "      <th></th>\n",
       "      <th>max_visitors</th>\n",
       "      <th>avg_visitors</th>\n",
       "      <th>count_visitors</th>\n",
       "      <th>weekend_visitors</th>\n",
       "      <th>sum_visitors</th>\n",
       "    </tr>\n",
       "  </thead>\n",
       "  <tbody>\n",
       "    <tr>\n",
       "      <th>count</th>\n",
       "      <td>27059.000000</td>\n",
       "      <td>27059.000000</td>\n",
       "      <td>27059.000000</td>\n",
       "      <td>27059.000000</td>\n",
       "      <td>27059.000000</td>\n",
       "    </tr>\n",
       "    <tr>\n",
       "      <th>mean</th>\n",
       "      <td>35.033002</td>\n",
       "      <td>20.649248</td>\n",
       "      <td>6.507077</td>\n",
       "      <td>289.326509</td>\n",
       "      <td>144.707417</td>\n",
       "    </tr>\n",
       "    <tr>\n",
       "      <th>std</th>\n",
       "      <td>22.058590</td>\n",
       "      <td>12.636614</td>\n",
       "      <td>3.597102</td>\n",
       "      <td>355.811326</td>\n",
       "      <td>177.932968</td>\n",
       "    </tr>\n",
       "    <tr>\n",
       "      <th>min</th>\n",
       "      <td>1.000000</td>\n",
       "      <td>1.000000</td>\n",
       "      <td>1.000000</td>\n",
       "      <td>1.000000</td>\n",
       "      <td>1.000000</td>\n",
       "    </tr>\n",
       "    <tr>\n",
       "      <th>25%</th>\n",
       "      <td>19.000000</td>\n",
       "      <td>11.000000</td>\n",
       "      <td>6.000000</td>\n",
       "      <td>128.000000</td>\n",
       "      <td>65.000000</td>\n",
       "    </tr>\n",
       "    <tr>\n",
       "      <th>50%</th>\n",
       "      <td>31.000000</td>\n",
       "      <td>18.000000</td>\n",
       "      <td>6.000000</td>\n",
       "      <td>224.000000</td>\n",
       "      <td>112.000000</td>\n",
       "    </tr>\n",
       "    <tr>\n",
       "      <th>75%</th>\n",
       "      <td>47.000000</td>\n",
       "      <td>28.000000</td>\n",
       "      <td>7.000000</td>\n",
       "      <td>368.000000</td>\n",
       "      <td>184.000000</td>\n",
       "    </tr>\n",
       "    <tr>\n",
       "      <th>max</th>\n",
       "      <td>675.000000</td>\n",
       "      <td>174.000000</td>\n",
       "      <td>97.000000</td>\n",
       "      <td>23338.000000</td>\n",
       "      <td>11669.000000</td>\n",
       "    </tr>\n",
       "  </tbody>\n",
       "</table>\n",
       "</div>"
      ],
      "text/plain": [
       "       max_visitors  avg_visitors  count_visitors  weekend_visitors  \\\n",
       "count  27059.000000  27059.000000    27059.000000      27059.000000   \n",
       "mean      35.033002     20.649248        6.507077        289.326509   \n",
       "std       22.058590     12.636614        3.597102        355.811326   \n",
       "min        1.000000      1.000000        1.000000          1.000000   \n",
       "25%       19.000000     11.000000        6.000000        128.000000   \n",
       "50%       31.000000     18.000000        6.000000        224.000000   \n",
       "75%       47.000000     28.000000        7.000000        368.000000   \n",
       "max      675.000000    174.000000       97.000000      23338.000000   \n",
       "\n",
       "       sum_visitors  \n",
       "count  27059.000000  \n",
       "mean     144.707417  \n",
       "std      177.932968  \n",
       "min        1.000000  \n",
       "25%       65.000000  \n",
       "50%      112.000000  \n",
       "75%      184.000000  \n",
       "max    11669.000000  "
      ]
     },
     "execution_count": 198,
     "metadata": {},
     "output_type": "execute_result"
    }
   ],
   "source": [
    "df_train = pd.read_csv (r'C:\\Users\\elira\\DataScience\\projects\\project_DB_recruit_restaurant_visitor_forecasting\\Final_SQL&CSV\\test_dev_train\\train_data.csv')\n",
    "df_train.describe()"
   ]
  },
  {
   "cell_type": "code",
   "execution_count": 199,
   "metadata": {},
   "outputs": [],
   "source": [
    "X_train = df_train.drop(['sum_visitors'],axis=1).values\n",
    "y_train = df_train['sum_visitors']          "
   ]
  },
  {
   "cell_type": "code",
   "execution_count": 200,
   "metadata": {},
   "outputs": [
    {
     "data": {
      "text/html": [
       "<div>\n",
       "<style scoped>\n",
       "    .dataframe tbody tr th:only-of-type {\n",
       "        vertical-align: middle;\n",
       "    }\n",
       "\n",
       "    .dataframe tbody tr th {\n",
       "        vertical-align: top;\n",
       "    }\n",
       "\n",
       "    .dataframe thead th {\n",
       "        text-align: right;\n",
       "    }\n",
       "</style>\n",
       "<table border=\"1\" class=\"dataframe\">\n",
       "  <thead>\n",
       "    <tr style=\"text-align: right;\">\n",
       "      <th></th>\n",
       "      <th>max_visitors</th>\n",
       "      <th>avg_visitors</th>\n",
       "      <th>count_visitors</th>\n",
       "      <th>weekend_visitors</th>\n",
       "      <th>sum_visitors</th>\n",
       "    </tr>\n",
       "  </thead>\n",
       "  <tbody>\n",
       "    <tr>\n",
       "      <th>count</th>\n",
       "      <td>6765.000000</td>\n",
       "      <td>6765.000000</td>\n",
       "      <td>6765.000000</td>\n",
       "      <td>6765.000000</td>\n",
       "      <td>6765.000000</td>\n",
       "    </tr>\n",
       "    <tr>\n",
       "      <th>mean</th>\n",
       "      <td>34.927864</td>\n",
       "      <td>20.622025</td>\n",
       "      <td>6.473171</td>\n",
       "      <td>285.881301</td>\n",
       "      <td>143.000296</td>\n",
       "    </tr>\n",
       "    <tr>\n",
       "      <th>std</th>\n",
       "      <td>23.898578</td>\n",
       "      <td>13.621198</td>\n",
       "      <td>3.374303</td>\n",
       "      <td>318.276669</td>\n",
       "      <td>159.146025</td>\n",
       "    </tr>\n",
       "    <tr>\n",
       "      <th>min</th>\n",
       "      <td>1.000000</td>\n",
       "      <td>1.000000</td>\n",
       "      <td>1.000000</td>\n",
       "      <td>2.000000</td>\n",
       "      <td>1.000000</td>\n",
       "    </tr>\n",
       "    <tr>\n",
       "      <th>25%</th>\n",
       "      <td>19.000000</td>\n",
       "      <td>11.000000</td>\n",
       "      <td>6.000000</td>\n",
       "      <td>128.000000</td>\n",
       "      <td>64.000000</td>\n",
       "    </tr>\n",
       "    <tr>\n",
       "      <th>50%</th>\n",
       "      <td>31.000000</td>\n",
       "      <td>18.000000</td>\n",
       "      <td>6.000000</td>\n",
       "      <td>224.000000</td>\n",
       "      <td>112.000000</td>\n",
       "    </tr>\n",
       "    <tr>\n",
       "      <th>75%</th>\n",
       "      <td>47.000000</td>\n",
       "      <td>28.000000</td>\n",
       "      <td>7.000000</td>\n",
       "      <td>366.000000</td>\n",
       "      <td>183.000000</td>\n",
       "    </tr>\n",
       "    <tr>\n",
       "      <th>max</th>\n",
       "      <td>877.000000</td>\n",
       "      <td>372.000000</td>\n",
       "      <td>77.000000</td>\n",
       "      <td>8258.000000</td>\n",
       "      <td>4129.000000</td>\n",
       "    </tr>\n",
       "  </tbody>\n",
       "</table>\n",
       "</div>"
      ],
      "text/plain": [
       "       max_visitors  avg_visitors  count_visitors  weekend_visitors  \\\n",
       "count   6765.000000   6765.000000     6765.000000       6765.000000   \n",
       "mean      34.927864     20.622025        6.473171        285.881301   \n",
       "std       23.898578     13.621198        3.374303        318.276669   \n",
       "min        1.000000      1.000000        1.000000          2.000000   \n",
       "25%       19.000000     11.000000        6.000000        128.000000   \n",
       "50%       31.000000     18.000000        6.000000        224.000000   \n",
       "75%       47.000000     28.000000        7.000000        366.000000   \n",
       "max      877.000000    372.000000       77.000000       8258.000000   \n",
       "\n",
       "       sum_visitors  \n",
       "count   6765.000000  \n",
       "mean     143.000296  \n",
       "std      159.146025  \n",
       "min        1.000000  \n",
       "25%       64.000000  \n",
       "50%      112.000000  \n",
       "75%      183.000000  \n",
       "max     4129.000000  "
      ]
     },
     "execution_count": 200,
     "metadata": {},
     "output_type": "execute_result"
    }
   ],
   "source": [
    "df_dev = pd.read_csv(r'C:\\Users\\elira\\DataScience\\projects\\project_DB_recruit_restaurant_visitor_forecasting\\Final_SQL&CSV\\test_dev_train\\dev_data.csv')\n",
    "df_dev.describe()"
   ]
  },
  {
   "cell_type": "code",
   "execution_count": 201,
   "metadata": {},
   "outputs": [],
   "source": [
    "X_dev = df_dev.drop(['sum_visitors'],axis=1).values\n",
    "y_dev = df_dev['sum_visitors']  "
   ]
  },
  {
   "cell_type": "markdown",
   "metadata": {},
   "source": [
    "## Grid search"
   ]
  },
  {
   "cell_type": "code",
   "execution_count": 202,
   "metadata": {},
   "outputs": [],
   "source": [
    "elastic=ElasticNet(normalize=True)\n",
    "search=GridSearchCV(estimator=elastic,param_grid={'alpha':np.logspace(-5,2,8),'l1_ratio':[.2,.4,.6,.8]},\n",
    "                    scoring='neg_mean_absolute_error',n_jobs=1,refit=True,cv=10)"
   ]
  },
  {
   "cell_type": "code",
   "execution_count": 203,
   "metadata": {
    "scrolled": true
   },
   "outputs": [
    {
     "data": {
      "text/plain": [
       "{'alpha': 1e-05, 'l1_ratio': 0.8}"
      ]
     },
     "execution_count": 203,
     "metadata": {},
     "output_type": "execute_result"
    }
   ],
   "source": [
    "search.fit(X_train,y_train)\n",
    "search.best_params_"
   ]
  },
  {
   "cell_type": "code",
   "execution_count": 204,
   "metadata": {},
   "outputs": [
    {
     "data": {
      "text/plain": [
       "4.2658042372660985"
      ]
     },
     "execution_count": 204,
     "metadata": {},
     "output_type": "execute_result"
    }
   ],
   "source": [
    "abs(search.best_score_)"
   ]
  },
  {
   "cell_type": "code",
   "execution_count": 205,
   "metadata": {
    "scrolled": true
   },
   "outputs": [
    {
     "name": "stdout",
     "output_type": "stream",
     "text": [
      "4.462463191950075\n"
     ]
    }
   ],
   "source": [
    "elastic=ElasticNet(normalize=True,alpha=0.00001,l1_ratio=0.8)\n",
    "elastic.fit(X_train,y_train)\n",
    "second_model=(mean_absolute_error(y_true=y_dev, y_pred=elastic.predict(X_dev)))\n",
    "print(second_model)"
   ]
  },
  {
   "cell_type": "code",
   "execution_count": 206,
   "metadata": {},
   "outputs": [],
   "source": [
    "def regressionMetrics(y, yhat):\n",
    "    res = {'MSE': metrics.mean_squared_error(y,yhat),\n",
    "           'RMSE': np.sqrt(metrics.mean_squared_error(y,yhat)),\n",
    "           'MAE': metrics.mean_absolute_error(y,yhat),\n",
    "           'MSLE': metrics.mean_squared_log_error(y,yhat),\n",
    "           'RMSLE': np.sqrt(metrics.mean_squared_log_error(y,yhat))\n",
    "          }\n",
    "    return res"
   ]
  },
  {
   "cell_type": "code",
   "execution_count": 207,
   "metadata": {},
   "outputs": [],
   "source": [
    "## example = test the model\n",
    "y = [2,4,6,8,10]\n",
    "y_hat = [2,3,4,5,30]"
   ]
  },
  {
   "cell_type": "code",
   "execution_count": 208,
   "metadata": {
    "scrolled": true
   },
   "outputs": [
    {
     "data": {
      "text/plain": [
       "{'MSE': 82.8,\n",
       " 'RMSE': 9.09945053286186,\n",
       " 'MAE': 5.2,\n",
       " 'MSLE': 0.28017901106191967,\n",
       " 'RMSLE': 0.5293193847403661}"
      ]
     },
     "execution_count": 208,
     "metadata": {},
     "output_type": "execute_result"
    }
   ],
   "source": [
    "regressionMetrics(y, y_hat)"
   ]
  },
  {
   "cell_type": "code",
   "execution_count": 209,
   "metadata": {},
   "outputs": [],
   "source": [
    "models_list = pd.DataFrame()"
   ]
  },
  {
   "cell_type": "markdown",
   "metadata": {},
   "source": [
    "# Elastic Net_dev_before"
   ]
  },
  {
   "cell_type": "code",
   "execution_count": 210,
   "metadata": {},
   "outputs": [
    {
     "data": {
      "text/plain": [
       "ElasticNet()"
      ]
     },
     "execution_count": 210,
     "metadata": {},
     "output_type": "execute_result"
    }
   ],
   "source": [
    "mod1 = ElasticNet(alpha=1.0, l1_ratio=0.5)\n",
    "mod1.fit(X_dev,y_dev)"
   ]
  },
  {
   "cell_type": "code",
   "execution_count": 211,
   "metadata": {},
   "outputs": [
    {
     "data": {
      "text/html": [
       "<div>\n",
       "<style scoped>\n",
       "    .dataframe tbody tr th:only-of-type {\n",
       "        vertical-align: middle;\n",
       "    }\n",
       "\n",
       "    .dataframe tbody tr th {\n",
       "        vertical-align: top;\n",
       "    }\n",
       "\n",
       "    .dataframe thead th {\n",
       "        text-align: right;\n",
       "    }\n",
       "</style>\n",
       "<table border=\"1\" class=\"dataframe\">\n",
       "  <thead>\n",
       "    <tr style=\"text-align: right;\">\n",
       "      <th></th>\n",
       "      <th>MAE</th>\n",
       "      <th>MSE</th>\n",
       "      <th>MSLE</th>\n",
       "      <th>RMSE</th>\n",
       "      <th>RMSLE</th>\n",
       "      <th>model</th>\n",
       "    </tr>\n",
       "  </thead>\n",
       "  <tbody>\n",
       "    <tr>\n",
       "      <th>0</th>\n",
       "      <td>0.188052</td>\n",
       "      <td>6.423739</td>\n",
       "      <td>0.000668</td>\n",
       "      <td>2.53451</td>\n",
       "      <td>0.025848</td>\n",
       "      <td>Elastic-Net-dev-before</td>\n",
       "    </tr>\n",
       "  </tbody>\n",
       "</table>\n",
       "</div>"
      ],
      "text/plain": [
       "        MAE       MSE      MSLE     RMSE     RMSLE                   model\n",
       "0  0.188052  6.423739  0.000668  2.53451  0.025848  Elastic-Net-dev-before"
      ]
     },
     "execution_count": 211,
     "metadata": {},
     "output_type": "execute_result"
    }
   ],
   "source": [
    "pred1 = mod1.predict(X_dev)\n",
    "model_dict = {'model': \"Elastic-Net-dev-before\"}\n",
    "models_list = models_list.append({**model_dict, **regressionMetrics(y_dev, pred1)}, ignore_index=True)\n",
    "models_list"
   ]
  },
  {
   "cell_type": "markdown",
   "metadata": {},
   "source": [
    "# Elastic Net_dev_after"
   ]
  },
  {
   "cell_type": "code",
   "execution_count": 212,
   "metadata": {},
   "outputs": [
    {
     "data": {
      "text/plain": [
       "ElasticNet(alpha=1e-05, l1_ratio=0.8)"
      ]
     },
     "execution_count": 212,
     "metadata": {},
     "output_type": "execute_result"
    }
   ],
   "source": [
    "mod2 = ElasticNet(alpha=0.00001, l1_ratio=0.8)\n",
    "mod2.fit(X_dev,y_dev)"
   ]
  },
  {
   "cell_type": "code",
   "execution_count": 213,
   "metadata": {},
   "outputs": [
    {
     "data": {
      "text/html": [
       "<div>\n",
       "<style scoped>\n",
       "    .dataframe tbody tr th:only-of-type {\n",
       "        vertical-align: middle;\n",
       "    }\n",
       "\n",
       "    .dataframe tbody tr th {\n",
       "        vertical-align: top;\n",
       "    }\n",
       "\n",
       "    .dataframe thead th {\n",
       "        text-align: right;\n",
       "    }\n",
       "</style>\n",
       "<table border=\"1\" class=\"dataframe\">\n",
       "  <thead>\n",
       "    <tr style=\"text-align: right;\">\n",
       "      <th></th>\n",
       "      <th>MAE</th>\n",
       "      <th>MSE</th>\n",
       "      <th>MSLE</th>\n",
       "      <th>RMSE</th>\n",
       "      <th>RMSLE</th>\n",
       "      <th>model</th>\n",
       "    </tr>\n",
       "  </thead>\n",
       "  <tbody>\n",
       "    <tr>\n",
       "      <th>0</th>\n",
       "      <td>0.188052</td>\n",
       "      <td>6.423739</td>\n",
       "      <td>0.000668</td>\n",
       "      <td>2.534510</td>\n",
       "      <td>0.025848</td>\n",
       "      <td>Elastic-Net-dev-before</td>\n",
       "    </tr>\n",
       "    <tr>\n",
       "      <th>1</th>\n",
       "      <td>0.227327</td>\n",
       "      <td>6.398530</td>\n",
       "      <td>0.000905</td>\n",
       "      <td>2.529532</td>\n",
       "      <td>0.030087</td>\n",
       "      <td>Elastic-Net-dev-after</td>\n",
       "    </tr>\n",
       "  </tbody>\n",
       "</table>\n",
       "</div>"
      ],
      "text/plain": [
       "        MAE       MSE      MSLE      RMSE     RMSLE                   model\n",
       "0  0.188052  6.423739  0.000668  2.534510  0.025848  Elastic-Net-dev-before\n",
       "1  0.227327  6.398530  0.000905  2.529532  0.030087   Elastic-Net-dev-after"
      ]
     },
     "execution_count": 213,
     "metadata": {},
     "output_type": "execute_result"
    }
   ],
   "source": [
    "pred2 = mod2.predict(X_dev)\n",
    "model_dict = {'model': \"Elastic-Net-dev-after\"}\n",
    "models_list = models_list.append({**model_dict, **regressionMetrics(y_dev, pred2)}, ignore_index=True)\n",
    "models_list"
   ]
  },
  {
   "cell_type": "code",
   "execution_count": 214,
   "metadata": {},
   "outputs": [
    {
     "data": {
      "text/html": [
       "<div>\n",
       "<style scoped>\n",
       "    .dataframe tbody tr th:only-of-type {\n",
       "        vertical-align: middle;\n",
       "    }\n",
       "\n",
       "    .dataframe tbody tr th {\n",
       "        vertical-align: top;\n",
       "    }\n",
       "\n",
       "    .dataframe thead th {\n",
       "        text-align: right;\n",
       "    }\n",
       "</style>\n",
       "<table border=\"1\" class=\"dataframe\">\n",
       "  <thead>\n",
       "    <tr style=\"text-align: right;\">\n",
       "      <th></th>\n",
       "      <th>max_visitors</th>\n",
       "      <th>avg_visitors</th>\n",
       "      <th>count_visitors</th>\n",
       "      <th>weekend_visitors</th>\n",
       "      <th>sum_visitors</th>\n",
       "    </tr>\n",
       "  </thead>\n",
       "  <tbody>\n",
       "    <tr>\n",
       "      <th>count</th>\n",
       "      <td>8457.000000</td>\n",
       "      <td>8457.000000</td>\n",
       "      <td>8457.000000</td>\n",
       "      <td>8457.000000</td>\n",
       "      <td>8457.000000</td>\n",
       "    </tr>\n",
       "    <tr>\n",
       "      <th>mean</th>\n",
       "      <td>34.803595</td>\n",
       "      <td>20.546766</td>\n",
       "      <td>6.492137</td>\n",
       "      <td>287.964172</td>\n",
       "      <td>144.036538</td>\n",
       "    </tr>\n",
       "    <tr>\n",
       "      <th>std</th>\n",
       "      <td>24.084217</td>\n",
       "      <td>12.728748</td>\n",
       "      <td>3.867326</td>\n",
       "      <td>369.325448</td>\n",
       "      <td>184.653175</td>\n",
       "    </tr>\n",
       "    <tr>\n",
       "      <th>min</th>\n",
       "      <td>1.000000</td>\n",
       "      <td>1.000000</td>\n",
       "      <td>1.000000</td>\n",
       "      <td>1.000000</td>\n",
       "      <td>1.000000</td>\n",
       "    </tr>\n",
       "    <tr>\n",
       "      <th>25%</th>\n",
       "      <td>19.000000</td>\n",
       "      <td>11.000000</td>\n",
       "      <td>6.000000</td>\n",
       "      <td>128.000000</td>\n",
       "      <td>64.000000</td>\n",
       "    </tr>\n",
       "    <tr>\n",
       "      <th>50%</th>\n",
       "      <td>31.000000</td>\n",
       "      <td>18.000000</td>\n",
       "      <td>6.000000</td>\n",
       "      <td>220.000000</td>\n",
       "      <td>110.000000</td>\n",
       "    </tr>\n",
       "    <tr>\n",
       "      <th>75%</th>\n",
       "      <td>46.000000</td>\n",
       "      <td>28.000000</td>\n",
       "      <td>7.000000</td>\n",
       "      <td>364.000000</td>\n",
       "      <td>182.000000</td>\n",
       "    </tr>\n",
       "    <tr>\n",
       "      <th>max</th>\n",
       "      <td>777.000000</td>\n",
       "      <td>131.000000</td>\n",
       "      <td>99.000000</td>\n",
       "      <td>10482.000000</td>\n",
       "      <td>5241.000000</td>\n",
       "    </tr>\n",
       "  </tbody>\n",
       "</table>\n",
       "</div>"
      ],
      "text/plain": [
       "       max_visitors  avg_visitors  count_visitors  weekend_visitors  \\\n",
       "count   8457.000000   8457.000000     8457.000000       8457.000000   \n",
       "mean      34.803595     20.546766        6.492137        287.964172   \n",
       "std       24.084217     12.728748        3.867326        369.325448   \n",
       "min        1.000000      1.000000        1.000000          1.000000   \n",
       "25%       19.000000     11.000000        6.000000        128.000000   \n",
       "50%       31.000000     18.000000        6.000000        220.000000   \n",
       "75%       46.000000     28.000000        7.000000        364.000000   \n",
       "max      777.000000    131.000000       99.000000      10482.000000   \n",
       "\n",
       "       sum_visitors  \n",
       "count   8457.000000  \n",
       "mean     144.036538  \n",
       "std      184.653175  \n",
       "min        1.000000  \n",
       "25%       64.000000  \n",
       "50%      110.000000  \n",
       "75%      182.000000  \n",
       "max     5241.000000  "
      ]
     },
     "execution_count": 214,
     "metadata": {},
     "output_type": "execute_result"
    }
   ],
   "source": [
    "df_test = pd.read_csv (r'C:\\Users\\elira\\DataScience\\projects\\project_DB_recruit_restaurant_visitor_forecasting\\Final_SQL&CSV\\test_dev_train\\test_data.csv')\n",
    "df_test.describe()"
   ]
  },
  {
   "cell_type": "code",
   "execution_count": 215,
   "metadata": {},
   "outputs": [],
   "source": [
    "X_test = df_test.drop(['sum_visitors'],axis=1).values\n",
    "y_test = df_test['sum_visitors']"
   ]
  },
  {
   "cell_type": "code",
   "execution_count": 216,
   "metadata": {},
   "outputs": [
    {
     "data": {
      "text/plain": [
       "ElasticNet(alpha=1e-05, l1_ratio=0.8)"
      ]
     },
     "execution_count": 216,
     "metadata": {},
     "output_type": "execute_result"
    }
   ],
   "source": [
    "mod3 = ElasticNet(alpha=0.00001, l1_ratio=0.8)\n",
    "mod3.fit(X_test,y_test)"
   ]
  },
  {
   "cell_type": "code",
   "execution_count": 217,
   "metadata": {},
   "outputs": [
    {
     "data": {
      "text/html": [
       "<div>\n",
       "<style scoped>\n",
       "    .dataframe tbody tr th:only-of-type {\n",
       "        vertical-align: middle;\n",
       "    }\n",
       "\n",
       "    .dataframe tbody tr th {\n",
       "        vertical-align: top;\n",
       "    }\n",
       "\n",
       "    .dataframe thead th {\n",
       "        text-align: right;\n",
       "    }\n",
       "</style>\n",
       "<table border=\"1\" class=\"dataframe\">\n",
       "  <thead>\n",
       "    <tr style=\"text-align: right;\">\n",
       "      <th></th>\n",
       "      <th>MAE</th>\n",
       "      <th>MSE</th>\n",
       "      <th>MSLE</th>\n",
       "      <th>RMSE</th>\n",
       "      <th>RMSLE</th>\n",
       "      <th>model</th>\n",
       "    </tr>\n",
       "  </thead>\n",
       "  <tbody>\n",
       "    <tr>\n",
       "      <th>0</th>\n",
       "      <td>0.188052</td>\n",
       "      <td>6.423739</td>\n",
       "      <td>0.000668</td>\n",
       "      <td>2.534510</td>\n",
       "      <td>0.025848</td>\n",
       "      <td>Elastic-Net-dev-before</td>\n",
       "    </tr>\n",
       "    <tr>\n",
       "      <th>1</th>\n",
       "      <td>0.227327</td>\n",
       "      <td>6.398530</td>\n",
       "      <td>0.000905</td>\n",
       "      <td>2.529532</td>\n",
       "      <td>0.030087</td>\n",
       "      <td>Elastic-Net-dev-after</td>\n",
       "    </tr>\n",
       "    <tr>\n",
       "      <th>2</th>\n",
       "      <td>0.208391</td>\n",
       "      <td>3.992582</td>\n",
       "      <td>0.000844</td>\n",
       "      <td>1.998145</td>\n",
       "      <td>0.029048</td>\n",
       "      <td>Elastic-Net-test</td>\n",
       "    </tr>\n",
       "  </tbody>\n",
       "</table>\n",
       "</div>"
      ],
      "text/plain": [
       "        MAE       MSE      MSLE      RMSE     RMSLE                   model\n",
       "0  0.188052  6.423739  0.000668  2.534510  0.025848  Elastic-Net-dev-before\n",
       "1  0.227327  6.398530  0.000905  2.529532  0.030087   Elastic-Net-dev-after\n",
       "2  0.208391  3.992582  0.000844  1.998145  0.029048        Elastic-Net-test"
      ]
     },
     "execution_count": 217,
     "metadata": {},
     "output_type": "execute_result"
    }
   ],
   "source": [
    "pred3 = mod3.predict(X_test)\n",
    "model_dict = {'model': \"Elastic-Net-test\"}\n",
    "models_list = models_list.append({**model_dict, **regressionMetrics(y_test, pred3)}, ignore_index=True)\n",
    "models_list"
   ]
  },
  {
   "cell_type": "code",
   "execution_count": 218,
   "metadata": {},
   "outputs": [
    {
     "data": {
      "text/plain": [
       "ElasticNet(alpha=0.5, l1_ratio=1)"
      ]
     },
     "execution_count": 218,
     "metadata": {},
     "output_type": "execute_result"
    }
   ],
   "source": [
    "mod4 = ElasticNet(alpha=0.5, l1_ratio=1)\n",
    "mod4.fit(X_test,y_test)"
   ]
  },
  {
   "cell_type": "code",
   "execution_count": 219,
   "metadata": {},
   "outputs": [
    {
     "data": {
      "text/html": [
       "<div>\n",
       "<style scoped>\n",
       "    .dataframe tbody tr th:only-of-type {\n",
       "        vertical-align: middle;\n",
       "    }\n",
       "\n",
       "    .dataframe tbody tr th {\n",
       "        vertical-align: top;\n",
       "    }\n",
       "\n",
       "    .dataframe thead th {\n",
       "        text-align: right;\n",
       "    }\n",
       "</style>\n",
       "<table border=\"1\" class=\"dataframe\">\n",
       "  <thead>\n",
       "    <tr style=\"text-align: right;\">\n",
       "      <th></th>\n",
       "      <th>MAE</th>\n",
       "      <th>MSE</th>\n",
       "      <th>MSLE</th>\n",
       "      <th>RMSE</th>\n",
       "      <th>RMSLE</th>\n",
       "      <th>model</th>\n",
       "    </tr>\n",
       "  </thead>\n",
       "  <tbody>\n",
       "    <tr>\n",
       "      <th>0</th>\n",
       "      <td>0.188052</td>\n",
       "      <td>6.423739</td>\n",
       "      <td>0.000668</td>\n",
       "      <td>2.534510</td>\n",
       "      <td>0.025848</td>\n",
       "      <td>Elastic-Net-dev-before</td>\n",
       "    </tr>\n",
       "    <tr>\n",
       "      <th>1</th>\n",
       "      <td>0.227327</td>\n",
       "      <td>6.398530</td>\n",
       "      <td>0.000905</td>\n",
       "      <td>2.529532</td>\n",
       "      <td>0.030087</td>\n",
       "      <td>Elastic-Net-dev-after</td>\n",
       "    </tr>\n",
       "    <tr>\n",
       "      <th>2</th>\n",
       "      <td>0.208391</td>\n",
       "      <td>3.992582</td>\n",
       "      <td>0.000844</td>\n",
       "      <td>1.998145</td>\n",
       "      <td>0.029048</td>\n",
       "      <td>Elastic-Net-test</td>\n",
       "    </tr>\n",
       "    <tr>\n",
       "      <th>3</th>\n",
       "      <td>0.154459</td>\n",
       "      <td>4.011216</td>\n",
       "      <td>0.000713</td>\n",
       "      <td>2.002802</td>\n",
       "      <td>0.026700</td>\n",
       "      <td>Elastic-Net-test_first_data</td>\n",
       "    </tr>\n",
       "  </tbody>\n",
       "</table>\n",
       "</div>"
      ],
      "text/plain": [
       "        MAE       MSE      MSLE      RMSE     RMSLE  \\\n",
       "0  0.188052  6.423739  0.000668  2.534510  0.025848   \n",
       "1  0.227327  6.398530  0.000905  2.529532  0.030087   \n",
       "2  0.208391  3.992582  0.000844  1.998145  0.029048   \n",
       "3  0.154459  4.011216  0.000713  2.002802  0.026700   \n",
       "\n",
       "                         model  \n",
       "0       Elastic-Net-dev-before  \n",
       "1        Elastic-Net-dev-after  \n",
       "2             Elastic-Net-test  \n",
       "3  Elastic-Net-test_first_data  "
      ]
     },
     "execution_count": 219,
     "metadata": {},
     "output_type": "execute_result"
    }
   ],
   "source": [
    "pred4 = mod4.predict(X_test)\n",
    "model_dict = {'model': \"Elastic-Net-test_first_data\"}\n",
    "models_list = models_list.append({**model_dict, **regressionMetrics(y_test, pred4)}, ignore_index=True)\n",
    "models_list"
   ]
  },
  {
   "cell_type": "markdown",
   "metadata": {},
   "source": [
    "# Final - Elastic-Net-dev-before"
   ]
  },
  {
   "cell_type": "code",
   "execution_count": 220,
   "metadata": {},
   "outputs": [
    {
     "data": {
      "text/html": [
       "<div>\n",
       "<style scoped>\n",
       "    .dataframe tbody tr th:only-of-type {\n",
       "        vertical-align: middle;\n",
       "    }\n",
       "\n",
       "    .dataframe tbody tr th {\n",
       "        vertical-align: top;\n",
       "    }\n",
       "\n",
       "    .dataframe thead th {\n",
       "        text-align: right;\n",
       "    }\n",
       "</style>\n",
       "<table border=\"1\" class=\"dataframe\">\n",
       "  <thead>\n",
       "    <tr style=\"text-align: right;\">\n",
       "      <th></th>\n",
       "      <th>MAE</th>\n",
       "      <th>MSE</th>\n",
       "      <th>MSLE</th>\n",
       "      <th>RMSE</th>\n",
       "      <th>RMSLE</th>\n",
       "      <th>model</th>\n",
       "    </tr>\n",
       "  </thead>\n",
       "  <tbody>\n",
       "    <tr>\n",
       "      <th>3</th>\n",
       "      <td>0.154459</td>\n",
       "      <td>4.011216</td>\n",
       "      <td>0.000713</td>\n",
       "      <td>2.002802</td>\n",
       "      <td>0.026700</td>\n",
       "      <td>Elastic-Net-test_first_data</td>\n",
       "    </tr>\n",
       "    <tr>\n",
       "      <th>0</th>\n",
       "      <td>0.188052</td>\n",
       "      <td>6.423739</td>\n",
       "      <td>0.000668</td>\n",
       "      <td>2.534510</td>\n",
       "      <td>0.025848</td>\n",
       "      <td>Elastic-Net-dev-before</td>\n",
       "    </tr>\n",
       "    <tr>\n",
       "      <th>2</th>\n",
       "      <td>0.208391</td>\n",
       "      <td>3.992582</td>\n",
       "      <td>0.000844</td>\n",
       "      <td>1.998145</td>\n",
       "      <td>0.029048</td>\n",
       "      <td>Elastic-Net-test</td>\n",
       "    </tr>\n",
       "    <tr>\n",
       "      <th>1</th>\n",
       "      <td>0.227327</td>\n",
       "      <td>6.398530</td>\n",
       "      <td>0.000905</td>\n",
       "      <td>2.529532</td>\n",
       "      <td>0.030087</td>\n",
       "      <td>Elastic-Net-dev-after</td>\n",
       "    </tr>\n",
       "  </tbody>\n",
       "</table>\n",
       "</div>"
      ],
      "text/plain": [
       "        MAE       MSE      MSLE      RMSE     RMSLE  \\\n",
       "3  0.154459  4.011216  0.000713  2.002802  0.026700   \n",
       "0  0.188052  6.423739  0.000668  2.534510  0.025848   \n",
       "2  0.208391  3.992582  0.000844  1.998145  0.029048   \n",
       "1  0.227327  6.398530  0.000905  2.529532  0.030087   \n",
       "\n",
       "                         model  \n",
       "3  Elastic-Net-test_first_data  \n",
       "0       Elastic-Net-dev-before  \n",
       "2             Elastic-Net-test  \n",
       "1        Elastic-Net-dev-after  "
      ]
     },
     "execution_count": 220,
     "metadata": {},
     "output_type": "execute_result"
    }
   ],
   "source": [
    "models_list.sort_values('MAE')"
   ]
  },
  {
   "cell_type": "code",
   "execution_count": 222,
   "metadata": {},
   "outputs": [
    {
     "name": "stderr",
     "output_type": "stream",
     "text": [
      "C:\\Users\\elira\\anaconda3\\lib\\site-packages\\seaborn\\_decorators.py:36: FutureWarning: Pass the following variables as keyword args: x, y. From version 0.12, the only valid positional argument will be `data`, and passing other arguments without an explicit keyword will result in an error or misinterpretation.\n",
      "  warnings.warn(\n"
     ]
    },
    {
     "data": {
      "text/plain": [
       "<AxesSubplot:xlabel='sum_visitors'>"
      ]
     },
     "execution_count": 222,
     "metadata": {},
     "output_type": "execute_result"
    },
    {
     "data": {
      "image/png": "[encoded data removed]",
      "text/plain": [
       "<Figure size 432x288 with 1 Axes>"
      ]
     },
     "metadata": {
      "needs_background": "light"
     },
     "output_type": "display_data"
    }
   ],
   "source": [
    "sns.scatterplot(y_test, pred4)"
   ]
  },
  {
   "cell_type": "code",
   "execution_count": null,
   "metadata": {},
   "outputs": [],
   "source": []
  },
  {
   "cell_type": "code",
   "execution_count": null,
   "metadata": {},
   "outputs": [],
   "source": []
  }
 ],
 "metadata": {
  "kernelspec": {
   "display_name": "Python 3",
   "language": "python",
   "name": "python3"
  },
  "language_info": {
   "codemirror_mode": {
    "name": "ipython",
    "version": 3
   },
   "file_extension": ".py",
   "mimetype": "text/x-python",
   "name": "python",
   "nbconvert_exporter": "python",
   "pygments_lexer": "ipython3",
   "version": "3.8.5"
  }
 },
 "nbformat": 4,
 "nbformat_minor": 2
}
